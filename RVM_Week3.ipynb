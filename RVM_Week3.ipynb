{
 "cells": [
  {
   "cell_type": "markdown",
   "metadata": {
    "id": "OwkdvS4Nd8ux"
   },
   "source": [
    "#**Week 3 - Convolutional Neural Networks** (~1 hr total)"
   ]
  },
  {
   "cell_type": "markdown",
   "metadata": {
    "id": "-Vsd23TK6NCp"
   },
   "source": [
    "## Part 0 - Setup (~1 min)\n",
    "Before you begin, please clone this notebook!\n",
    "\n",
    "**File > Save a copy in Drive**"
   ]
  },
  {
   "cell_type": "code",
   "execution_count": 1,
   "metadata": {
    "colab": {
     "base_uri": "https://localhost:8080/",
     "height": 54
    },
    "executionInfo": {
     "elapsed": 215660,
     "status": "ok",
     "timestamp": 1689337492785,
     "user": {
      "displayName": "Ruth Vilar",
      "userId": "17604228112721847304"
     },
     "user_tz": -120
    },
    "id": "oxAUjGRSbuTu",
    "outputId": "f43d53bb-9801-457f-c2d9-f0c0117bbb07"
   },
   "outputs": [
    {
     "name": "stdout",
     "output_type": "stream",
     "text": [
      "Mounted at /content/drive\n"
     ]
    },
    {
     "data": {
      "application/vnd.google.colaboratory.intrinsic+json": {
       "type": "string"
      },
      "text/plain": [
       "'⭐ Mounted successfully!'"
      ]
     },
     "metadata": {},
     "output_type": "display_data"
    }
   ],
   "source": [
    "from logging import exception\n",
    "#@title Step 1: Mount drive\n",
    "#@markdown Run this cell. If prompted, press \"Connect to Google Drive\" and select your Google account.\n",
    "#@markdown Then, under the folder icon 📁 on the left panel, you should see the folder **drive** appear.\n",
    "from google.colab import drive\n",
    "from IPython.display import display, Markdown, HTML\n",
    "import os, sys\n",
    "\n",
    "%load_ext autoreload\n",
    "%autoreload 2\n",
    "try:\n",
    "  drive.mount('/content/drive', force_remount=False)\n",
    "  sys.path.append('/content/drive/MyDrive/DLE-Jun23/Projects')\n",
    "  os.chdir('/content/drive/MyDrive/Colab Notebooks/')\n",
    "  display(\"⭐ Mounted successfully!\")\n",
    "except:\n",
    "  display(HTML('<span style=\"color:red\">An error occurred. Try again!</span>'))\n"
   ]
  },
  {
   "cell_type": "code",
   "execution_count": 2,
   "metadata": {
    "executionInfo": {
     "elapsed": 29144,
     "status": "ok",
     "timestamp": 1689337528322,
     "user": {
      "displayName": "Ruth Vilar",
      "userId": "17604228112721847304"
     },
     "user_tz": -120
    },
    "id": "0QlX3-fFmHLk"
   },
   "outputs": [],
   "source": [
    "#@title Step 2: Import packages\n",
    "\n",
    "%%capture\n",
    "%load_ext autoreload\n",
    "%autoreload 2\n",
    "\n",
    "!pip install gradio wandb fsspec dask[bag]\n",
    "from dle_utils.dle_utils import *\n",
    "from dle_utils.train import *\n",
    "\n",
    "%autoreload 2\n",
    "import gradio as gr\n",
    "import torch\n",
    "torch.backends.cudnn.benchmark = True\n",
    "import io\n",
    "import torch.nn as nn\n",
    "import math\n",
    "import numpy as np\n",
    "import matplotlib.pyplot as plt\n",
    "import wandb\n",
    "import pandas as pd\n",
    "from scipy.special import softmax\n",
    "from sklearn.metrics import accuracy_score, f1_score, classification_report\n",
    "import imageio\n",
    "import torchvision\n",
    "\n",
    "from torchvision import transforms, utils\n",
    "from PIL import Image\n",
    "import random\n",
    "np.random.seed(0)\n",
    "torch.manual_seed(0)"
   ]
  },
  {
   "cell_type": "code",
   "execution_count": null,
   "metadata": {
    "id": "sxYKrTzuer1C"
   },
   "outputs": [],
   "source": [
    "#@title Step 3: Enter your name to begin\n",
    "#@markdown Enter your name as it appears in Slack and run this cell!\n",
    "Name = ' ' #@param {type:\"string\"}\n",
    "filepath = '/content/drive/MyDrive/Colab Notebooks/dle_info.txt'\n",
    "if os.path.exists(filepath):\n",
    "  print(\"Success!\")\n",
    "else:\n",
    "  try:\n",
    "    with open(filepath, 'w') as fp:\n",
    "      fp.write(Name)\n",
    "      dle_username = Name\n",
    "    print(\"Success!\")\n",
    "  except:\n",
    "    print(\"Something went wrong...\")\n"
   ]
  },
  {
   "cell_type": "markdown",
   "metadata": {
    "id": "Lw_39UUTNaE5"
   },
   "source": [
    "# Welcome to Week 3!\n",
    "\n",
    "This week, we'll be using our knowledge of building and training neural networks toward computer vision!\n",
    "\n",
    "## Overview of Week 3\n",
    "\n",
    "1. Building blocks (Convolutions, Pooling Layers)\n",
    "  - First, you will be exploring the convolutional operation in PyTorch. Here, you'll get hands-on intuition for what happens under the hood of a Convolutional layer.\n",
    "2. Convolutional neural networks\n",
    "  - Building upon our model training and evaluation experience from Week 1, you will write, train, and evaluate your own convolutional neural network.\n",
    "  - You will visualize your model outputs as embeddings.\n",
    "4. CNN Model Zoo\n",
    "  - Finally, you will experiment with different vision models and compare how they perform to your \"vanilla\" CNN! Some examples include:\n",
    "    - ResNet18\n",
    "    - RCNN\n",
    "    - Vision Transformers"
   ]
  },
  {
   "cell_type": "markdown",
   "metadata": {
    "id": "BLtTBQMPPApW"
   },
   "source": [
    "# Part 1: Basics of CNNs"
   ]
  },
  {
   "cell_type": "markdown",
   "metadata": {
    "id": "LAKS8J4PQ85Z"
   },
   "source": [
    "## Step 1: The Convolutional Layer\n",
    "\n",
    "Convolutional Neural Networks (CNNs) are the model of choice for most computer vision tasks, and they are behind the massive advances made in AI over the last 10 years. At the very core of CNNs are the convolutional layer. When you think of CNNs, you can think of many stacked convolutional layers.\n",
    "\n",
    "<img src=\"https://drive.google.com/uc?id=1iDkeAz-6Z0sysulWA3wvNid3AO0yayJR\" width=\"600\">\n",
    "\n",
    "In this first part, we will be probing into the convolutional layer. The goal here is to develop a deeper intuition for how and why they work!\n",
    "\n",
    "To implement a convolutional layer in PyTorch, just use ```nn.Conv2d()```.\n",
    "\n",
    "Read the documentation for this layer [here](https://pytorch.org/docs/stable/generated/torch.nn.Conv2d.html) and implement a 2D convolutional layer with 1 input channel, 3 output channel, and a 5x5 kernel:\n",
    "\n",
    "\n"
   ]
  },
  {
   "cell_type": "code",
   "execution_count": null,
   "metadata": {
    "colab": {
     "base_uri": "https://localhost:8080/",
     "height": 83
    },
    "executionInfo": {
     "elapsed": 906,
     "status": "ok",
     "timestamp": 1689093568816,
     "user": {
      "displayName": "Ruth Vilar",
      "userId": "17604228112721847304"
     },
     "user_tz": -120
    },
    "id": "sP0JEoEoFyFg",
    "outputId": "8160d70b-177b-4997-b5b7-b7fd4b87fdaa"
   },
   "outputs": [
    {
     "name": "stdout",
     "output_type": "stream",
     "text": [
      "Error: Please set your name first!\n"
     ]
    },
    {
     "data": {
      "text/markdown": [
       "## Correct! 🎉"
      ],
      "text/plain": [
       "<IPython.core.display.Markdown object>"
      ]
     },
     "execution_count": 3,
     "metadata": {},
     "output_type": "execute_result"
    }
   ],
   "source": [
    "# TODO: Implement a 2D convolutional layer with 1 input channel, 3 output channel, and a 5x5 kernel\n",
    "\n",
    "conv_layer = nn.Conv2d(1,3,(5,5))\n",
    "\n",
    "check('3.1.1', conv_layer)"
   ]
  },
  {
   "cell_type": "markdown",
   "metadata": {
    "id": "8V7TIlGxkqzm"
   },
   "source": [
    "Let's investigate this layer!\n",
    "\n",
    "First, we will look at the weights. In the cell below, store and print the shape of ```conv_layer```'s weights."
   ]
  },
  {
   "cell_type": "code",
   "execution_count": null,
   "metadata": {
    "colab": {
     "base_uri": "https://localhost:8080/",
     "height": 83
    },
    "executionInfo": {
     "elapsed": 1518,
     "status": "ok",
     "timestamp": 1689093681829,
     "user": {
      "displayName": "Ruth Vilar",
      "userId": "17604228112721847304"
     },
     "user_tz": -120
    },
    "id": "LUkTpO2JksSI",
    "outputId": "f906953e-108f-4d82-ad8c-b4786e882640"
   },
   "outputs": [
    {
     "name": "stdout",
     "output_type": "stream",
     "text": [
      "torch.Size([3, 1, 5, 5])\n"
     ]
    },
    {
     "data": {
      "text/markdown": [
       "## Correct! 🎉"
      ],
      "text/plain": [
       "<IPython.core.display.Markdown object>"
      ]
     },
     "execution_count": 4,
     "metadata": {},
     "output_type": "execute_result"
    }
   ],
   "source": [
    "# TODO: Compute and print the shape of the weights of conv_layer\n",
    "\n",
    "weights_shape = conv_layer.weight.shape\n",
    "print(weights_shape)\n",
    "check('3.1.2', weights_shape)"
   ]
  },
  {
   "cell_type": "code",
   "execution_count": null,
   "metadata": {
    "cellView": "form",
    "colab": {
     "base_uri": "https://localhost:8080/",
     "height": 106
    },
    "executionInfo": {
     "elapsed": 1061,
     "status": "ok",
     "timestamp": 1689093751987,
     "user": {
      "displayName": "Ruth Vilar",
      "userId": "17604228112721847304"
     },
     "user_tz": -120
    },
    "id": "EurfN8Q_kt-N",
    "outputId": "795ddf92-00ea-4a8f-f165-d04dff3e402c"
   },
   "outputs": [
    {
     "data": {
      "text/markdown": [
       "\n",
       "  ### ***Correct! 🎉***\n",
       "  There are four dimensions to the weights of a convolutional layer:\n",
       "\n",
       "  The first dimension is the number of output channels, the second dimension is the number of input channels, and the last two dimensions are the kernel size.\n",
       "  "
      ],
      "text/plain": [
       "<IPython.core.display.Markdown object>"
      ]
     },
     "metadata": {},
     "output_type": "display_data"
    }
   ],
   "source": [
    "from IPython.display import display, Markdown\n",
    "#@title Pop Quiz! { vertical-output: true, form-width: \"500px\" }\n",
    "#@markdown\n",
    "#@markdown #####  Without writing any code, what is the first dimension of the following layer's weights? (Or in Python, the 0th)\n",
    "#@markdown ```nn.Conv2d(32, 64, 7)```\n",
    "\n",
    "Answer =  64#@param {type:\"integer\"}\n",
    "\n",
    "#@markdown (Run cell to submit.)\n",
    "\n",
    "if Answer == 64:\n",
    "  display(Markdown('''\n",
    "  ### ***Correct! 🎉***\n",
    "  There are four dimensions to the weights of a convolutional layer:\n",
    "\n",
    "  The first dimension is the number of output channels, the second dimension is the number of input channels, and the last two dimensions are the kernel size.\n",
    "  '''))\n",
    "else:\n",
    "  display(Markdown('### Answer is incorrect, try again!'))"
   ]
  },
  {
   "cell_type": "markdown",
   "metadata": {
    "id": "LPFHajgnkv8f"
   },
   "source": [
    "Next, let's feed data through this layer to see what it does to it.\n",
    "\n",
    "Notice that we'll need to add a \"channel\" dimension to an image in order to feed it through the layer.\n",
    "\n",
    "In the cell below, create a PyTorch tensor with dimensions (1, 64, 64) and print out the dimensions of the output from the layer."
   ]
  },
  {
   "cell_type": "code",
   "execution_count": null,
   "metadata": {
    "colab": {
     "base_uri": "https://localhost:8080/",
     "height": 83
    },
    "executionInfo": {
     "elapsed": 2244,
     "status": "ok",
     "timestamp": 1689093979952,
     "user": {
      "displayName": "Ruth Vilar",
      "userId": "17604228112721847304"
     },
     "user_tz": -120
    },
    "id": "n0aGFL6jGCR2",
    "outputId": "79f9fe05-a017-4213-c07e-a31e0f6de30a"
   },
   "outputs": [
    {
     "name": "stdout",
     "output_type": "stream",
     "text": [
      "torch.Size([3, 60, 60])\n"
     ]
    },
    {
     "data": {
      "text/markdown": [
       "## Correct! 🎉"
      ],
      "text/plain": [
       "<IPython.core.display.Markdown object>"
      ]
     },
     "execution_count": 6,
     "metadata": {},
     "output_type": "execute_result"
    }
   ],
   "source": [
    "# TODO: Create input -- PyTorch tensor of zeros with dimension (1, 64, 64)\n",
    "input_image = torch.zeros(1,64,64)\n",
    "\n",
    "# TODO: Feed it through conv_layer\n",
    "conv_output = conv_layer(input_image)\n",
    "\n",
    "# TODO: Print the shape of conv_output\n",
    "print(conv_output.shape)\n",
    "\n",
    "check('3.1.3', conv_output)"
   ]
  },
  {
   "cell_type": "markdown",
   "metadata": {
    "id": "nDcoP-Gpky_E"
   },
   "source": [
    "Notice that the shape of the image has changed!\n",
    "\n",
    "It went from one \"slice\" of a 64x64 image to three \"slices\" of 60x60.\n",
    "\n",
    "So what happened?\n",
    "\n",
    "The convolutional operation cuts off part of the edges of the input image (this was covered in the lecture slides). Additionally, it creates three copies of the input image and performs separate convolutional operations on each of these copies according to different kernels (remember we had 3 5x5 kernels from the weights)."
   ]
  },
  {
   "cell_type": "code",
   "execution_count": null,
   "metadata": {
    "colab": {
     "base_uri": "https://localhost:8080/",
     "height": 58
    },
    "executionInfo": {
     "elapsed": 473,
     "status": "ok",
     "timestamp": 1689094519197,
     "user": {
      "displayName": "Ruth Vilar",
      "userId": "17604228112721847304"
     },
     "user_tz": -120
    },
    "id": "AwUEPizlk0bw",
    "outputId": "e1f8e732-af84-44f4-a504-90e6ae9e254f"
   },
   "outputs": [
    {
     "data": {
      "text/markdown": [
       "\n",
       "  ### ***Correct!*** 🎉\n",
       "  "
      ],
      "text/plain": [
       "<IPython.core.display.Markdown object>"
      ]
     },
     "metadata": {},
     "output_type": "display_data"
    }
   ],
   "source": [
    "from IPython.display import display, Markdown\n",
    "#@title Pop Quiz! { vertical-output: true, form-width: \"500px\" }\n",
    "#@markdown\n",
    "#@markdown Without running the code below, what will the last line return?\n",
    "\n",
    "#@markdown ```input_x = torch.Tensor(64, 124, 124)```\n",
    "\n",
    "#@markdown ```layer = nn.Conv2d(64, 128, 5)```\n",
    "\n",
    "#@markdown ```print(layer(input_x).size())```\n",
    "try:\n",
    "  Answer = torch.Size([128, 120, 120]) #@param {type:\"raw\"}\n",
    "except:\n",
    "  display(Markdown('### Answer is incorrect, try again!'))\n",
    "#@markdown (Run cell to submit.)\n",
    "\n",
    "if Answer == torch.Size([128, 120, 120]):\n",
    "  display(Markdown('''\n",
    "  ### ***Correct!*** 🎉\n",
    "  '''))\n",
    "else:\n",
    "  display(Markdown('''\n",
    "  ### Answer is incorrect, try again!\n",
    "  Hint: The convolutional layer \"shaves off\" 4 pixels off each side of the input image.\n",
    "\n",
    "  An image with $n$ pixels on each side will have ($n-$ kernel_size $+1$) after passing through a convolutional layer.\n",
    "\n",
    "  (One day, someone might ask you this in a job interview and you'll be happy to know this 😀)\n",
    "  '''))"
   ]
  },
  {
   "cell_type": "markdown",
   "metadata": {
    "id": "ITeEQm5Wk2z2"
   },
   "source": [
    "Next, let's see how the convolutional layers actually work! (It's kind of neat)\n",
    "\n",
    "To do this, we will be manually specifying the weights of ```conv_layer```.\n",
    "\n",
    "In the cell below, set the weights as the three matrices described and zero out the bias."
   ]
  },
  {
   "cell_type": "markdown",
   "metadata": {
    "id": "j2nAgqoSuuC7"
   },
   "source": [
    "**TODO: First, create three PyTorch tensors:**\n",
    "\n",
    "1. A 5x5 tensor that contains 1 on the 3rd column and zeros elsewhere:\n",
    "```\n",
    "    0  0  1  0  0\n",
    "    0  0  1  0  0\n",
    "    0  0  1  0  0\n",
    "    0  0  1  0  0\n",
    "    0  0  1  0  0\n",
    "```\n",
    "2. A 5x5 tensor that contains 1 on the 3rd row and zeros elsewhere:\n",
    "```\n",
    "    0  0  0  0  0\n",
    "    0  0  0  0  0\n",
    "    1  1  1  1  1\n",
    "    0  0  0  0  0\n",
    "    0  0  0  0  0\n",
    "```\n",
    "3. A 5x5 tensor that has 1s on the diagonal and zeros elsewhere:\n",
    "```\n",
    "    1  0  0  0  0\n",
    "    0  1  0  0  0\n",
    "    0  0  1  0  0\n",
    "    0  0  0  1  0\n",
    "    0  0  0  0  1\n",
    "```\n",
    "\n",
    "**Hint**: There may be multiple ways to accomplish this! Can you generate these tensors using convenient PyTorch functions?"
   ]
  },
  {
   "cell_type": "code",
   "execution_count": null,
   "metadata": {
    "id": "6WZwTDVhGme3"
   },
   "outputs": [],
   "source": [
    "filter_1 = torch.zeros(5, 5)\n",
    "filter_1[:,2]=1\n",
    "\n",
    "filter_2 = torch.zeros(5, 5)\n",
    "filter_2[2,:]=1\n",
    "\n",
    "filter_3 = torch.eye(5)"
   ]
  },
  {
   "cell_type": "markdown",
   "metadata": {
    "id": "LD18ZyrQvazv"
   },
   "source": [
    "**TODO**: Next, using your PyTorch tensor manipulation prowess, find a way to set these three filters as the weights of `conv_layer`.\n",
    "\n",
    "Hint: you will need to turn off gradient calculation for this weight before modifying the weights (use `conv_layer.weight.requires_grad = False`).\n"
   ]
  },
  {
   "cell_type": "code",
   "execution_count": null,
   "metadata": {
    "colab": {
     "base_uri": "https://localhost:8080/"
    },
    "executionInfo": {
     "elapsed": 474,
     "status": "ok",
     "timestamp": 1689096264086,
     "user": {
      "displayName": "Ruth Vilar",
      "userId": "17604228112721847304"
     },
     "user_tz": -120
    },
    "id": "mZM0mhIDw9Rx",
    "outputId": "27c59ae7-588e-4f18-893a-7bc1ccff2da4"
   },
   "outputs": [
    {
     "name": "stdout",
     "output_type": "stream",
     "text": [
      "torch.Size([3, 1, 5, 5])\n"
     ]
    },
    {
     "data": {
      "text/plain": [
       "Parameter containing:\n",
       "tensor([[[[0., 0., 1., 0., 0.],\n",
       "          [0., 0., 1., 0., 0.],\n",
       "          [0., 0., 1., 0., 0.],\n",
       "          [0., 0., 1., 0., 0.],\n",
       "          [0., 0., 1., 0., 0.]]],\n",
       "\n",
       "\n",
       "        [[[0., 0., 0., 0., 0.],\n",
       "          [0., 0., 0., 0., 0.],\n",
       "          [1., 1., 1., 1., 1.],\n",
       "          [0., 0., 0., 0., 0.],\n",
       "          [0., 0., 0., 0., 0.]]],\n",
       "\n",
       "\n",
       "        [[[1., 0., 0., 0., 0.],\n",
       "          [0., 1., 0., 0., 0.],\n",
       "          [0., 0., 1., 0., 0.],\n",
       "          [0., 0., 0., 1., 0.],\n",
       "          [0., 0., 0., 0., 1.]]]], requires_grad=True)"
      ]
     },
     "execution_count": 17,
     "metadata": {},
     "output_type": "execute_result"
    }
   ],
   "source": [
    "# disable gradient calculation\n",
    "conv_layer.weight.requires_grad = False\n",
    "\n",
    "# then, set each of the three filters in conv_layer.weight:\n",
    "filters=torch.stack((filter_1,filter_2,filter_3)).unsqueeze(1)\n",
    "print(filters.shape)\n",
    "\n",
    "with torch.no_grad():\n",
    "  conv_layer.weight = nn.parameter.Parameter(filters)\n",
    "conv_layer.weight"
   ]
  },
  {
   "cell_type": "markdown",
   "metadata": {
    "id": "ipn08_yCw9oQ"
   },
   "source": [
    "**TODO**: Finally, set all the values of the bias to zero.\n",
    "\n",
    "Hints: Create a PyTorch tensor of size (3) with zeros. Then, wrap it in a `torch.nn.Parameter` object. Like before, remember to turn off gradients!"
   ]
  },
  {
   "cell_type": "code",
   "execution_count": null,
   "metadata": {
    "id": "RrSBv-PKxDbN"
   },
   "outputs": [],
   "source": [
    "conv_layer.bias.requires_grad = False\n",
    "conv_layer.bias = torch.nn.Parameter(torch.zeros(3))\n"
   ]
  },
  {
   "cell_type": "code",
   "execution_count": null,
   "metadata": {
    "colab": {
     "base_uri": "https://localhost:8080/",
     "height": 64
    },
    "executionInfo": {
     "elapsed": 2031,
     "status": "ok",
     "timestamp": 1689096296600,
     "user": {
      "displayName": "Ruth Vilar",
      "userId": "17604228112721847304"
     },
     "user_tz": -120
    },
    "id": "yRfA4XjXIoPr",
    "outputId": "4f364253-6439-42eb-b09e-6907b29ab631"
   },
   "outputs": [
    {
     "data": {
      "text/markdown": [
       "## Correct! 🎉"
      ],
      "text/plain": [
       "<IPython.core.display.Markdown object>"
      ]
     },
     "execution_count": 19,
     "metadata": {},
     "output_type": "execute_result"
    }
   ],
   "source": [
    "#@markdown ### Run this cell to check your answer!\n",
    "check('3.1.4', conv_layer)\n",
    "# check_answer(all(np.linalg.eig(conv_layer.weight[0][0].detach().numpy())[0]==[0., 0., 0., 0., 1.]) and \\\n",
    "#              all(np.linalg.eig(conv_layer.weight[1][0].detach().numpy())[0] == [1., 0., 0., 0., 0.]) and \\\n",
    "#              all(np.linalg.eig(conv_layer.weight[2][0].detach().numpy())[0] == [1., 1., 1., 1., 1.]))"
   ]
  },
  {
   "cell_type": "markdown",
   "metadata": {
    "id": "7vw36KIwk7TM"
   },
   "source": [
    "Now that we've set up our own convolutional layer, let's see how it works!\n",
    "\n",
    "**TODO**: Run the cell below.\n",
    "\n",
    "In the sketchpad, draw any shape (start with a circle). This is just intuition building for you -- notice what parts of the shape are highlighted for each filter.\n",
    "\n",
    "Remember, the first filter is a vertical line, the second is a horizontal line, and the third is a diagonal.\n",
    "\n",
    "If you did the above correctly, then you should be able to just press run on the demo below!\n",
    "\n",
    "**Hint**: If the demo is hanging, there might be a bug! Stop the cell and debug and try again."
   ]
  },
  {
   "cell_type": "code",
   "execution_count": null,
   "metadata": {
    "colab": {
     "base_uri": "https://localhost:8080/",
     "height": 637
    },
    "executionInfo": {
     "elapsed": 80750,
     "status": "ok",
     "timestamp": 1689096425110,
     "user": {
      "displayName": "Ruth Vilar",
      "userId": "17604228112721847304"
     },
     "user_tz": -120
    },
    "id": "M7lvWhJyk88M",
    "outputId": "168c3ee9-13ed-46fa-eafe-d6d9b204ee0b"
   },
   "outputs": [
    {
     "name": "stdout",
     "output_type": "stream",
     "text": [
      "Colab notebook detected. This cell will run indefinitely so that you can see errors and logs. To turn off, set debug=False in launch().\n",
      "Note: opening Chrome Inspector may crash demo inside Colab notebooks.\n",
      "\n",
      "To create a public link, set `share=True` in `launch()`.\n"
     ]
    },
    {
     "data": {
      "application/javascript": [
       "(async (port, path, width, height, cache, element) => {\n",
       "                        if (!google.colab.kernel.accessAllowed && !cache) {\n",
       "                            return;\n",
       "                        }\n",
       "                        element.appendChild(document.createTextNode(''));\n",
       "                        const url = await google.colab.kernel.proxyPort(port, {cache});\n",
       "\n",
       "                        const external_link = document.createElement('div');\n",
       "                        external_link.innerHTML = `\n",
       "                            <div style=\"font-family: monospace; margin-bottom: 0.5rem\">\n",
       "                                Running on <a href=${new URL(path, url).toString()} target=\"_blank\">\n",
       "                                    https://localhost:${port}${path}\n",
       "                                </a>\n",
       "                            </div>\n",
       "                        `;\n",
       "                        element.appendChild(external_link);\n",
       "\n",
       "                        const iframe = document.createElement('iframe');\n",
       "                        iframe.src = new URL(path, url).toString();\n",
       "                        iframe.height = height;\n",
       "                        iframe.allow = \"autoplay; camera; microphone; clipboard-read; clipboard-write;\"\n",
       "                        iframe.width = width;\n",
       "                        iframe.style.border = 0;\n",
       "                        element.appendChild(iframe);\n",
       "                    })(7860, \"/\", \"100%\", 500, false, window.element)"
      ],
      "text/plain": [
       "<IPython.core.display.Javascript object>"
      ]
     },
     "metadata": {},
     "output_type": "display_data"
    },
    {
     "name": "stdout",
     "output_type": "stream",
     "text": [
      "Keyboard interruption in main thread... closing server.\n"
     ]
    }
   ],
   "source": [
    "def get_filters(image):\n",
    "    if image is None: return\n",
    "    image = 1. - image / 255.\n",
    "    pt_input = torch.Tensor(image).view(1, 1, image.shape[0], image.shape[1])\n",
    "    conv_output = conv_layer(pt_input).detach().numpy()[0]\n",
    "    num_filters = conv_output.shape[0]\n",
    "    fig, axes = plt.subplots(1, num_filters)\n",
    "    fig.set_size_inches(8, 4)\n",
    "    fig.tight_layout(pad=0.5)\n",
    "\n",
    "    for i in range(num_filters):\n",
    "        ax = axes[i]\n",
    "        ax.axes.xaxis.set_visible(False)\n",
    "        ax.axes.yaxis.set_visible(False)\n",
    "        ax.imshow(conv_output[i], cmap='seismic_r')\n",
    "        ax.title.set_text(f'Convolution w/ \\n filter {i+1}')\n",
    "\n",
    "    fig.canvas.draw()\n",
    "    data = np.frombuffer(fig.canvas.tostring_rgb(), dtype=np.uint8)\n",
    "    data = data.reshape(fig.canvas.get_width_height()[::-1] + (3,))\n",
    "    plt.close()\n",
    "\n",
    "    return data\n",
    "\n",
    "see_filters = gr.Interface(get_filters, inputs='sketchpad', outputs='image', live=True).launch(debug=True)"
   ]
  },
  {
   "cell_type": "markdown",
   "metadata": {
    "id": "14d9a_j0k_SU"
   },
   "source": [
    "Great 🎉 ! Hopefully, you will see that the reason why kernels work is because they highlight different features in the image, depending on what the values are!"
   ]
  },
  {
   "cell_type": "markdown",
   "metadata": {
    "id": "Uwps0P_Uyh0b"
   },
   "source": [
    "### Bonus steps!\n",
    "\n",
    "Here are a few things you can try to gain a greater understanding of what the convolutional filters are doing:\n",
    "\n",
    "1. See what happens when you draw something on the border. The output of the convolutional layer seems to get cut off! This is partially due to the fact that the image shrinks. In defining the Conv2d layer, there is a parameter called ```padding```. Setting ```padding='same'``` will add zeros to the input before passing it through. Add this parameter in and see if this helps when you are drawing things near the border!\n",
    "\n",
    "2. Are there other types of filters you can think of that show distinct patterns when used? Feel free to go back to the previous cells to change them around.\n",
    "\n",
    "3. Try changing the size of the kernel to 3 or 7. How do the output images look?"
   ]
  },
  {
   "cell_type": "markdown",
   "metadata": {
    "id": "QDkahoaJTnUg"
   },
   "source": [
    "## Step 2: Pooling layers\n",
    "\n",
    "Pooling layers are commonly combined with convolutional layers to improve model efficiency and power. Let's gain some intuition on what's going on when we use a pooling layer.\n",
    "\n",
    "PyTorch has two types of pooling layers: [`MaxPool2d`](https://pytorch.org/docs/stable/generated/torch.nn.MaxPool2d.html), and [`AvgPool2d`](https://pytorch.org/docs/stable/generated/torch.nn.AvgPool2d.html). Each takes a parameter, `kernel_size`, which determines by what factor to pool the image by.\n",
    "\n",
    "Visualize the following puppy below:"
   ]
  },
  {
   "cell_type": "code",
   "execution_count": null,
   "metadata": {
    "colab": {
     "base_uri": "https://localhost:8080/"
    },
    "executionInfo": {
     "elapsed": 1796,
     "status": "ok",
     "timestamp": 1689096534754,
     "user": {
      "displayName": "Ruth Vilar",
      "userId": "17604228112721847304"
     },
     "user_tz": -120
    },
    "id": "war8euu3LFXw",
    "outputId": "659336e3-1d9a-4cb6-d084-a45e45f774d7"
   },
   "outputs": [
    {
     "name": "stderr",
     "output_type": "stream",
     "text": [
      "<ipython-input-21-df8f91f2a0cf>:2: DeprecationWarning: Starting with ImageIO v3 the behavior of this function will switch to that of iio.v3.imread. To keep the current behavior (and make this warning disappear) use `import imageio.v2 as imageio` or call `imageio.v2.imread` directly.\n",
      "  img = torch.tensor(imageio.imread('/content/drive/My Drive/DLE-Jun23/Projects/dle_utils/puppy.jpeg')).permute(2, 0, 1)/255.\n"
     ]
    }
   ],
   "source": [
    "# The image is loaded into img\n",
    "img = torch.tensor(imageio.imread('/content/drive/My Drive/DLE-Jun23/Projects/dle_utils/puppy.jpeg')).permute(2, 0, 1)/255.\n",
    "\n",
    "plt.imshow(img.permute(1, 2, 0))\n",
    "plt.show()\n",
    "# Note: permute() moves the channel dimension to end.\n",
    "# We do this to follow Matplotlib convention of \"channels last\", while PyTorch is \"channels first\""
   ]
  },
  {
   "cell_type": "markdown",
   "metadata": {
    "id": "XLWZd41W3aFf"
   },
   "source": [
    "**TODO**: Given the image in ```img```, visualize the images that are outputted by 1) average pooling, and 2) max pooling. For both, use a kernel size of 8."
   ]
  },
  {
   "cell_type": "code",
   "execution_count": null,
   "metadata": {
    "colab": {
     "base_uri": "https://localhost:8080/",
     "height": 64
    },
    "executionInfo": {
     "elapsed": 1693,
     "status": "ok",
     "timestamp": 1689096765013,
     "user": {
      "displayName": "Ruth Vilar",
      "userId": "17604228112721847304"
     },
     "user_tz": -120
    },
    "id": "RpGZIOuw3VIk",
    "outputId": "15a3efad-241e-4bd3-bca4-81fb389fd3ab"
   },
   "outputs": [
    {
     "data": {
      "text/markdown": [
       "## Correct! 🎉"
      ],
      "text/plain": [
       "<IPython.core.display.Markdown object>"
      ]
     },
     "execution_count": 22,
     "metadata": {},
     "output_type": "execute_result"
    }
   ],
   "source": [
    "\n",
    "# TODO: Create a nn.AvgPool2d() layer with kernel size of 8 and apply it to the image.\n",
    "avg_pool = nn.AvgPool2d(kernel_size=8)\n",
    "# TODO: Visualize the image.\n",
    "plt.imshow(avg_pool(img).permute(1,2,0).numpy())\n",
    "plt.show()\n",
    "\n",
    "# TODO: Do the same with a nn.MaxPool2d layer of kernel size of 8.\n",
    "max_pool = nn.MaxPool2d(kernel_size=8)\n",
    "plt.imshow(max_pool(img).permute(1,2,0).numpy())\n",
    "plt.show()\n",
    "\n",
    "check('3.1.5', [avg_pool, max_pool])\n"
   ]
  },
  {
   "cell_type": "markdown",
   "metadata": {
    "id": "8j9R7pDLH9DF"
   },
   "source": [
    "As you'll notice, both layers accomplish similar tasks -- reducing the dimension of the image while preserving the general gist of it!\n",
    "\n",
    "Can you think of some differences in the image and how taking average would be different than taking a max?"
   ]
  },
  {
   "cell_type": "markdown",
   "metadata": {
    "id": "5Zi8VO1EbMXt"
   },
   "source": [
    "# Part 2: Putting It Together\n",
    "\n",
    "Now we know how convolutional filters work! Let's use this to create full-scale CNNs."
   ]
  },
  {
   "cell_type": "markdown",
   "metadata": {
    "id": "m2ZbbRGURBQi"
   },
   "source": [
    "## Step 1: Convolutional Neural networks\n",
    "\n",
    "Our goal this week is to *improve* the model that you trained in Week 1, this time with convolutional layers.\n",
    "\n",
    "Notice that in Week 1, all of our neural network training was performed on the CPU. This week, as we scale up the size of our models, we will harness the power of GPUs!\n",
    "\n",
    "PyTorch makes this simple to do. In order to train on GPUs, PyTorch needs to first know the name of the GPU device we hope to train on. This is done by:\n",
    "\n",
    "    device = torch.device('cuda')\n",
    "\n",
    "*Cuda* is the name of the library that performs neural network operations on the GPU. Now, we use the `device` variable to send *1) data* and *2) weights* to the GPU. We can do this with the `.to(device)` call.\n",
    "\n",
    "For instance, to send a PyTorch Tensor `x` to GPU, do:\n",
    "\n",
    "    x.to(device)\n",
    "\n",
    "Below, we have included a reference implementation of the `EmojiDataset` class that you completed in Week 1, along with the data sets and data loaders.\n",
    "\n",
    "**TODO**: First, in the `__getitem__` method, reshape the input tensor x to (1, 28, 28). Then, send the `x` and `y` variables to GPU."
   ]
  },
  {
   "cell_type": "code",
   "execution_count": 3,
   "metadata": {
    "executionInfo": {
     "elapsed": 380,
     "status": "ok",
     "timestamp": 1689337567283,
     "user": {
      "displayName": "Ruth Vilar",
      "userId": "17604228112721847304"
     },
     "user_tz": -120
    },
    "id": "L8VW6wjFM0bf"
   },
   "outputs": [],
   "source": [
    "device = torch.device('cuda')\n",
    "\n",
    "class EmojiDataset(torch.utils.data.Dataset):\n",
    "    def __init__(self):\n",
    "        super().__init__()\n",
    "        self.class_names = list(DOODLE_TO_EMOJI_MAP.keys())\n",
    "        self.num_classes = 10\n",
    "\n",
    "        self.X = np.load('/content/drive/My Drive/DLE-Jun23/Projects/dle_utils/emoji_data/emoji_X.npy')\n",
    "        self.Y = np.load('/content/drive/My Drive/DLE-Jun23/Projects/dle_utils/emoji_data/emoji_y.npy')\n",
    "\n",
    "    def __getitem__(self, idx):\n",
    "\n",
    "        # reshape x to (1,28,28)\n",
    "        x = (self.X[idx] / 255.).astype(np.float32).reshape(1,28,28)\n",
    "        y = self.Y[idx]\n",
    "        x = torch.from_numpy(x)\n",
    "        y = torch.tensor(y.item())\n",
    "\n",
    "        # TODO: send x and y to the GPU\n",
    "        return x.to(device), y.to(device)\n",
    "\n",
    "    def __len__(self):\n",
    "        len_X = len(self.X)\n",
    "        return len_X\n",
    "\n",
    "    def split(self, pct=0.1):\n",
    "        # Nothing to do here, this function just splits your data\n",
    "        torch.manual_seed(0)\n",
    "        indices = torch.randperm(len(self)).tolist()\n",
    "        n_pct = int(np.floor(len(indices) * pct))\n",
    "        train_ds = torch.utils.data.Subset(self, indices[:-(2*n_pct)])\n",
    "        val_ds = torch.utils.data.Subset(self, indices[-(2*n_pct):-n_pct])\n",
    "        test_ds = torch.utils.data.Subset(self, indices[-n_pct:])\n",
    "        return train_ds, val_ds, test_ds\n"
   ]
  },
  {
   "cell_type": "markdown",
   "metadata": {
    "id": "quSuUVG02Ytd"
   },
   "source": [
    " Then, run the cell to instantiate the data sets and data loaders."
   ]
  },
  {
   "cell_type": "code",
   "execution_count": 4,
   "metadata": {
    "colab": {
     "base_uri": "https://localhost:8080/",
     "height": 83
    },
    "executionInfo": {
     "elapsed": 4733,
     "status": "ok",
     "timestamp": 1689337576572,
     "user": {
      "displayName": "Ruth Vilar",
      "userId": "17604228112721847304"
     },
     "user_tz": -120
    },
    "id": "OFUtpaDs2Elx",
    "outputId": "e26a67b1-f306-4121-f50b-99f408008b62"
   },
   "outputs": [
    {
     "name": "stdout",
     "output_type": "stream",
     "text": [
      "Error: Please set your name first!\n"
     ]
    },
    {
     "data": {
      "text/markdown": [
       "## Correct! 🎉"
      ],
      "text/plain": [
       "<IPython.core.display.Markdown object>"
      ]
     },
     "execution_count": 4,
     "metadata": {},
     "output_type": "execute_result"
    }
   ],
   "source": [
    "torch.manual_seed(0)\n",
    "\n",
    "ds = EmojiDataset()\n",
    "\n",
    "# The rest of this code creates the appropriate variables!\n",
    "train_ds, val_ds, test_ds = ds.split(pct=0.1)\n",
    "\n",
    "batch_size = 64\n",
    "train_dataloader = torch.utils.data.DataLoader(train_ds, batch_size=batch_size, shuffle=False)\n",
    "val_dataloader = torch.utils.data.DataLoader(val_ds, batch_size=batch_size, shuffle=False)\n",
    "test_dataloader = torch.utils.data.DataLoader(test_ds, batch_size=batch_size, shuffle=False)\n",
    "\n",
    "check('3.2.1', train_ds)"
   ]
  },
  {
   "cell_type": "markdown",
   "metadata": {
    "id": "tIW_xps7X2BD"
   },
   "source": [
    "## Step 2: Creating the `CNN` class\n",
    "\n",
    "In Week 1, we declared each layer in the `__init__()` method of our `MLP` class. This week, we will be using [`nn.Sequential`](https://pytorch.org/docs/stable/generated/torch.nn.Sequential.html). This is an object in PyTorch that accepts as arguments a sequence of PyTorch layers, and automatically performs the `forward()` pass.\n",
    "\n",
    "For instance, here is one example of how to use `nn.Sequential`:\n",
    "    \n",
    "    nn.Sequential(\n",
    "              nn.Conv2d(1,20,5),\n",
    "              nn.ReLU(),\n",
    "              nn.Conv2d(20,64,5),\n",
    "              nn.ReLU()\n",
    "            )\n",
    "    \n",
    "\n",
    "**TODO**: Using `nn.Sequential`, create a PyTorch model class (call it `CNN`) with the following specifications. For all `Conv2d` layers, set the kernel size to `3`.\n",
    "\n",
    "- A `Conv2D` layer with `1` input channel and `8` output channels and `ReLU` activation function\n",
    "- A `Conv2D` layer with `8` input channels and `16` output channels and `ReLU` activation function\n",
    "- A `MaxPool2d` layer with kernel size of `2`\n",
    "- A `Conv2D` layer with `16` input channels and `32` output channels and `ReLU` activation function\n",
    "- A `Conv2D` layer with `32` input channels and `64` output channels and `ReLU` activation function\n",
    "- A `MaxPool2d` layer with kernel size of `2`\n",
    "- A `Conv2D` layer with `64` input channels and `128` output channels and `ReLU` activation function\n",
    "- A `MaxPool2d` layer with kernel size of `2`\n",
    "- A `Flatten` layer with `start_dim=1` and `end_dim=-1`\n",
    "- A Linear layer with `128` input nodes and `10` output nodes."
   ]
  },
  {
   "cell_type": "code",
   "execution_count": null,
   "metadata": {
    "id": "vZojP9wwg3mn"
   },
   "outputs": [],
   "source": [
    "class CNN(nn.Module):\n",
    "  def __init__(self):\n",
    "    super().__init__()\n",
    "\n",
    "    # TODO: Implement the layers!\n",
    "    self.model = nn.Sequential(\n",
    "        nn.Conv2d(1,8,3),\n",
    "        nn.ReLU(),\n",
    "        nn.Conv2d(8,16,3),\n",
    "        nn.ReLU(),\n",
    "        nn.MaxPool2d(kernel_size=2),\n",
    "        nn.Conv2d(16,32,3),\n",
    "        nn.ReLU(),\n",
    "        nn.Conv2d(32,64,3),\n",
    "        nn.ReLU(),\n",
    "        nn.MaxPool2d(kernel_size=2),\n",
    "        nn.Conv2d(64,128,3),\n",
    "        nn.ReLU(),\n",
    "        nn.MaxPool2d(kernel_size=2),\n",
    "        nn.Flatten(start_dim=1, end_dim=-1),\n",
    "        nn.Linear(128 , 10)\n",
    "    )\n",
    "\n",
    "  def forward(self, x):\n",
    "    return self.model(x)"
   ]
  },
  {
   "cell_type": "code",
   "execution_count": null,
   "metadata": {
    "colab": {
     "base_uri": "https://localhost:8080/",
     "height": 64
    },
    "executionInfo": {
     "elapsed": 542,
     "status": "ok",
     "timestamp": 1689270285523,
     "user": {
      "displayName": "Ruth Vilar",
      "userId": "17604228112721847304"
     },
     "user_tz": -120
    },
    "id": "OP9Zr10T60SY",
    "outputId": "21ba900a-d69c-42d6-93d7-a180741b817c"
   },
   "outputs": [
    {
     "data": {
      "text/markdown": [
       "## Correct! 🎉"
      ],
      "text/plain": [
       "<IPython.core.display.Markdown object>"
      ]
     },
     "execution_count": 8,
     "metadata": {},
     "output_type": "execute_result"
    }
   ],
   "source": [
    "#@title Run this cell to check your answer!\n",
    "torch.manual_seed(0)\n",
    "test_model = CNN()\n",
    "check('3.2.2', test_model)"
   ]
  },
  {
   "cell_type": "markdown",
   "metadata": {
    "id": "bW08KXOQ26bX"
   },
   "source": [
    "## Step 3: Training your CNN\n",
    "\n",
    "This week we are providing you with `train` and `evaluate` functions. These will look very similar to what you implemented last week! In fact, feel free to use your own functions if you are inclined.\n",
    "\n",
    "\n",
    "\n",
    "**TODO**: Train the `CNN` model with the following hyperparameters:\n",
    "- Learning rate: `1e-4`\n",
    "- Optimizer: `Adam`\n",
    "- Loss function: `CrossEntropyLoss`\n",
    "- Epochs: `15`\n",
    "- Send the model to GPU\n",
    "\n",
    "\n"
   ]
  },
  {
   "cell_type": "code",
   "execution_count": null,
   "metadata": {
    "colab": {
     "base_uri": "https://localhost:8080/"
    },
    "executionInfo": {
     "elapsed": 288472,
     "status": "ok",
     "timestamp": 1689270666047,
     "user": {
      "displayName": "Ruth Vilar",
      "userId": "17604228112721847304"
     },
     "user_tz": -120
    },
    "id": "Nk7o6mXunGL2",
    "outputId": "538db1dd-ea34-4b60-d6c7-ff4cad5cb83c"
   },
   "outputs": [
    {
     "name": "stdout",
     "output_type": "stream",
     "text": [
      "Training model...\n",
      "Epoch  0\n"
     ]
    },
    {
     "name": "stderr",
     "output_type": "stream",
     "text": [
      "100%|██████████| 2500/2500 [00:22<00:00, 111.73it/s]\n"
     ]
    },
    {
     "name": "stdout",
     "output_type": "stream",
     "text": [
      "Epoch  1\n"
     ]
    },
    {
     "name": "stderr",
     "output_type": "stream",
     "text": [
      "100%|██████████| 2500/2500 [00:19<00:00, 125.81it/s]\n"
     ]
    },
    {
     "name": "stdout",
     "output_type": "stream",
     "text": [
      "Epoch  2\n"
     ]
    },
    {
     "name": "stderr",
     "output_type": "stream",
     "text": [
      "100%|██████████| 2500/2500 [00:19<00:00, 127.48it/s]\n"
     ]
    },
    {
     "name": "stdout",
     "output_type": "stream",
     "text": [
      "Epoch  3\n"
     ]
    },
    {
     "name": "stderr",
     "output_type": "stream",
     "text": [
      "100%|██████████| 2500/2500 [00:18<00:00, 136.22it/s]\n"
     ]
    },
    {
     "name": "stdout",
     "output_type": "stream",
     "text": [
      "Epoch  4\n"
     ]
    },
    {
     "name": "stderr",
     "output_type": "stream",
     "text": [
      "100%|██████████| 2500/2500 [00:19<00:00, 126.61it/s]\n"
     ]
    },
    {
     "name": "stdout",
     "output_type": "stream",
     "text": [
      "Epoch  5\n"
     ]
    },
    {
     "name": "stderr",
     "output_type": "stream",
     "text": [
      "100%|██████████| 2500/2500 [00:19<00:00, 130.20it/s]\n"
     ]
    },
    {
     "name": "stdout",
     "output_type": "stream",
     "text": [
      "Epoch  6\n"
     ]
    },
    {
     "name": "stderr",
     "output_type": "stream",
     "text": [
      "100%|██████████| 2500/2500 [00:18<00:00, 135.76it/s]\n"
     ]
    },
    {
     "name": "stdout",
     "output_type": "stream",
     "text": [
      "Epoch  7\n"
     ]
    },
    {
     "name": "stderr",
     "output_type": "stream",
     "text": [
      "100%|██████████| 2500/2500 [00:18<00:00, 135.81it/s]\n"
     ]
    },
    {
     "name": "stdout",
     "output_type": "stream",
     "text": [
      "Epoch  8\n"
     ]
    },
    {
     "name": "stderr",
     "output_type": "stream",
     "text": [
      "100%|██████████| 2500/2500 [00:19<00:00, 127.40it/s]\n"
     ]
    },
    {
     "name": "stdout",
     "output_type": "stream",
     "text": [
      "Epoch  9\n"
     ]
    },
    {
     "name": "stderr",
     "output_type": "stream",
     "text": [
      "100%|██████████| 2500/2500 [00:18<00:00, 135.62it/s]\n"
     ]
    },
    {
     "name": "stdout",
     "output_type": "stream",
     "text": [
      "Epoch  10\n"
     ]
    },
    {
     "name": "stderr",
     "output_type": "stream",
     "text": [
      "100%|██████████| 2500/2500 [00:18<00:00, 133.48it/s]\n"
     ]
    },
    {
     "name": "stdout",
     "output_type": "stream",
     "text": [
      "Epoch  11\n"
     ]
    },
    {
     "name": "stderr",
     "output_type": "stream",
     "text": [
      "100%|██████████| 2500/2500 [00:18<00:00, 132.37it/s]\n"
     ]
    },
    {
     "name": "stdout",
     "output_type": "stream",
     "text": [
      "Epoch  12\n"
     ]
    },
    {
     "name": "stderr",
     "output_type": "stream",
     "text": [
      "100%|██████████| 2500/2500 [00:19<00:00, 128.82it/s]\n"
     ]
    },
    {
     "name": "stdout",
     "output_type": "stream",
     "text": [
      "Epoch  13\n"
     ]
    },
    {
     "name": "stderr",
     "output_type": "stream",
     "text": [
      "100%|██████████| 2500/2500 [00:18<00:00, 137.00it/s]\n"
     ]
    },
    {
     "name": "stdout",
     "output_type": "stream",
     "text": [
      "Epoch  14\n"
     ]
    },
    {
     "name": "stderr",
     "output_type": "stream",
     "text": [
      "100%|██████████| 2500/2500 [00:18<00:00, 133.78it/s]"
     ]
    },
    {
     "name": "stdout",
     "output_type": "stream",
     "text": [
      "Finished training successfully!\n"
     ]
    },
    {
     "name": "stderr",
     "output_type": "stream",
     "text": [
      "\n"
     ]
    }
   ],
   "source": [
    "device = torch.device('cuda')\n",
    "emoji_model = CNN().to(device) # TODO: send to GPU!\n",
    "\n",
    "# Initialize your loss function and optimizer\n",
    "optimizer = torch.optim.Adam(emoji_model.parameters(), lr=1e-4)\n",
    "loss_fn = nn.CrossEntropyLoss()\n",
    "train(epochs=15,\n",
    "      model=emoji_model,\n",
    "      train_dataloader=train_dataloader,\n",
    "      val_dataloader=val_dataloader,\n",
    "      optimizer=optimizer,\n",
    "      loss_fn=loss_fn)"
   ]
  },
  {
   "cell_type": "markdown",
   "metadata": {
    "id": "Xd3oMbsSmRSz"
   },
   "source": [
    "## Step 4: Evaluate your CNN!\n",
    "\n",
    "First, play with your shiny new model in the drawing board!\n",
    "\n",
    "In particular, try drawing objects that might challenge a neural network but rotating, translating, and resizing them."
   ]
  },
  {
   "cell_type": "code",
   "execution_count": null,
   "metadata": {
    "colab": {
     "base_uri": "https://localhost:8080/",
     "height": 637
    },
    "executionInfo": {
     "elapsed": 172447,
     "status": "ok",
     "timestamp": 1689271021495,
     "user": {
      "displayName": "Ruth Vilar",
      "userId": "17604228112721847304"
     },
     "user_tz": -120
    },
    "id": "Os6nzb4LfoPK",
    "outputId": "7cf797c9-f5f0-412f-d75a-d83d98aff655"
   },
   "outputs": [
    {
     "name": "stdout",
     "output_type": "stream",
     "text": [
      "Colab notebook detected. This cell will run indefinitely so that you can see errors and logs. To turn off, set debug=False in launch().\n",
      "Note: opening Chrome Inspector may crash demo inside Colab notebooks.\n",
      "\n",
      "To create a public link, set `share=True` in `launch()`.\n"
     ]
    },
    {
     "data": {
      "application/javascript": [
       "(async (port, path, width, height, cache, element) => {\n",
       "                        if (!google.colab.kernel.accessAllowed && !cache) {\n",
       "                            return;\n",
       "                        }\n",
       "                        element.appendChild(document.createTextNode(''));\n",
       "                        const url = await google.colab.kernel.proxyPort(port, {cache});\n",
       "\n",
       "                        const external_link = document.createElement('div');\n",
       "                        external_link.innerHTML = `\n",
       "                            <div style=\"font-family: monospace; margin-bottom: 0.5rem\">\n",
       "                                Running on <a href=${new URL(path, url).toString()} target=\"_blank\">\n",
       "                                    https://localhost:${port}${path}\n",
       "                                </a>\n",
       "                            </div>\n",
       "                        `;\n",
       "                        element.appendChild(external_link);\n",
       "\n",
       "                        const iframe = document.createElement('iframe');\n",
       "                        iframe.src = new URL(path, url).toString();\n",
       "                        iframe.height = height;\n",
       "                        iframe.allow = \"autoplay; camera; microphone; clipboard-read; clipboard-write;\"\n",
       "                        iframe.width = width;\n",
       "                        iframe.style.border = 0;\n",
       "                        element.appendChild(iframe);\n",
       "                    })(7860, \"/\", \"100%\", 500, false, window.element)"
      ],
      "text/plain": [
       "<IPython.core.display.Javascript object>"
      ]
     },
     "metadata": {},
     "output_type": "display_data"
    },
    {
     "name": "stdout",
     "output_type": "stream",
     "text": [
      "Keyboard interruption in main thread... closing server.\n"
     ]
    },
    {
     "data": {
      "text/plain": []
     },
     "execution_count": 10,
     "metadata": {},
     "output_type": "execute_result"
    }
   ],
   "source": [
    "\n",
    "from scipy.special import softmax\n",
    "\n",
    "def get_prediction(doodle):\n",
    "  pt_input = torch.Tensor(doodle).view(1, 1, doodle.shape[0], doodle.shape[1]).to(device)\n",
    "  y_hats = emoji_model(pt_input).detach().cpu().numpy()[0]\n",
    "  y_hats = softmax(y_hats)\n",
    "  return y_hats\n",
    "\n",
    "def predict(doodle):\n",
    "  if doodle is None:\n",
    "    return\n",
    "  doodle = doodle / 255.\n",
    "  y_hats = get_prediction(doodle)\n",
    "  emoji_names = np.array(list(DOODLE_TO_EMOJI_MAP.values()))\n",
    "  emoji_dict = {emoji_names[i]: float(y_hat) for i, y_hat in enumerate(y_hats)}\n",
    "  return emoji_dict\n",
    "\n",
    "interface = gr.Interface(predict, inputs='sketchpad', outputs='label', theme=\"default\", live=True, description=\"Guess the Doodle!\")\n",
    "interface.launch(debug=True)"
   ]
  },
  {
   "cell_type": "markdown",
   "metadata": {
    "id": "TdQaVcY7SCND"
   },
   "source": [
    "### How did you do?\n",
    "\n",
    "Let's see how well your function does! We've created tiers to show you how well your model is performing:\n",
    "\n",
    "**S+**: Amazing job! You've done better than the instructors at getting this to work!\n",
    "\n",
    "**S**: You have incredible intuiiton about neural networks!\n",
    "\n",
    "**A**: Superb and among the top tier of this class.\n",
    "\n",
    "**B**: Congrats! You've done as well as any reasonble ML engineer would do on this project!\n",
    "\n",
    "**C**: There might be some issues with your code since the baseline is higher than the score you got :)\n",
    "\n",
    "We encourage you to edit your model with all the knowledge that you have now and see how much you can improve your model!\n"
   ]
  },
  {
   "cell_type": "code",
   "execution_count": null,
   "metadata": {
    "colab": {
     "base_uri": "https://localhost:8080/",
     "height": 209
    },
    "executionInfo": {
     "elapsed": 1887,
     "status": "ok",
     "timestamp": 1689271034210,
     "user": {
      "displayName": "Ruth Vilar",
      "userId": "17604228112721847304"
     },
     "user_tz": -120
    },
    "id": "4TMEMlaHSJZS",
    "outputId": "2f0c3c4d-34cb-4b8a-b585-c2d3d2817994"
   },
   "outputs": [
    {
     "name": "stdout",
     "output_type": "stream",
     "text": [
      "Evaluating model...\n"
     ]
    },
    {
     "name": "stderr",
     "output_type": "stream",
     "text": [
      "100%|██████████| 313/313 [00:01<00:00, 199.55it/s]"
     ]
    },
    {
     "name": "stdout",
     "output_type": "stream",
     "text": [
      "Model accuracy: 0.9108\n"
     ]
    },
    {
     "name": "stderr",
     "output_type": "stream",
     "text": [
      "\n"
     ]
    },
    {
     "data": {
      "text/markdown": [
       "Your test accuracy is 0.9108."
      ],
      "text/plain": [
       "<IPython.core.display.Markdown object>"
      ]
     },
     "metadata": {},
     "output_type": "display_data"
    },
    {
     "data": {
      "text/markdown": [
       "## Performance Tier: S+."
      ],
      "text/plain": [
       "<IPython.core.display.Markdown object>"
      ]
     },
     "metadata": {},
     "output_type": "display_data"
    },
    {
     "data": {
      "text/markdown": [
       "Amazing job! Your model has excellent performance."
      ],
      "text/plain": [
       "<IPython.core.display.Markdown object>"
      ]
     },
     "metadata": {},
     "output_type": "display_data"
    },
    {
     "data": {
      "text/markdown": [
       "## Correct! 🎉"
      ],
      "text/plain": [
       "<IPython.core.display.Markdown object>"
      ]
     },
     "execution_count": 11,
     "metadata": {},
     "output_type": "execute_result"
    }
   ],
   "source": [
    "#@title How did your model do?\n",
    "#@markdown Run this cell to evaluate your model on the test dataset!\n",
    "#@markdown (Make sure that your model is named `emoji_model`).\n",
    "accuracy = evaluate(emoji_model, test_dataloader)\n",
    "print(f\"Model accuracy: {accuracy}\")\n",
    "\n",
    "display(md((f'Your test accuracy is {accuracy}.')))\n",
    "\n",
    "tier_dict = {'C': .5, 'B': .7, 'A': .75, 'S': .8, 'S+': .85}\n",
    "for tier in ['C', 'B', 'A', 'S', 'S+']:\n",
    "    if accuracy < tier_dict[tier]:\n",
    "        break\n",
    "\n",
    "display(md(f'## Performance Tier: {tier}.'))\n",
    "if tier in ['A', 'S', 'S+']:\n",
    "  display(md(f'Amazing job! Your model has excellent performance.'))\n",
    "else:\n",
    "  display(md(f'Great job! Now, see if changing some hyperparameters can improve your model even more!'))\n",
    "\n",
    "check('3.2.3', accuracy)\n"
   ]
  },
  {
   "cell_type": "markdown",
   "metadata": {
    "id": "eR1LmqmmvGaW"
   },
   "source": [
    "Great! Hopefully your CNN outperforms the MLP that you trained from last week."
   ]
  },
  {
   "cell_type": "markdown",
   "metadata": {
    "id": "_OH76ReLeYQP"
   },
   "source": [
    "# Part 3: Using pre-trained models\n",
    "\n",
    "We've trained our own CNN from scratch - fantastic! Now, we're going to use some help. In this section, we will be using pre-trained models for classification.\n",
    "\n",
    "Head over to the [PyTorch Model Zoo page](https://pytorch.org/serve/model_zoo.html). You'll notice several dozen pre-trained models to choose from. We'll be using three in particular:\n",
    "- [Resnet18](https://pytorch.org/vision/main/models/generated/torchvision.models.resnet18.html#torchvision.models.resnet18)\n",
    "- [MobileNet v3](https://pytorch.org/vision/stable/models/generated/torchvision.models.mobilenet_v3_small.html#torchvision.models.mobilenet_v3_small)\n",
    "- [Vision Transformer](https://pytorch.org/vision/stable/models/generated/torchvision.models.vit_b_16.html#torchvision.models.vit_b_16)\n",
    "\n",
    "In PyTorch, loading and using pre-trained models have a standard, convenient interface."
   ]
  },
  {
   "cell_type": "markdown",
   "metadata": {
    "id": "NGPArysSmLKg"
   },
   "source": [
    "**TODO**: Create a `Resnet18` model using default weights. Extract the transform function used for training the default weights. Remember to send the model to the GPU.\n",
    "\n",
    "**Hint**: Rely on the link above ([Resnet18](https://pytorch.org/vision/main/models/generated/torchvision.models.resnet18.html#torchvision.models.resnet18)) for documentation on how to use this model!"
   ]
  },
  {
   "cell_type": "code",
   "execution_count": 8,
   "metadata": {
    "colab": {
     "base_uri": "https://localhost:8080/"
    },
    "executionInfo": {
     "elapsed": 904,
     "status": "ok",
     "timestamp": 1689321361857,
     "user": {
      "displayName": "Ruth Vilar",
      "userId": "17604228112721847304"
     },
     "user_tz": -120
    },
    "id": "R6WP5TGzmq71",
    "outputId": "06e463f4-7278-4b6b-d065-0b62100067b4"
   },
   "outputs": [
    {
     "name": "stderr",
     "output_type": "stream",
     "text": [
      "Downloading: \"https://download.pytorch.org/models/resnet18-f37072fd.pth\" to /root/.cache/torch/hub/checkpoints/resnet18-f37072fd.pth\n",
      "100%|██████████| 44.7M/44.7M [00:00<00:00, 137MB/s]\n"
     ]
    }
   ],
   "source": [
    "from torchvision.models import resnet18, ResNet18_Weights\n",
    "resnet = resnet18(weights='DEFAULT').to(device)\n",
    "resnet_transforms = ResNet18_Weights.DEFAULT.transforms()"
   ]
  },
  {
   "cell_type": "markdown",
   "metadata": {
    "id": "xI3QcKILnMAT"
   },
   "source": [
    "**TODO**: Get the image of the first item in in `train_ds`. Pass it through the Resnet18 model and produce the prediction. What is the shape of the output vector?"
   ]
  },
  {
   "cell_type": "code",
   "execution_count": 9,
   "metadata": {
    "colab": {
     "base_uri": "https://localhost:8080/"
    },
    "executionInfo": {
     "elapsed": 2780,
     "status": "ok",
     "timestamp": 1689321368381,
     "user": {
      "displayName": "Ruth Vilar",
      "userId": "17604228112721847304"
     },
     "user_tz": -120
    },
    "id": "sB2l3Weusoi8",
    "outputId": "064ea192-f607-408b-b873-3e630a95f965"
   },
   "outputs": [
    {
     "name": "stderr",
     "output_type": "stream",
     "text": [
      "/usr/local/lib/python3.10/dist-packages/torchvision/transforms/functional.py:1603: UserWarning: The default value of the antialias parameter of all the resizing transforms (Resize(), RandomResizedCrop(), etc.) will change from None to True in v0.17, in order to be consistent across the PIL and Tensor backends. To suppress this warning, directly pass antialias=True (recommended, future default), antialias=None (current default, which means False for Tensors and True for PIL), or antialias=False (only works on Tensors - PIL will still use antialiasing). This also applies if you are using the inference transforms from the models weights: update the call to weights.transforms(antialias=True).\n",
      "  warnings.warn(\n"
     ]
    },
    {
     "data": {
      "text/plain": [
       "torch.Size([1, 1000])"
      ]
     },
     "execution_count": 9,
     "metadata": {},
     "output_type": "execute_result"
    }
   ],
   "source": [
    "# we've included a helpful tranform function to get the output of your data loader to match the input of the model\n",
    "my_transform = lambda x: resnet_transforms(x.repeat(1, 3, 1, 1))\n",
    "\n",
    "# TODO: pass the image of the first item in train_ds (train_ds[0][0]) through my_transform, and then send it to GPU.\n",
    "output = my_transform(train_ds[0][0]).to(device)\n",
    "\n",
    "resnet(output).shape"
   ]
  },
  {
   "cell_type": "markdown",
   "metadata": {
    "id": "0njtv8Z6so3H"
   },
   "source": [
    "**TODO**: Now, replace the last layer with a Linear layer that has the same number of input nodes but with 10 output nodes."
   ]
  },
  {
   "cell_type": "code",
   "execution_count": null,
   "metadata": {
    "id": "LgEU_FgQvH4O"
   },
   "outputs": [],
   "source": [
    "# this is the number of input nodes in the resnet model's last layer\n",
    "num_features = resnet.fc.in_features\n",
    "\n",
    "# Create a nn.Linear layer. Set the input nodes = num_features and output nodes = 10. Send it to GPU.\n",
    "resnet.fc = nn.Linear(num_features, 10).to(device)"
   ]
  },
  {
   "cell_type": "markdown",
   "metadata": {
    "id": "9IjnIzFqvITE"
   },
   "source": [
    "**TODO**: Train this model using the same `train` function as in Part 2 Step 3 and evaluate its accuracy.\n",
    "\n",
    "**Note**: This may take up to 10 minutes! Train for 1 epoch."
   ]
  },
  {
   "cell_type": "code",
   "execution_count": null,
   "metadata": {
    "colab": {
     "base_uri": "https://localhost:8080/"
    },
    "executionInfo": {
     "elapsed": 483837,
     "status": "ok",
     "timestamp": 1689272129461,
     "user": {
      "displayName": "Ruth Vilar",
      "userId": "17604228112721847304"
     },
     "user_tz": -120
    },
    "id": "sS0Gip3EwujP",
    "outputId": "4ce93927-a212-4a5b-c006-e636f351b9b8"
   },
   "outputs": [
    {
     "name": "stdout",
     "output_type": "stream",
     "text": [
      "Training model...\n",
      "Epoch  0\n"
     ]
    },
    {
     "name": "stderr",
     "output_type": "stream",
     "text": [
      "100%|██████████| 2500/2500 [07:43<00:00,  5.39it/s]\n"
     ]
    },
    {
     "name": "stdout",
     "output_type": "stream",
     "text": [
      "Finished training successfully!\n",
      "Evaluating model...\n"
     ]
    },
    {
     "name": "stderr",
     "output_type": "stream",
     "text": [
      "100%|██████████| 313/313 [00:19<00:00, 15.94it/s]"
     ]
    },
    {
     "name": "stdout",
     "output_type": "stream",
     "text": [
      "Accuracy:  0.9451\n"
     ]
    },
    {
     "name": "stderr",
     "output_type": "stream",
     "text": [
      "\n"
     ]
    }
   ],
   "source": [
    "train(epochs=1,\n",
    "      model=resnet,\n",
    "      train_dataloader=train_dataloader,\n",
    "      val_dataloader=val_dataloader,\n",
    "      transform=my_transform)\n",
    "\n",
    "accuracy = evaluate(resnet, test_dataloader, transform=my_transform)\n",
    "print(\"Accuracy: \", accuracy)\n"
   ]
  },
  {
   "cell_type": "markdown",
   "metadata": {
    "id": "-oN-T2IJH82L"
   },
   "source": [
    "Congrats! Hopefully your model performs significantly better than the original CNN."
   ]
  },
  {
   "cell_type": "markdown",
   "metadata": {
    "id": "iXMnJGAEyCpA"
   },
   "source": [
    "### Bonus step!\n",
    "\n",
    "How do other models perform?\n",
    "\n",
    "**TODO**: Now, perform the same steps in Part 3, with mobilenet_v3_small (MobileNet v3 small) and vit_b_16 (Vision Transformer). Use `DEFAULT` weights for each.\n",
    "\n",
    "*Hint*: Use `list(model.children())` to find the last linear layer in each model and use it to identify which layer to swap out.\n",
    "\n",
    "**Warning**: Since these models are large, prepare to wait a while as they train! We suggest finishing the rest of this project and coming back around to this step :-).\n",
    "\n",
    "**Hint 2**: One common strategy for fine-tuning models is only training the last layer's weights! Can you figure out how to do this? This will make training significantly faster!"
   ]
  },
  {
   "cell_type": "code",
   "execution_count": null,
   "metadata": {
    "colab": {
     "base_uri": "https://localhost:8080/"
    },
    "executionInfo": {
     "elapsed": 175486,
     "status": "ok",
     "timestamp": 1689272620010,
     "user": {
      "displayName": "Ruth Vilar",
      "userId": "17604228112721847304"
     },
     "user_tz": -120
    },
    "id": "MG0XkGF702A9",
    "outputId": "bd471829-35af-4636-f52d-370f9e30bdcc"
   },
   "outputs": [
    {
     "name": "stderr",
     "output_type": "stream",
     "text": [
      "Downloading: \"https://download.pytorch.org/models/mobilenet_v3_small-047dcff4.pth\" to /root/.cache/torch/hub/checkpoints/mobilenet_v3_small-047dcff4.pth\n",
      "100%|██████████| 9.83M/9.83M [00:00<00:00, 85.3MB/s]\n"
     ]
    },
    {
     "name": "stdout",
     "output_type": "stream",
     "text": [
      "Training model...\n",
      "Epoch  0\n"
     ]
    },
    {
     "name": "stderr",
     "output_type": "stream",
     "text": [
      "\r",
      "  0%|          | 0/2500 [00:00<?, ?it/s]/usr/local/lib/python3.10/dist-packages/torchvision/transforms/functional.py:1603: UserWarning: The default value of the antialias parameter of all the resizing transforms (Resize(), RandomResizedCrop(), etc.) will change from None to True in v0.17, in order to be consistent across the PIL and Tensor backends. To suppress this warning, directly pass antialias=True (recommended, future default), antialias=None (current default, which means False for Tensors and True for PIL), or antialias=False (only works on Tensors - PIL will still use antialiasing). This also applies if you are using the inference transforms from the models weights: update the call to weights.transforms(antialias=True).\n",
      "  warnings.warn(\n",
      "100%|██████████| 2500/2500 [02:45<00:00, 15.10it/s]\n"
     ]
    },
    {
     "name": "stdout",
     "output_type": "stream",
     "text": [
      "Finished training successfully!\n",
      "Evaluating model...\n"
     ]
    },
    {
     "name": "stderr",
     "output_type": "stream",
     "text": [
      "100%|██████████| 313/313 [00:08<00:00, 37.91it/s]"
     ]
    },
    {
     "name": "stdout",
     "output_type": "stream",
     "text": [
      "Accuracy:  0.9383\n"
     ]
    },
    {
     "name": "stderr",
     "output_type": "stream",
     "text": [
      "\n"
     ]
    }
   ],
   "source": [
    "from torchvision.models import mobilenet_v3_small, MobileNet_V3_Small_Weights\n",
    "mobilenet = mobilenet_v3_small(weights='DEFAULT').to(device)\n",
    "mobilenet_transforms = MobileNet_V3_Small_Weights.DEFAULT.transforms()\n",
    "last_layer = list(mobilenet.children())[-1][-1] # find the last layer!\n",
    "num_features = last_layer.in_features\n",
    "last_layer = nn.Linear(num_features, 10).to(device)\n",
    "train(epochs=1,\n",
    "      model=mobilenet,\n",
    "      train_dataloader=train_dataloader,\n",
    "      val_dataloader=val_dataloader,\n",
    "      transform=my_transform)\n",
    "\n",
    "accuracy = evaluate(mobilenet, test_dataloader, transform=my_transform)\n",
    "print(\"Accuracy: \", accuracy)"
   ]
  },
  {
   "cell_type": "code",
   "execution_count": 1,
   "metadata": {
    "colab": {
     "base_uri": "https://localhost:8080/",
     "height": 281
    },
    "executionInfo": {
     "elapsed": 11967,
     "status": "error",
     "timestamp": 1689328133782,
     "user": {
      "displayName": "Ruth Vilar",
      "userId": "17604228112721847304"
     },
     "user_tz": -120
    },
    "id": "i5ZMDB3nCL9V",
    "outputId": "a4484c83-515a-4008-aab0-871f190fe77b"
   },
   "outputs": [
    {
     "name": "stderr",
     "output_type": "stream",
     "text": [
      "Downloading: \"https://download.pytorch.org/models/vit_b_16-c867db91.pth\" to /root/.cache/torch/hub/checkpoints/vit_b_16-c867db91.pth\n",
      "100%|██████████| 330M/330M [00:04<00:00, 76.5MB/s]\n"
     ]
    },
    {
     "ename": "NameError",
     "evalue": "ignored",
     "output_type": "error",
     "traceback": [
      "\u001b[0;31m---------------------------------------------------------------------------\u001b[0m",
      "\u001b[0;31mNameError\u001b[0m                                 Traceback (most recent call last)",
      "\u001b[0;32m<ipython-input-1-3b08dfb5e5f1>\u001b[0m in \u001b[0;36m<cell line: 2>\u001b[0;34m()\u001b[0m\n\u001b[1;32m      1\u001b[0m \u001b[0;32mfrom\u001b[0m \u001b[0mtorchvision\u001b[0m\u001b[0;34m.\u001b[0m\u001b[0mmodels\u001b[0m \u001b[0;32mimport\u001b[0m \u001b[0mvit_b_16\u001b[0m\u001b[0;34m,\u001b[0m \u001b[0mViT_B_16_Weights\u001b[0m\u001b[0;34m\u001b[0m\u001b[0;34m\u001b[0m\u001b[0m\n\u001b[0;32m----> 2\u001b[0;31m \u001b[0mvit\u001b[0m \u001b[0;34m=\u001b[0m \u001b[0mvit_b_16\u001b[0m\u001b[0;34m(\u001b[0m\u001b[0mweights\u001b[0m\u001b[0;34m=\u001b[0m\u001b[0;34m'DEFAULT'\u001b[0m\u001b[0;34m)\u001b[0m\u001b[0;34m.\u001b[0m\u001b[0mto\u001b[0m\u001b[0;34m(\u001b[0m\u001b[0mdevice\u001b[0m\u001b[0;34m)\u001b[0m\u001b[0;34m\u001b[0m\u001b[0;34m\u001b[0m\u001b[0m\n\u001b[0m\u001b[1;32m      3\u001b[0m \u001b[0mvit_transforms\u001b[0m \u001b[0;34m=\u001b[0m\u001b[0mViT_B_16_Weights\u001b[0m\u001b[0;34m.\u001b[0m\u001b[0mDEFAULT\u001b[0m\u001b[0;34m.\u001b[0m\u001b[0mtransforms\u001b[0m\u001b[0;34m(\u001b[0m\u001b[0;34m)\u001b[0m\u001b[0;34m\u001b[0m\u001b[0;34m\u001b[0m\u001b[0m\n\u001b[1;32m      4\u001b[0m \u001b[0mlast_layer\u001b[0m \u001b[0;34m=\u001b[0m \u001b[0mlist\u001b[0m\u001b[0;34m(\u001b[0m\u001b[0mvit\u001b[0m\u001b[0;34m.\u001b[0m\u001b[0mchildren\u001b[0m\u001b[0;34m(\u001b[0m\u001b[0;34m)\u001b[0m\u001b[0;34m)\u001b[0m\u001b[0;34m[\u001b[0m\u001b[0;34m-\u001b[0m\u001b[0;36m1\u001b[0m\u001b[0;34m]\u001b[0m\u001b[0;34m[\u001b[0m\u001b[0;34m-\u001b[0m\u001b[0;36m1\u001b[0m\u001b[0;34m]\u001b[0m \u001b[0;31m# find the last layer!\u001b[0m\u001b[0;34m\u001b[0m\u001b[0;34m\u001b[0m\u001b[0m\n\u001b[1;32m      5\u001b[0m \u001b[0mnum_features\u001b[0m \u001b[0;34m=\u001b[0m \u001b[0mlast_layer\u001b[0m\u001b[0;34m.\u001b[0m\u001b[0min_features\u001b[0m\u001b[0;34m\u001b[0m\u001b[0;34m\u001b[0m\u001b[0m\n",
      "\u001b[0;31mNameError\u001b[0m: name 'device' is not defined"
     ]
    }
   ],
   "source": [
    "from torchvision.models import vit_b_16, ViT_B_16_Weights\n",
    "vit = vit_b_16(weights='DEFAULT').to(device)\n",
    "vit_transforms =ViT_B_16_Weights.DEFAULT.transforms()\n",
    "last_layer = list(vit.children())[-1][-1] # find the last layer!\n",
    "num_features = last_layer.in_features\n",
    "last_layer = nn.Linear(num_features, 10).to(device)\n",
    "train(epochs=1,\n",
    "      model=vit,\n",
    "      train_dataloader=train_dataloader,\n",
    "      val_dataloader=val_dataloader,\n",
    "      transform=my_transform)\n",
    "\n",
    "accuracy = evaluate(vit, test_dataloader, transform=my_transform)\n",
    "print(\"Accuracy: \", accuracy)"
   ]
  },
  {
   "cell_type": "markdown",
   "metadata": {
    "id": "ykA7os0fxmun"
   },
   "source": [
    "# Part 4: Visualize your Model Outputs (Optional!)\n",
    "\n",
    "Deep learning models, in particular CNNs, learn *embeddings* of the training data. These embeddings are very useful for understanding what features the model learns during training!\n",
    "\n",
    "In this last module for this section, we will be modifying our model code to extract the outputs of the model's embedding vector, and then visualizing the outputs using a dimensionality reduction technique called t-SNE.\n",
    "\n",
    "`sklearn.manifold.TSNE` functions like a typical machine learning model: given an input, it will reduce the number of dimensions in the input while preserving the relative distances of each of the points in the distance. In other words, this technique allows us to visualize data that is originally in very high dimensions.\n",
    "\n",
    "**TODO**: First, modify the `CNN` model by adding an additional method `get_embedding(x)`. This should return the output of the `Flatten` layer in the model.\n",
    "\n",
    "*Hint*: This part requires some ingenuity. Can you access the Flatten layer in `self.model`? Try `list(self.model.modules())[1:]` to get a list of the layer objects. Then, iterate through the layers, evaluating each on the input, until you reach the `Flatten` layer."
   ]
  },
  {
   "cell_type": "code",
   "execution_count": 14,
   "metadata": {
    "executionInfo": {
     "elapsed": 439,
     "status": "ok",
     "timestamp": 1689338092835,
     "user": {
      "displayName": "Ruth Vilar",
      "userId": "17604228112721847304"
     },
     "user_tz": -120
    },
    "id": "A7NPaLpW4ff5"
   },
   "outputs": [],
   "source": [
    "class CNN(nn.Module):\n",
    "  def __init__(self):\n",
    "    super().__init__()\n",
    "    self.model = nn.Sequential(\n",
    "        nn.Conv2d(1, 8, 3),\n",
    "        nn.ReLU(),\n",
    "        nn.Conv2d(8, 16, 3),\n",
    "        nn.ReLU(),\n",
    "        nn.MaxPool2d(2),\n",
    "        nn.Conv2d(16, 32, 3),\n",
    "        nn.ReLU(),\n",
    "        nn.Conv2d(32, 64, 3),\n",
    "        nn.ReLU(),\n",
    "        nn.MaxPool2d(2),\n",
    "        nn.Conv2d(64, 128, 3),\n",
    "        nn.ReLU(),\n",
    "        nn.MaxPool2d(2),\n",
    "        nn.Flatten(start_dim=1, end_dim=-1),\n",
    "        nn.Linear(128, 10)\n",
    "    )\n",
    "    self.layers = list(self.model.modules())[1:]\n",
    "\n",
    "  def forward(self, x):\n",
    "    return self.model(x)\n",
    "\n",
    "  def get_embedding(self, x):\n",
    "    for module in list(self.model.modules())[1:-1]:\n",
    "      x = module(x)\n",
    "    return x\n"
   ]
  },
  {
   "cell_type": "code",
   "execution_count": 15,
   "metadata": {
    "colab": {
     "base_uri": "https://localhost:8080/",
     "height": 64
    },
    "executionInfo": {
     "elapsed": 895,
     "status": "ok",
     "timestamp": 1689338104961,
     "user": {
      "displayName": "Ruth Vilar",
      "userId": "17604228112721847304"
     },
     "user_tz": -120
    },
    "id": "pf_N0QidMMBe",
    "outputId": "a51e8c16-64d8-4f87-cf66-6354e0c716e8"
   },
   "outputs": [
    {
     "data": {
      "text/markdown": [
       "## Correct! 🎉"
      ],
      "text/plain": [
       "<IPython.core.display.Markdown object>"
      ]
     },
     "execution_count": 15,
     "metadata": {},
     "output_type": "execute_result"
    }
   ],
   "source": [
    "#@title Run this cell to check your answer!\n",
    "torch.manual_seed(0)\n",
    "test_model = CNN()\n",
    "check('3.4.1', test_model)"
   ]
  },
  {
   "cell_type": "markdown",
   "metadata": {
    "id": "MmbXy0bI4e4P"
   },
   "source": [
    "Great! Now, let's generate the emebddings with the test dataset.\n",
    "\n",
    "**TODO**: Generate the embedding for every data point in the test dataset, and store all of the embeddings into a Numpy array variable called `embeddings`. Separately, store the labels for each data point in another Numpy array variable called `labels`."
   ]
  },
  {
   "cell_type": "code",
   "execution_count": 16,
   "metadata": {
    "executionInfo": {
     "elapsed": 3175,
     "status": "ok",
     "timestamp": 1689338113795,
     "user": {
      "displayName": "Ruth Vilar",
      "userId": "17604228112721847304"
     },
     "user_tz": -120
    },
    "id": "R1yf9Z0bJ_dA"
   },
   "outputs": [],
   "source": [
    "# TODO: Fill out the missing parts of the code below to store the embeddings and labels!\n",
    "embeddings = []\n",
    "labels = []\n",
    "model = CNN().to(device).eval()\n",
    "for i, data in enumerate(test_dataloader):\n",
    "  x, y = data\n",
    "  labels.extend(y.detach().cpu().numpy())\n",
    "  embeddings.extend(model.get_embedding(x).detach().cpu().numpy()) # get model embedding output\n",
    "labels = np.array(labels)\n",
    "embeddings = np.array(embeddings)"
   ]
  },
  {
   "cell_type": "markdown",
   "metadata": {
    "id": "-xefX9Vz4swA"
   },
   "source": [
    "From here, we simply use the `TSNE` function to fit and then project the data points into two dimension.\n",
    "\n",
    "**TODO**: Using the `TSNE` class, call the `fit_transform()` function to project the test data to two dimensions. Then, plot these points and display the legend containing labels corresponding to the class of each point.\n",
    "\n",
    "*Hint*: Visualizing 20,000 data points may take too long: instead, try sampling 1000 data points instead.\n",
    "\n",
    "*Hint*: The `seaborn` Python package is useful for visualizing scatter plots; try using the `seaborn.scatterplot()` function. This takes in a Pandas dataframe containing your x, y, and label columns. Then, specify the `x`, `y`, and `hue` parameter in the function to plot."
   ]
  },
  {
   "cell_type": "code",
   "execution_count": 17,
   "metadata": {
    "colab": {
     "base_uri": "https://localhost:8080/",
     "height": 496
    },
    "executionInfo": {
     "elapsed": 8650,
     "status": "ok",
     "timestamp": 1689338129894,
     "user": {
      "displayName": "Ruth Vilar",
      "userId": "17604228112721847304"
     },
     "user_tz": -120
    },
    "id": "fT8GbYPjKWTC",
    "outputId": "7aa2fb30-82d1-49ea-d4bc-48b9fd17a8b3"
   },
   "outputs": [
    {
     "data": {
      "image/png": "[encoded data removed]",
      "text/plain": [
       "<Figure size 640x480 with 1 Axes>"
      ]
     },
     "metadata": {},
     "output_type": "display_data"
    },
    {
     "data": {
      "text/markdown": [
       "## Correct! 🎉"
      ],
      "text/plain": [
       "<IPython.core.display.Markdown object>"
      ]
     },
     "execution_count": 17,
     "metadata": {},
     "output_type": "execute_result"
    }
   ],
   "source": [
    "from sklearn.manifold import TSNE\n",
    "import seaborn as sns\n",
    "\n",
    "%matplotlib inline\n",
    "\n",
    "# TODO: Implement the TSNE function to gather the transformed embeddings.\n",
    "transformed = TSNE(n_components=2).fit_transform(embeddings[0:1000])\n",
    "label_names = list(DOODLE_TO_EMOJI_MAP.keys())\n",
    "\n",
    "# This part is done for you! :)\n",
    "df = pd.DataFrame([])\n",
    "df['x'] = transformed[:, 0]\n",
    "df['y'] = transformed[:, 1]\n",
    "df['label'] = [label_names[i] for i in labels[0:1000]]\n",
    "sns.scatterplot(data=df, x='x', y='y', hue='label')\n",
    "sns.set(rc={\"figure.figsize\":(16, 8)})\n",
    "plt.show()\n",
    "\n",
    "check('3.4.2', df)\n"
   ]
  },
  {
   "cell_type": "markdown",
   "metadata": {
    "id": "ynYKsu6iBBdc"
   },
   "source": [
    "Congratulations! You've made it to the end.\n",
    "\n",
    "To end, we'll pose a simple question. Consider the plot: can you see distinct clusters corresponding to the different classes?"
   ]
  }
 ],
 "metadata": {
  "accelerator": "GPU",
  "colab": {
   "provenance": []
  },
  "kernelspec": {
   "display_name": "Python 3 (ipykernel)",
   "language": "python",
   "name": "python3"
  },
  "language_info": {
   "codemirror_mode": {
    "name": "ipython",
    "version": 3
   },
   "file_extension": ".py",
   "mimetype": "text/x-python",
   "name": "python",
   "nbconvert_exporter": "python",
   "pygments_lexer": "ipython3",
   "version": "3.9.13"
  }
 },
 "nbformat": 4,
 "nbformat_minor": 1
}
