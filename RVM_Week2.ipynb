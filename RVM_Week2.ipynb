{
 "cells": [
  {
   "cell_type": "markdown",
   "metadata": {
    "id": "04PZJ_WLbmZY"
   },
   "source": [
    "#**Week 2 - Transformers 🤖: MLPs in Disguise** (~2 hrs total)"
   ]
  },
  {
   "cell_type": "markdown",
   "metadata": {
    "id": "-Vsd23TK6NCp"
   },
   "source": [
    "## Part 0 - Setup (~1 min)\n",
    "Before you begin, please clone this notebook!\n",
    "\n",
    "**File > Save a copy in Drive**"
   ]
  },
  {
   "cell_type": "code",
   "execution_count": 1,
   "metadata": {
    "colab": {
     "base_uri": "https://localhost:8080/",
     "height": 54
    },
    "executionInfo": {
     "elapsed": 20886,
     "status": "ok",
     "timestamp": 1688917398362,
     "user": {
      "displayName": "Ruth Vilar",
      "userId": "17604228112721847304"
     },
     "user_tz": -120
    },
    "id": "oxAUjGRSbuTu",
    "outputId": "979ed314-f5da-4cef-ab1e-f8537b3353cd"
   },
   "outputs": [
    {
     "name": "stdout",
     "output_type": "stream",
     "text": [
      "Mounted at /content/drive\n"
     ]
    },
    {
     "data": {
      "application/vnd.google.colaboratory.intrinsic+json": {
       "type": "string"
      },
      "text/plain": [
       "'⭐ Mounted successfully!'"
      ]
     },
     "metadata": {},
     "output_type": "display_data"
    }
   ],
   "source": [
    "from logging import exception\n",
    "#@title Step 1: Mount drive\n",
    "#@markdown Run this cell. If prompted, press \"Connect to Google Drive\" and select your Google account.\n",
    "#@markdown Then, under the folder icon 📁 on the left panel, you should see the folder **drive** appear.\n",
    "from google.colab import drive\n",
    "from IPython.display import display, Markdown, HTML\n",
    "import os, sys\n",
    "\n",
    "%load_ext autoreload\n",
    "%autoreload 2\n",
    "try:\n",
    "  drive.mount('/content/drive', force_remount=False)\n",
    "  sys.path.append('/content/drive/MyDrive/DLE-Jun23/Projects')\n",
    "  os.chdir('/content/drive/MyDrive/Colab Notebooks/')\n",
    "  display(\"⭐ Mounted successfully!\")\n",
    "except:\n",
    "  display(HTML('<span style=\"color:red\">An error occurred. Try again!</span>'))\n"
   ]
  },
  {
   "cell_type": "code",
   "execution_count": 2,
   "metadata": {
    "executionInfo": {
     "elapsed": 37833,
     "status": "ok",
     "timestamp": 1688917441121,
     "user": {
      "displayName": "Ruth Vilar",
      "userId": "17604228112721847304"
     },
     "user_tz": -120
    },
    "id": "EZ4gFztrcAHT"
   },
   "outputs": [],
   "source": [
    "%%capture\n",
    "#@title Step 2: Import packages\n",
    "!pip install gradio tiktoken transformers bertviz sentence_transformers\n",
    "!git clone https://github.com/kevinwu23/minGPT.git\n",
    "\n",
    "import sys\n",
    "sys.path.append('/content/drive/MyDrive/Colab Notebooks/minGPT')\n",
    "import gradio as gr\n",
    "import torch\n",
    "import torch.nn as nn\n",
    "import torch.nn.functional as F\n",
    "import numpy as np\n",
    "from dle_utils.dle_utils import *\n",
    "\n",
    "import os\n",
    "import tiktoken\n",
    "from contextlib import nullcontext\n",
    "\n",
    "from sentence_transformers import SentenceTransformer\n",
    "import transformers\n",
    "from transformers import AutoTokenizer, AutoModel\n",
    "\n",
    "import bertviz\n",
    "import matplotlib.pyplot as plt\n",
    "\n",
    "import torch.nn.functional as F\n",
    "\n",
    "np.random.seed(0)\n",
    "torch.manual_seed(0)"
   ]
  },
  {
   "cell_type": "markdown",
   "metadata": {
    "id": "bdUbql4zc-wv"
   },
   "source": [
    "### Note: Accessing minGPT\n",
    "\n",
    "In this assignment, you'll be modifying files in a GitHub repo you have just cloned. This is located in\n",
    "\n",
    "`/content/drive/MyDrive/Colab Notebooks/minGPT`\n",
    "\n",
    "After you navigate to this folder, you can open files directly and modify them within Colab.\n",
    "\n",
    "<img src=\"https://drive.google.com/uc?id=1v88T2um69mf4W4Jvzt2f-Se8-YlDDZmz\" width=300/>"
   ]
  },
  {
   "cell_type": "code",
   "execution_count": null,
   "metadata": {
    "cellView": "form",
    "id": "Y03RSXQvcUjf"
   },
   "outputs": [],
   "source": [
    "#@title Step 0: Enter your name to begin.\n",
    "#@markdown Enter your name as it appears in Slack and run this cell! This is optional -- you can also leave this blank.\n",
    "Name = ' ' #@param {type:\"string\"}\n",
    "filepath = '/content/drive/MyDrive/Colab Notebooks/dle_info.txt'\n",
    "if os.path.exists(filepath):\n",
    "  print(\"Success!\")\n",
    "else:\n",
    "  if len(Name) == 0:\n",
    "    print(\"Please set your name!\")\n",
    "  else:\n",
    "    try:\n",
    "      with open(filepath, 'w') as fp:\n",
    "        fp.write(Name)\n",
    "        dle_username = Name\n",
    "      print(\"Success!\")\n",
    "    except:\n",
    "      print(\"Something went wrong...\")\n"
   ]
  },
  {
   "cell_type": "markdown",
   "metadata": {
    "id": "a_fF1tq1n2RC"
   },
   "source": [
    "## Part 1: The Life of a Prompt (~10 min)\n",
    "\n",
    "<img src=\"https://seeklogo.com/images/C/chatgpt-logo-02AFA704B5-seeklogo.com.png\" width='200px' height='200px'>\n",
    "\n",
    "What happens when we type a prompt into ChatGPT? How does it know what to say? (How can we know it's not just a person pretending to be an AI on the other end? 😏).\n",
    "\n",
    "ChatGPT uses **GPT-3** as the backbone model for all of its responses. By backbone model, we mean that this is the model that interprets and aims to \"understand\" the prompt. There are other bells and whistles that are needed to make the experience smoother, but GPT-3 is the brains 🧠 behind everything.\n",
    "\n",
    "In this section will cover the basics of GPT (Generative Pre-trained Transformer). GPT was developed by OpenAI, and serves as the backbone of their flagship product, Chat-GPT.\n",
    "\n",
    "We will be working with a simplified version of GPT called minGPT (written by *Andrej Karpathy*) to be a more human-understandable implementation. Also, we'll be using GPT-2, which is a smaller, earlier version of GPT-3. Though different, there are actually very few conceptual differences between GPT-2 and GPT-3!\n",
    "\n",
    "**TODO**:\n",
    "\n",
    "Open up ```minGPT/mingpt/model.py``` in the folder tab on the left side of this notebook by double clicking its name. It should then appear on the right hand side of this notebook. The model we will be using is defined under ```class GPT(nn.Module)```.\n",
    "\n",
    "We'll dig into the model in a second. First, let's just run some examples through it to get a feel.\n",
    "\n",
    "**Run the cell below.** This cell loads the GPT-2 model and creates a function, `generate_text()`, that generates text using GPT-2 given a prompt."
   ]
  },
  {
   "cell_type": "code",
   "execution_count": 3,
   "metadata": {
    "colab": {
     "base_uri": "https://localhost:8080/",
     "height": 188,
     "referenced_widgets": [
      "2206cd72bb524c22b4d0bccfb9ce0b4a",
      "1ef40cedf8b4484c8fbdd0ffd69887d4",
      "4adbb246d7ec49fbb0b255d5cb8e564a",
      "20be2eb8672c4cb1a76d89673e95b23a",
      "6344b478a5744090b35001dfc4d494fb",
      "29ce2c288655405da2816d51949b9c68",
      "0adfbf3a98884063875d08008079f991",
      "117d1f166c29453c815c4ca616f70a61",
      "8a8b0a9cb77b4c3cb9334ecdd945b651",
      "447abca524b449a688e5342a1389dee0",
      "f1914ac6bf9d4cc887e2d0efac719bd1",
      "9836a952d184410bb7db9ff95d360c1c",
      "35b0f48dfe40474ab86b5ae61ee4974b",
      "864e8d3833924d06a38e6dddc1e65a86",
      "507ca051da0d40b8a33f47da58bc8702",
      "6a58d6dc80c045e5bdfbc0d471ad71fa",
      "c6670f81cfa142799f963548ce66df23",
      "1de0a0e1e7484d0b9fd13fa45c5c74aa",
      "c8acdef90e5a4f5eb6772ea2023c19e8",
      "cab8d03e75564922bfbbdb9274f21c9f",
      "77a42fe0fcca407f978322183b2a8923",
      "c90484924a0b4939aa36478ba91d6edc",
      "77a34ebe584f400abd59606b98c4f174",
      "850425cac213497e905b36da4e659407",
      "ee4132e7e9ed4d838d2e0b62f5e3289b",
      "8759460ba4e046bc8a39d2d1af032ccd",
      "3b115542632b478f8df8bb43bb541153",
      "eb290c54e2d34f0b9096a36dfc7490d7",
      "bc006d91ec0b47a1bb6ae4755b02392b",
      "00882c33735e4b088ae87a6a9b631454",
      "fd424b4aace24885ae30917b2b328dba",
      "51d98c0b95cd451b966650b49b0a1858",
      "0eff6f3049474b1f8ccb87b298e5026f"
     ]
    },
    "executionInfo": {
     "elapsed": 13546,
     "status": "ok",
     "timestamp": 1688917644067,
     "user": {
      "displayName": "Ruth Vilar",
      "userId": "17604228112721847304"
     },
     "user_tz": -120
    },
    "id": "xw8cepvdoLqh",
    "outputId": "580df131-0737-41a8-a046-304bf5e19e67"
   },
   "outputs": [
    {
     "name": "stdout",
     "output_type": "stream",
     "text": [
      "number of parameters: 124.44M\n"
     ]
    },
    {
     "data": {
      "application/vnd.jupyter.widget-view+json": {
       "model_id": "2206cd72bb524c22b4d0bccfb9ce0b4a",
       "version_major": 2,
       "version_minor": 0
      },
      "text/plain": [
       "Downloading (…)lve/main/config.json:   0%|          | 0.00/665 [00:00<?, ?B/s]"
      ]
     },
     "metadata": {},
     "output_type": "display_data"
    },
    {
     "data": {
      "application/vnd.jupyter.widget-view+json": {
       "model_id": "9836a952d184410bb7db9ff95d360c1c",
       "version_major": 2,
       "version_minor": 0
      },
      "text/plain": [
       "Downloading model.safetensors:   0%|          | 0.00/548M [00:00<?, ?B/s]"
      ]
     },
     "metadata": {},
     "output_type": "display_data"
    },
    {
     "data": {
      "application/vnd.jupyter.widget-view+json": {
       "model_id": "77a34ebe584f400abd59606b98c4f174",
       "version_major": 2,
       "version_minor": 0
      },
      "text/plain": [
       "Downloading (…)neration_config.json:   0%|          | 0.00/124 [00:00<?, ?B/s]"
      ]
     },
     "metadata": {},
     "output_type": "display_data"
    },
    {
     "name": "stdout",
     "output_type": "stream",
     "text": [
      "downloading https://openaipublic.blob.core.windows.net/gpt-2/models/124M/encoder.json to /root/.cache/mingpt/encoder.json\n",
      "downloading https://openaipublic.blob.core.windows.net/gpt-2/models/124M/vocab.bpe to /root/.cache/mingpt/vocab.bpe\n"
     ]
    }
   ],
   "source": [
    "from minGPT import mingpt\n",
    "from mingpt.model import GPT\n",
    "from mingpt.bpe import BPETokenizer\n",
    "\n",
    "model = GPT.from_pretrained('gpt2')\n",
    "tokenizer = BPETokenizer()\n",
    "\n",
    "def generate_text(prompt, model=model, num_samples=3, num_tokens_per_response=50):\n",
    "  x = tokenizer(prompt).expand(num_samples, -1)\n",
    "  response = model.generate(x, max_new_tokens=num_tokens_per_response, do_sample=True, top_k=5)\n",
    "  print(prompt)\n",
    "  print('-'*80)\n",
    "  for i in range(num_samples):\n",
    "    print(f'Response {i+1}: {tokenizer.decode(response[i].cpu().squeeze())[len(prompt):]}')\n",
    "    print('-'*80)"
   ]
  },
  {
   "cell_type": "code",
   "execution_count": 4,
   "metadata": {
    "cellView": "form",
    "colab": {
     "base_uri": "https://localhost:8080/"
    },
    "executionInfo": {
     "elapsed": 24267,
     "status": "ok",
     "timestamp": 1688917710724,
     "user": {
      "displayName": "Ruth Vilar",
      "userId": "17604228112721847304"
     },
     "user_tz": -120
    },
    "id": "Zgb2Bu8sAn7R",
    "outputId": "9194ab5d-a9e4-4f89-e7d6-56a1c0640312"
   },
   "outputs": [
    {
     "name": "stdout",
     "output_type": "stream",
     "text": [
      "The best programming language for beginners is\n",
      "--------------------------------------------------------------------------------\n",
      "Response 1:  C++. C is the most popular programming language. C is a great way to learn and learn programming.\n",
      "\n",
      "The first part of C is C++. C is the most popular programming language. You can read C code in a a C\n",
      "--------------------------------------------------------------------------------\n",
      "Response 2:  Ruby.\n",
      "\n",
      "Ruby is the best programming language for beginners.\n",
      "\n",
      "Ruby's syntax is very readable and it's syntax is also very simple to read. It also has a lot of interesting properties.\n",
      "\n",
      "There is a lot of good information\n",
      "--------------------------------------------------------------------------------\n",
      "Response 3:  Python.\n",
      "\n",
      "The most important part of Python is that I've been writing Python for a long time. The reason why is simple.\n",
      "\n",
      "Python is a programming language. It has all these wonderful features. It is a language. It is\n",
      "--------------------------------------------------------------------------------\n"
     ]
    }
   ],
   "source": [
    "#@title Try a prompt\n",
    "#@markdown In this cell, type in a prompt, starting with the default.\n",
    "Prompt = 'The best programming language for beginners is' #@param {type:\"string\"}\n",
    "\n",
    "generate_text(Prompt)"
   ]
  },
  {
   "cell_type": "markdown",
   "metadata": {
    "id": "nOVSTqsD_I46"
   },
   "source": [
    "🎉 Hopefully, the answers from this model made some sense!\n",
    "\n",
    "If you find that the response is messy, this is in part because the model is spewing out words like a firehose. In practice, ChatGPT does additional tuning to make sure its responses are more natural.\n",
    "\n",
    "***So what is going on when a prompt is entered into the model?***\n",
    "\n",
    "We'll be going through a guided tutorial which we call **\"The life of a prompt\"**. We will take you through all the steps that a prompt goes through before the response is generated."
   ]
  },
  {
   "cell_type": "markdown",
   "metadata": {
    "id": "ooR3-rNJ8Qod"
   },
   "source": [
    "## Part 2: Input preprocessing (~15 min)\n",
    "\n",
    "You'll notice in our function ```generate_text``` (the one provided a couple cells up, not in ```model.py```) that we do two steps before feeding the prompt into the model: (1) tokenization, (2) reshaping.\n",
    "\n",
    "(1) Tokenization is the process of breaking down free text into individual units (tokens). Tokens can be words like \"coffee\", \"cell\", or \"search\". They can also be subwords, such as the word \"psychology\" broken into \"psycho\" and \"logy\". This is what ```tokenize(prompt)``` does.\n",
    "\n",
    "In the cell below, we'll be using a tokenizer that's a little more understandable. (Read more about it [here](https://huggingface.co/transformers/v4.2.2/main_classes/tokenizer.html)).\n",
    "\n",
    "**TODO**: Run the line below to load the tokenizer.\n"
   ]
  },
  {
   "cell_type": "code",
   "execution_count": 5,
   "metadata": {
    "colab": {
     "base_uri": "https://localhost:8080/",
     "height": 145,
     "referenced_widgets": [
      "3fe2aab16467424aa6b3567978314f9d",
      "64c9bc47dae14f59a79b705634f3afa5",
      "377e2142902a4baaabdc02730cfceb99",
      "e67f7beb354c4c6286dc5a9ccec80806",
      "ba7c9d88ed4849b9860c4926e243ba47",
      "4488ad371f0c485b8f9e849533b95462",
      "869190802f604157a3fa096e66bf6415",
      "d4375a4e5ddf4715bc617f5cc690bea7",
      "a962fa8ed51b49ca911f699f2e4c80c1",
      "6f7f7556f8924ed8b68f7968690927ae",
      "10cfee18d5a9455c84dec3d4445abc98",
      "667fa1112334494b99dbaa79642f8f87",
      "d8ca1f2b08614ae8a01244825b55d870",
      "21c3667e2f044e8da3395800dfffe71e",
      "8ef045b9f54d4f06a5f68e12f36c314a",
      "0d39bad2caa24750bc20a290a3d85d6e",
      "ad090079d41140dab4da21b029628f77",
      "a8c1e268f7584f0892166e364341039f",
      "4a54f681750d46d6b19a050a9208141d",
      "5b5318373f9b4d17a3ae89e78026665c",
      "25d95b08caf94510b71ec0b327ed637d",
      "fc304e970e844825bdcd8557cb8d8abe",
      "ea55c2cd1b874c74b4802bbed0b0ef11",
      "dcc721214a1b4f51951a877c8fd1eb4f",
      "0dffee631e4946008c89b972e95b3d0e",
      "96d76c8cb00340a6b599d05b4cc4e69b",
      "5fe9d7591de644c4a9aae82cc82e27b7",
      "430b0444902c499ab90bcfb4cbd00286",
      "f81998fab4834e5d83da75b14f00192f",
      "cf333703c41f4d198da3ed7aedf0d105",
      "d24d9983f0144bb898e8c35363a0190f",
      "8f464ec697424f608af6cf1debfee99e",
      "801fd79b2da24816af36c11113d9efc0",
      "652d2c6551754c6ca6b570e2e7a2737d",
      "a4b065a222bb4394b945720a26a1cff6",
      "0aeec5d3f78f4f39b82e6d5b18a2f30d",
      "2ddbe52c0d704f109702359fa42d7856",
      "aedb9d047e1c49a4b210451ed76ac697",
      "71129128292e4725951432f881ea604a",
      "8123a21106374143b1edf304b55f58fd",
      "8e95e2e4f45847ecac20af9a40391d61",
      "efa3b2cd2ad84f2d9cd94889cdbed9b3",
      "e061de5dda33411793cb7d951106f551",
      "f536b3a3e0f5425b905d0b32e8368f35"
     ]
    },
    "executionInfo": {
     "elapsed": 1081,
     "status": "ok",
     "timestamp": 1688917935396,
     "user": {
      "displayName": "Ruth Vilar",
      "userId": "17604228112721847304"
     },
     "user_tz": -120
    },
    "id": "oZC55D0MTP8M",
    "outputId": "11cd3bd2-8b1b-4a73-f50e-82f09687e964"
   },
   "outputs": [
    {
     "data": {
      "application/vnd.jupyter.widget-view+json": {
       "model_id": "3fe2aab16467424aa6b3567978314f9d",
       "version_major": 2,
       "version_minor": 0
      },
      "text/plain": [
       "Downloading (…)okenizer_config.json:   0%|          | 0.00/28.0 [00:00<?, ?B/s]"
      ]
     },
     "metadata": {},
     "output_type": "display_data"
    },
    {
     "data": {
      "application/vnd.jupyter.widget-view+json": {
       "model_id": "667fa1112334494b99dbaa79642f8f87",
       "version_major": 2,
       "version_minor": 0
      },
      "text/plain": [
       "Downloading (…)lve/main/config.json:   0%|          | 0.00/570 [00:00<?, ?B/s]"
      ]
     },
     "metadata": {},
     "output_type": "display_data"
    },
    {
     "data": {
      "application/vnd.jupyter.widget-view+json": {
       "model_id": "ea55c2cd1b874c74b4802bbed0b0ef11",
       "version_major": 2,
       "version_minor": 0
      },
      "text/plain": [
       "Downloading (…)solve/main/vocab.txt:   0%|          | 0.00/232k [00:00<?, ?B/s]"
      ]
     },
     "metadata": {},
     "output_type": "display_data"
    },
    {
     "data": {
      "application/vnd.jupyter.widget-view+json": {
       "model_id": "652d2c6551754c6ca6b570e2e7a2737d",
       "version_major": 2,
       "version_minor": 0
      },
      "text/plain": [
       "Downloading (…)/main/tokenizer.json:   0%|          | 0.00/466k [00:00<?, ?B/s]"
      ]
     },
     "metadata": {},
     "output_type": "display_data"
    }
   ],
   "source": [
    "from transformers import AutoTokenizer\n",
    "\n",
    "autotokenizer = AutoTokenizer.from_pretrained(\"bert-base-uncased\")"
   ]
  },
  {
   "cell_type": "markdown",
   "metadata": {
    "id": "KugMwyvjPall"
   },
   "source": [
    "**TODO**: Then, try a few different input strings to see how tokenization works:"
   ]
  },
  {
   "cell_type": "code",
   "execution_count": 6,
   "metadata": {
    "colab": {
     "base_uri": "https://localhost:8080/"
    },
    "executionInfo": {
     "elapsed": 207,
     "status": "ok",
     "timestamp": 1688917951057,
     "user": {
      "displayName": "Ruth Vilar",
      "userId": "17604228112721847304"
     },
     "user_tz": -120
    },
    "id": "Z7sy0LAYTThZ",
    "outputId": "08d85c2c-de08-43e6-ae4f-3e127b2356a5"
   },
   "outputs": [
    {
     "data": {
      "text/plain": [
       "['ethiopian',\n",
       " 'coffee',\n",
       " 'tastes',\n",
       " 'best',\n",
       " 'with',\n",
       " '10',\n",
       " 'minutes',\n",
       " 'of',\n",
       " 'brewing',\n",
       " '.']"
      ]
     },
     "execution_count": 6,
     "metadata": {},
     "output_type": "execute_result"
    }
   ],
   "source": [
    "# Try changing input_string with a few of your own sentences!\n",
    "input_string = \"Ethiopian coffee tastes best with 10 minutes of brewing.\"\n",
    "\n",
    "autotokenizer.tokenize(input_string)"
   ]
  },
  {
   "cell_type": "code",
   "execution_count": 8,
   "metadata": {
    "colab": {
     "base_uri": "https://localhost:8080/"
    },
    "executionInfo": {
     "elapsed": 210,
     "status": "ok",
     "timestamp": 1688918221178,
     "user": {
      "displayName": "Ruth Vilar",
      "userId": "17604228112721847304"
     },
     "user_tz": -120
    },
    "id": "PCLLcONjWuzw",
    "outputId": "b7a4105d-3e53-47b3-d224-45b180d233e5"
   },
   "outputs": [
    {
     "data": {
      "text/plain": [
       "['there',\n",
       " 'are',\n",
       " 'only',\n",
       " 'a',\n",
       " 'few',\n",
       " 'weeks',\n",
       " 'left',\n",
       " 'to',\n",
       " 'start',\n",
       " 'the',\n",
       " 'holidays',\n",
       " '.',\n",
       " 'i',\n",
       " 'can',\n",
       " \"'\",\n",
       " 't',\n",
       " 'wait',\n",
       " '!']"
      ]
     },
     "execution_count": 8,
     "metadata": {},
     "output_type": "execute_result"
    }
   ],
   "source": [
    "#input_string = \"The day is beautiful when sun is shining.\"\n",
    "input_string = \"There are only a few weeks left to start the holidays.I can't wait!\"\n",
    "autotokenizer.tokenize(input_string)"
   ]
  },
  {
   "cell_type": "markdown",
   "metadata": {
    "id": "QcbWDYVmUW8r"
   },
   "source": [
    "If you try a word like \"enumeration\", you'll notice the tokens are ['en', '##ume', '##ration']. The double hash \"##\" is used to indicate subwords that are part of larger words.\n",
    "\n",
    "This symbol is used by **Byte Pair Encoding (BPE)**, which is commonly used in NLP tasks. You'll also notice that it removes capitalization since it doesn't affect word meanings in most cases. (This is what the uncased means in `bert-base-uncased`).\n",
    "\n",
    "The next step is to convert tokens into input ids: Each token is mapped to an identification number in the overall vocabulary.\n",
    "\n",
    "**TODO**: In the cell below, find out what the input id for the word \"coffee\" is. Also, figure out what the size of the vocabulary is."
   ]
  },
  {
   "cell_type": "code",
   "execution_count": 12,
   "metadata": {
    "colab": {
     "base_uri": "https://localhost:8080/"
    },
    "executionInfo": {
     "elapsed": 197,
     "status": "ok",
     "timestamp": 1688918390727,
     "user": {
      "displayName": "Ruth Vilar",
      "userId": "17604228112721847304"
     },
     "user_tz": -120
    },
    "id": "HEV8lyGR0zyO",
    "outputId": "c30c7213-a733-4cb2-b861-b1c2d0a46202"
   },
   "outputs": [
    {
     "name": "stdout",
     "output_type": "stream",
     "text": [
      "The size of the vocabulary is 30522, and the input id for 'coffee' is 4157.\n"
     ]
    }
   ],
   "source": [
    "# You'll need the vocab first.\n",
    "vocab = autotokenizer.get_vocab()\n",
    "\n",
    "# Grab the input id for 'coffee'\n",
    "coffee_vocab_id = vocab['coffee']\n",
    "vocab_length = len(vocab)\n",
    "print(f\"The size of the vocabulary is {vocab_length}, and the input id for 'coffee' is {coffee_vocab_id}.\")"
   ]
  },
  {
   "cell_type": "code",
   "execution_count": 11,
   "metadata": {
    "colab": {
     "base_uri": "https://localhost:8080/",
     "height": 83
    },
    "executionInfo": {
     "elapsed": 213,
     "status": "ok",
     "timestamp": 1688918342763,
     "user": {
      "displayName": "Ruth Vilar",
      "userId": "17604228112721847304"
     },
     "user_tz": -120
    },
    "id": "Oq73COrzWT2y",
    "outputId": "c2a9d8d0-b25d-4d1c-b1bd-700e76dc7c81"
   },
   "outputs": [
    {
     "name": "stdout",
     "output_type": "stream",
     "text": [
      "Error: Please set your name first!\n"
     ]
    },
    {
     "data": {
      "text/markdown": [
       "## Correct! 🎉"
      ],
      "text/plain": [
       "<IPython.core.display.Markdown object>"
      ]
     },
     "execution_count": 11,
     "metadata": {},
     "output_type": "execute_result"
    }
   ],
   "source": [
    "check('2.1.1', tuple([coffee_vocab_id, vocab_length]))"
   ]
  },
  {
   "cell_type": "markdown",
   "metadata": {
    "id": "KNGf5FNtXwag"
   },
   "source": [
    "Easy enough, right? The tokenizer maps each prompt to its tokens, and then mapping those tokens to their input ids.\n",
    "\n",
    "Next, we are just left with reshaping the input.\n",
    "\n",
    "There's not too much to say about reshaping except for the fact that the line ```x = tokenizer(prompt).expand(num_samples, -1)``` has the ```expand``` component just to repeat the same prompt ```num_samples``` of times, each time aiming to get a different response to the prompt. (Think of it as a different \"try\" each time).\n",
    "\n",
    "___\n"
   ]
  },
  {
   "cell_type": "markdown",
   "metadata": {
    "id": "fCQRp6lZaDgv"
   },
   "source": [
    "## Part 3: Embeddings (~45 min)\n",
    "\n",
    "Scroll to line 283 in ```model.py```, where you'll find the function ```generate``` (different than the ```generate_text``` function we just worked with.) Try reading over this code to get a high-level understanding.\n",
    "\n",
    "The core of this function is found in line 293:\n",
    "\n",
    "```logits, _ = self(idx_cond)```.\n",
    "\n",
    "The self function calls ```forward```. In the ```forward``` function, you will find on line 267 our first focus point:\n",
    "\n",
    "```tok_emb = self.transformer.wte(idx)```\n",
    "\n",
    "Here, ```wte``` stands for word-token embedding.\n",
    "\n",
    "**TODO**: In the cell below, try running a sample prompt through this layer. Remember to first tokenize and reshape the prompt!\n",
    "\n"
   ]
  },
  {
   "cell_type": "code",
   "execution_count": 13,
   "metadata": {
    "colab": {
     "base_uri": "https://localhost:8080/"
    },
    "executionInfo": {
     "elapsed": 241,
     "status": "ok",
     "timestamp": 1688919119879,
     "user": {
      "displayName": "Ruth Vilar",
      "userId": "17604228112721847304"
     },
     "user_tz": -120
    },
    "id": "vcUacS5X02Xd",
    "outputId": "ea125b24-991e-4dd4-cebd-c806239cd388"
   },
   "outputs": [
    {
     "name": "stdout",
     "output_type": "stream",
     "text": [
      "torch.Size([1, 7, 768])\n"
     ]
    }
   ],
   "source": [
    "# Make sure the prompt is tokenized and reshaped\n",
    "prompt = 'Into the rabbit hole we go'\n",
    "x = tokenizer(prompt).expand(1, -1)\n",
    "\n",
    "# Pass x through the model.transformer.wte function\n",
    "x_embedding = model.transformer.wte(x)\n",
    "\n",
    "print(x_embedding.size())"
   ]
  },
  {
   "cell_type": "markdown",
   "metadata": {
    "id": "TU6kxlT9k084"
   },
   "source": [
    "What do you notice about the size of ```x_embedding``` vs ```x```?\n",
    "What dimension has grown?\n"
   ]
  },
  {
   "cell_type": "markdown",
   "metadata": {
    "id": "M_oy9iCxgHzt"
   },
   "source": [
    "The following code defines ```model.transformer.wte```:\n",
    "\n",
    "```wte = nn.Embedding(config.vocab_size, config.n_embd)```\n",
    "\n",
    "An embedding layer is used, which you can learn more about [here](https://pytorch.org/docs/stable/generated/torch.nn.Embedding.html).\n",
    "\n",
    "**TODO**: To familiarize yourself with embedding layers, initialize an ```nn.Embedding``` layer with ```num_embeddings = 10``` and ```embedding_dim = 5```. Then, come up with an input, ```in_x```, that produces an output of size (2, 4, 5) after it's passed through this embedding layer.\n",
    "\n",
    "Here are a couple hints:\n",
    "1. ```num_embeddings``` refers to the highest number any index can be.\n",
    "2. Look into Pytorch tensor type ```torch.LongTensor```."
   ]
  },
  {
   "cell_type": "code",
   "execution_count": 15,
   "metadata": {
    "colab": {
     "base_uri": "https://localhost:8080/"
    },
    "executionInfo": {
     "elapsed": 190,
     "status": "ok",
     "timestamp": 1688921392025,
     "user": {
      "displayName": "Ruth Vilar",
      "userId": "17604228112721847304"
     },
     "user_tz": -120
    },
    "id": "88bWKJG_4HZ3",
    "outputId": "936b5cc9-5232-4f62-fb80-d739866c1d76"
   },
   "outputs": [
    {
     "data": {
      "text/plain": [
       "torch.Size([2, 4, 5])"
      ]
     },
     "execution_count": 15,
     "metadata": {},
     "output_type": "execute_result"
    }
   ],
   "source": [
    "# Create embedding layer\n",
    "emb_layer = nn.Embedding(10,5)\n",
    "\n",
    "# Create input that produces output of size (2, 4, 5)\n",
    "in_x = torch.LongTensor([[1,2,5,6],[2,3,8,9]])\n",
    "\n",
    "out_x = emb_layer(in_x)\n",
    "out_x.size()"
   ]
  },
  {
   "cell_type": "code",
   "execution_count": 16,
   "metadata": {
    "colab": {
     "base_uri": "https://localhost:8080/",
     "height": 64
    },
    "executionInfo": {
     "elapsed": 225,
     "status": "ok",
     "timestamp": 1688921419394,
     "user": {
      "displayName": "Ruth Vilar",
      "userId": "17604228112721847304"
     },
     "user_tz": -120
    },
    "id": "81NgnREMx3ma",
    "outputId": "db6ec37e-ef3b-4e7b-b9cd-16d8ad3037a0"
   },
   "outputs": [
    {
     "data": {
      "text/markdown": [
       "## Correct! 🎉"
      ],
      "text/plain": [
       "<IPython.core.display.Markdown object>"
      ]
     },
     "execution_count": 16,
     "metadata": {},
     "output_type": "execute_result"
    }
   ],
   "source": [
    "check('2.1.2', out_x)"
   ]
  },
  {
   "cell_type": "markdown",
   "metadata": {
    "id": "tNFQZF25yXmI"
   },
   "source": [
    "Great! So what does this all mean?\n",
    "\n",
    "In the shape (2, 4, 5), the 2 refers to the number of samples. For each sample, there is a (4, 5) tensor that represents the prompt. The 4 refers to the length of each prompt (number of tokens), and the final dimension 5 refers to the fact that each token is represented by a length-5 vector.\n",
    "\n",
    "**In a nutshell**:\n",
    "\n",
    "*Token -> nn.Embedding -> vector of size ```embedding_dim```*\n",
    "\n",
    "```nn.Embedding``` is a trainable layer, meaning that as the model sees more data, the exact way in which it associates the embeddings to each token changes.\n",
    "\n",
    "Let's see an example of this.\n",
    "\n",
    "**TODO**:\n",
    "\n",
    "In the cell below, create your own ```nn.Embedding``` layer that has the same number of input and output dimensions as ```model.transformer.wte```. Hint: You can find this out by just printing the object itself out."
   ]
  },
  {
   "cell_type": "code",
   "execution_count": 17,
   "metadata": {
    "colab": {
     "base_uri": "https://localhost:8080/"
    },
    "executionInfo": {
     "elapsed": 194,
     "status": "ok",
     "timestamp": 1688921761827,
     "user": {
      "displayName": "Ruth Vilar",
      "userId": "17604228112721847304"
     },
     "user_tz": -120
    },
    "id": "fOBuZCeMlMwI",
    "outputId": "85c51a22-99ef-4052-bd7d-8eb1f1646b17"
   },
   "outputs": [
    {
     "data": {
      "text/plain": [
       "Embedding(50257, 768)"
      ]
     },
     "execution_count": 17,
     "metadata": {},
     "output_type": "execute_result"
    }
   ],
   "source": [
    "model.transformer.wte"
   ]
  },
  {
   "cell_type": "code",
   "execution_count": 18,
   "metadata": {
    "executionInfo": {
     "elapsed": 851,
     "status": "ok",
     "timestamp": 1688921811212,
     "user": {
      "displayName": "Ruth Vilar",
      "userId": "17604228112721847304"
     },
     "user_tz": -120
    },
    "id": "cHhgDPGH82fZ"
   },
   "outputs": [],
   "source": [
    "# Initialize the embedding layer\n",
    "untrained_embedding = nn.Embedding(model.transformer.wte.num_embeddings, model.transformer.wte.embedding_dim)"
   ]
  },
  {
   "cell_type": "code",
   "execution_count": 19,
   "metadata": {
    "colab": {
     "base_uri": "https://localhost:8080/",
     "height": 64
    },
    "executionInfo": {
     "elapsed": 198,
     "status": "ok",
     "timestamp": 1688921813129,
     "user": {
      "displayName": "Ruth Vilar",
      "userId": "17604228112721847304"
     },
     "user_tz": -120
    },
    "id": "xgrFV_N084FX",
    "outputId": "0bdec5e4-6b5c-4ec4-bca3-45c0ad073421"
   },
   "outputs": [
    {
     "data": {
      "text/markdown": [
       "## Correct! 🎉"
      ],
      "text/plain": [
       "<IPython.core.display.Markdown object>"
      ]
     },
     "execution_count": 19,
     "metadata": {},
     "output_type": "execute_result"
    }
   ],
   "source": [
    "check('2.1.3', untrained_embedding)"
   ]
  },
  {
   "cell_type": "markdown",
   "metadata": {
    "id": "vP0My4VV8wgk"
   },
   "source": [
    "A great gutcheck for this is to ask yourself what the first dimension refers to in the context of the tokenizer.\n",
    "\n",
    "Next, let's take two similar words and find out how well it associates them together **before any training**.\n",
    "\n",
    "To measure the similarity between two embedding vectors, we'll be using a score called cosine similarity (which is ```F.cosine_similarity``` in PyTorch) to compare the embeddings. Very similar embeddings will have a cosine similarity closer to 1, and very dissimilar embeddings will have cosine similarity closer to 0. **Hint: You will need to use the ```dim``` argument to compare the right dimension (the one with 768).**\n",
    "\n",
    "Finally, populate ```similarity_untrained``` with the cosine similarity as a numpy float. **You'll need to turn a torch tensor into numpy for this!** (Also, think about which dimension actually has the answer you want if you're running into dimension issues).\n"
   ]
  },
  {
   "cell_type": "code",
   "execution_count": 22,
   "metadata": {
    "colab": {
     "base_uri": "https://localhost:8080/"
    },
    "executionInfo": {
     "elapsed": 187,
     "status": "ok",
     "timestamp": 1688924063739,
     "user": {
      "displayName": "Ruth Vilar",
      "userId": "17604228112721847304"
     },
     "user_tz": -120
    },
    "id": "N9W1rQW74j3m",
    "outputId": "fb21cdc9-40c6-47b8-a7d4-95f52a3dbb91"
   },
   "outputs": [
    {
     "name": "stdout",
     "output_type": "stream",
     "text": [
      "0.03579556569457054\n"
     ]
    }
   ],
   "source": [
    "# Use tokenizer to tokenize 'dog' and 'canine'\n",
    "word1 = tokenizer('dog')\n",
    "word2 = tokenizer('canine')\n",
    "\n",
    "# Extract embeddings\n",
    "word1_emb = untrained_embedding(word1)\n",
    "word2_emb = untrained_embedding(word2)\n",
    "\n",
    "# Compute the cosine similarity between word1_emb and word2_emb\n",
    "similarity_untrained = F.cosine_similarity(word1_emb,word2_emb,dim=2)\n",
    "similarity_untrained = float(similarity_untrained[0][0].detach().numpy()) # Convert to numpy float\n",
    "\n",
    "print(similarity_untrained)"
   ]
  },
  {
   "cell_type": "markdown",
   "metadata": {
    "id": "Ep9W-XJQGBwV"
   },
   "source": [
    "**TODO**:\n",
    "Next, you will be using the ```wte``` (word token embedding) layer from the model that has already been trained. The goal is to notice the difference before and after model training. The embedding produced after training should be much better than random."
   ]
  },
  {
   "cell_type": "code",
   "execution_count": 24,
   "metadata": {
    "colab": {
     "base_uri": "https://localhost:8080/"
    },
    "executionInfo": {
     "elapsed": 195,
     "status": "ok",
     "timestamp": 1688924225579,
     "user": {
      "displayName": "Ruth Vilar",
      "userId": "17604228112721847304"
     },
     "user_tz": -120
    },
    "id": "lT1kzDZH53rd",
    "outputId": "e82328e1-0c54-4754-aa8e-58541a31bf3f"
   },
   "outputs": [
    {
     "name": "stdout",
     "output_type": "stream",
     "text": [
      "0.2727155387401581\n"
     ]
    }
   ],
   "source": [
    "# Extract embeddings\n",
    "word1_emb = model.transformer.wte(word1)\n",
    "word2_emb = model.transformer.wte(word2)\n",
    "\n",
    "# Compute the cosine similarity\n",
    "similarity_trained = F.cosine_similarity(word1_emb,word2_emb,dim=2)\n",
    "similarity_trained = float(similarity_trained[0][0].detach().numpy()) # Convert to numpy float\n",
    "\n",
    "print(similarity_trained)"
   ]
  },
  {
   "cell_type": "code",
   "execution_count": 25,
   "metadata": {
    "colab": {
     "base_uri": "https://localhost:8080/",
     "height": 64
    },
    "executionInfo": {
     "elapsed": 177,
     "status": "ok",
     "timestamp": 1688924230130,
     "user": {
      "displayName": "Ruth Vilar",
      "userId": "17604228112721847304"
     },
     "user_tz": -120
    },
    "id": "3eW5V2HNG7fU",
    "outputId": "ff054717-8b59-49f8-c675-219af803a144"
   },
   "outputs": [
    {
     "data": {
      "text/markdown": [
       "## Correct! 🎉"
      ],
      "text/plain": [
       "<IPython.core.display.Markdown object>"
      ]
     },
     "execution_count": 25,
     "metadata": {},
     "output_type": "execute_result"
    }
   ],
   "source": [
    "check('2.1.4', tuple([similarity_untrained, similarity_trained]))"
   ]
  },
  {
   "cell_type": "markdown",
   "metadata": {
    "id": "HNC24ORnHYA2"
   },
   "source": [
    "Great! If done correctly, you should find that the random initialization has a very low similarity score between two related words (\"dog\", \"canine\").\n",
    "\n",
    "After training, the model's ```wte``` layer associates similar words more closely. Another way to look at this is that the model's embeddings represent \"meaning\" much more strongly."
   ]
  },
  {
   "cell_type": "markdown",
   "metadata": {
    "id": "TlkMm6WY6Q8A"
   },
   "source": [
    "Let's try one more exercise here. Rather than find the embedding for a single word, can we extract the embedding for a whole sentence?\n",
    "\n",
    "Because the embedding layer will produce a 768-sized vector for each token, we will need to find a way to \"squash\" that into a fixed-length vector. One common method is just to take the average value along each of the 768 dimensions.\n",
    "\n",
    "**TODO**:\n",
    "In the cell below, tokenize the prompt and extract the embeddings. What are the dimensions of the embeddings? Compute the mean embedding."
   ]
  },
  {
   "cell_type": "code",
   "execution_count": 29,
   "metadata": {
    "executionInfo": {
     "elapsed": 569,
     "status": "ok",
     "timestamp": 1688924633703,
     "user": {
      "displayName": "Ruth Vilar",
      "userId": "17604228112721847304"
     },
     "user_tz": -120
    },
    "id": "YFptIxYN-aCQ"
   },
   "outputs": [],
   "source": [
    "sentence = \"Dogs are one of the most popular pets in the world.\"\n",
    "\n",
    "# Tokenize sentence and extract embedding from the trained layer\n",
    "sentence_emb = model.transformer.wte(tokenizer(sentence))\n",
    "\n",
    "# Compute the mean of the layer across all words in the sentence.\n",
    "mean_emb = torch.mean(sentence_emb,dim=1)"
   ]
  },
  {
   "cell_type": "code",
   "execution_count": 30,
   "metadata": {
    "colab": {
     "base_uri": "https://localhost:8080/",
     "height": 64
    },
    "executionInfo": {
     "elapsed": 488,
     "status": "ok",
     "timestamp": 1688924636377,
     "user": {
      "displayName": "Ruth Vilar",
      "userId": "17604228112721847304"
     },
     "user_tz": -120
    },
    "id": "JW2Myu8296eC",
    "outputId": "58d6a2f5-1bca-4650-df37-2af787db0313"
   },
   "outputs": [
    {
     "data": {
      "text/markdown": [
       "## Correct! 🎉"
      ],
      "text/plain": [
       "<IPython.core.display.Markdown object>"
      ]
     },
     "execution_count": 30,
     "metadata": {},
     "output_type": "execute_result"
    }
   ],
   "source": [
    "check('2.1.5', mean_emb)"
   ]
  },
  {
   "cell_type": "markdown",
   "metadata": {
    "id": "4A_6Yjfm6yyS"
   },
   "source": [
    "Let's test out how well this works on the task of comparing sentence. Below are three sentences. The first sentence is a linear regression formula, and the second and third are statements about dogs. The idea is that the cosine similarity between sentence B and sentence C should be higher than the cosine similarity between sentence A and B or A and C.\n",
    "\n",
    "**TODO**: Run the following cell. Then, compute the cosine similarities below (as numpy floats)."
   ]
  },
  {
   "cell_type": "code",
   "execution_count": 40,
   "metadata": {
    "executionInfo": {
     "elapsed": 190,
     "status": "ok",
     "timestamp": 1688925029244,
     "user": {
      "displayName": "Ruth Vilar",
      "userId": "17604228112721847304"
     },
     "user_tz": -120
    },
    "id": "S4kiUPpX3Sjs"
   },
   "outputs": [],
   "source": [
    "sentenceA = \"y = β₀ + β₁x₁ + β₂x₂ + … + βₚxₚ + ε\"\n",
    "sentenceB = \"Dogs are one of the most popular pets in the world.\"\n",
    "sentenceC = \"There are over 300 different breeds of dogs.\""
   ]
  },
  {
   "cell_type": "code",
   "execution_count": 42,
   "metadata": {
    "colab": {
     "base_uri": "https://localhost:8080/"
    },
    "executionInfo": {
     "elapsed": 186,
     "status": "ok",
     "timestamp": 1688925123454,
     "user": {
      "displayName": "Ruth Vilar",
      "userId": "17604228112721847304"
     },
     "user_tz": -120
    },
    "id": "4Xshnlvy_T31",
    "outputId": "fbf51286-7367-4ccb-e8b1-f75c5aa28e86"
   },
   "outputs": [
    {
     "name": "stdout",
     "output_type": "stream",
     "text": [
      "0.51319766 0.8453177 0.60104316\n"
     ]
    }
   ],
   "source": [
    "# Extract mean sentence embeddings for each sentence.\n",
    "embA = torch.mean(model.transformer.wte(tokenizer(sentenceA)),dim=1)\n",
    "embB = torch.mean(model.transformer.wte(tokenizer(sentenceB)),dim=1)\n",
    "embC = torch.mean(model.transformer.wte(tokenizer(sentenceC)),dim=1)\n",
    "\n",
    "# Compute the cosine similarity for each pair of sentences and convert to a numpy float\n",
    "ABsim = F.cosine_similarity(embA,embB,dim=1).detach().numpy()[0]\n",
    "BCsim = F.cosine_similarity(embB,embC,dim=1).detach().numpy()[0]\n",
    "ACsim = F.cosine_similarity(embA,embC,dim=1).detach().numpy()[0]\n",
    "\n",
    "print(ABsim, BCsim, ACsim)"
   ]
  },
  {
   "cell_type": "code",
   "execution_count": 43,
   "metadata": {
    "colab": {
     "base_uri": "https://localhost:8080/",
     "height": 64
    },
    "executionInfo": {
     "elapsed": 186,
     "status": "ok",
     "timestamp": 1688925126729,
     "user": {
      "displayName": "Ruth Vilar",
      "userId": "17604228112721847304"
     },
     "user_tz": -120
    },
    "id": "t1HXSUvu-_IR",
    "outputId": "2f57b4bb-596b-4d91-c86d-0d8e8337a32a"
   },
   "outputs": [
    {
     "data": {
      "text/markdown": [
       "## Correct! 🎉"
      ],
      "text/plain": [
       "<IPython.core.display.Markdown object>"
      ]
     },
     "execution_count": 43,
     "metadata": {},
     "output_type": "execute_result"
    }
   ],
   "source": [
    "check('2.1.6', tuple([ABsim, BCsim, ACsim]))"
   ]
  },
  {
   "cell_type": "markdown",
   "metadata": {
    "id": "87NjfVJS74gJ"
   },
   "source": [
    "Now let's see if this works on a larger scale. In the variable ```SENTENCES``` is a list of 100 sentences. 90 of these sentences are about cats or dogs, while 10 are about statistics.\n",
    "\n",
    "\n",
    "**TODO**: Can you use sentence embeddings to figure out which 10 are about statistics **without looking at them**?\n",
    "\n",
    "This part is open-ended. In general terms, you should: (1) extract and compute the mean embeddings for each sentence. (2) Compare the embeddings with one another. For example, you could try a [clustering method](https://scikit-learn.org/stable/modules/clustering.html)!\n",
    "\n",
    "Once you finish, populate ```outlier_idx``` with a list of the indices (a numpy array) in ```SENTENCES``` which contain the statistics sentences."
   ]
  },
  {
   "cell_type": "code",
   "execution_count": 47,
   "metadata": {
    "colab": {
     "base_uri": "https://localhost:8080/"
    },
    "executionInfo": {
     "elapsed": 177,
     "status": "ok",
     "timestamp": 1688925965621,
     "user": {
      "displayName": "Ruth Vilar",
      "userId": "17604228112721847304"
     },
     "user_tz": -120
    },
    "id": "L3x86spx1EeD",
    "outputId": "9d407779-7649-43fb-9be0-feac3ecf530c"
   },
   "outputs": [
    {
     "data": {
      "text/plain": [
       "100"
      ]
     },
     "execution_count": 47,
     "metadata": {},
     "output_type": "execute_result"
    }
   ],
   "source": [
    "sentence_example = SENTENCES[0]\n",
    "sentence_example\n",
    "len(SENTENCES)"
   ]
  },
  {
   "cell_type": "code",
   "execution_count": 51,
   "metadata": {
    "colab": {
     "base_uri": "https://localhost:8080/"
    },
    "executionInfo": {
     "elapsed": 493,
     "status": "ok",
     "timestamp": 1688926275753,
     "user": {
      "displayName": "Ruth Vilar",
      "userId": "17604228112721847304"
     },
     "user_tz": -120
    },
    "id": "kMxeyyyPE4w5",
    "outputId": "555501a9-574f-4bec-f4bb-b88c2c4b859f"
   },
   "outputs": [
    {
     "name": "stderr",
     "output_type": "stream",
     "text": [
      "/usr/local/lib/python3.10/dist-packages/sklearn/cluster/_kmeans.py:870: FutureWarning: The default value of `n_init` will change from 10 to 'auto' in 1.4. Set the value of `n_init` explicitly to suppress the warning\n",
      "  warnings.warn(\n"
     ]
    },
    {
     "data": {
      "text/plain": [
       "array([ 5,  9, 11, 27, 32, 50, 73, 74, 77, 95])"
      ]
     },
     "execution_count": 51,
     "metadata": {},
     "output_type": "execute_result"
    }
   ],
   "source": [
    "# Your code here\n",
    "\n",
    "from sklearn.cluster import KMeans\n",
    "embeddings=[]\n",
    "for sentence in SENTENCES:\n",
    "  embeddings.append(torch.mean(model.transformer.wte(tokenizer(sentence)),dim=1).detach().numpy()[0])\n",
    "\n",
    "emb = np.array(embeddings)\n",
    "kmeans = KMeans(n_clusters=2, random_state=0).fit(emb)\n",
    "\n",
    "kmeans.labels_\n",
    "outlier_idx = np.where((kmeans.labels_)==0)[0]\n",
    "outlier_idx"
   ]
  },
  {
   "cell_type": "code",
   "execution_count": 52,
   "metadata": {
    "colab": {
     "base_uri": "https://localhost:8080/",
     "height": 64
    },
    "executionInfo": {
     "elapsed": 197,
     "status": "ok",
     "timestamp": 1688926287260,
     "user": {
      "displayName": "Ruth Vilar",
      "userId": "17604228112721847304"
     },
     "user_tz": -120
    },
    "id": "XwyS_Tj3FH1F",
    "outputId": "8e7346d7-0d52-43b5-bc7e-fca524de26f0"
   },
   "outputs": [
    {
     "data": {
      "text/markdown": [
       "## Correct! 🎉"
      ],
      "text/plain": [
       "<IPython.core.display.Markdown object>"
      ]
     },
     "execution_count": 52,
     "metadata": {},
     "output_type": "execute_result"
    }
   ],
   "source": [
    "check('2.1.7', outlier_idx)"
   ]
  },
  {
   "cell_type": "markdown",
   "metadata": {
    "id": "qZlD8CLwcwsu"
   },
   "source": [
    "Next, we will be covering the ```block```, which is referenced on line 148 and defined starting line 73:\n",
    "\n",
    "Each block consists of two parts: ```self.attn``` and ```self.mlpf```. We'll focus on ```self.attn```, as ```self.mlpf``` is conceptually just an MLP.\n",
    "\n",
    "The attention mechanism is the core of what makes a Transformer, a Transformer.\n"
   ]
  },
  {
   "cell_type": "markdown",
   "metadata": {
    "id": "BYl2teB8_vgD"
   },
   "source": [
    "## Part 3: Self-Attention (~30 min)\n",
    "\n",
    "If you  examine ```model.transformer.h```, you will see a list of blocks, which each contain their own ```attn``` layer.\n",
    "\n",
    "Let's say we have a sentence: \"All the dogs bark at John for food\". Intuitively, we understand that the word \"bark\" refers to the dogs, rather than John. Does the model understand the same?\n",
    "\n",
    "We will be testing this out in a little experiment below.\n",
    "\n",
    "First, tokenize the sentence and store its embedding using ```wte``` (use only one sample).\n"
   ]
  },
  {
   "cell_type": "code",
   "execution_count": 53,
   "metadata": {
    "executionInfo": {
     "elapsed": 189,
     "status": "ok",
     "timestamp": 1688926501350,
     "user": {
      "displayName": "Ruth Vilar",
      "userId": "17604228112721847304"
     },
     "user_tz": -120
    },
    "id": "GCvGrl2wAjH1"
   },
   "outputs": [],
   "source": [
    "input_string = 'All the dogs bark at John for food'\n",
    "\n",
    "# Tokenize and extract embeddings\n",
    "x = tokenizer(input_string)\n",
    "x_emb = model.transformer.wte(x)"
   ]
  },
  {
   "cell_type": "markdown",
   "metadata": {
    "id": "P_ec_LeXsISu"
   },
   "source": [
    "**TODO**:\n",
    "\n",
    "Next, go to line 29 where ```CausalSelfAttention``` is defined.\n",
    "\n",
    "We want to extract the attentions directly to see what's going on. After line 64, add ```return att```. This should come after ```att = F.softmax(att, dim=-1)``` and before ```att = self.attn_dropout(att)```. Next, comment out line 63: ```att = att.masked_fill(self.bias[:,:,:T,:T] == 0, float('-inf'))```. This is done so to save computation, but we want the whole attention matrix for interpretability purposes.\n",
    "\n",
    "Save ```model.py``` and return back to this notebook.\n",
    "\n",
    "Now, in the cell below, do the following steps:\n",
    "\n",
    "1. First, examine ```model.transformer.h```. You will notice a ```ModuleList``` containing 12 blocks. We'll only be using the first block in this list. Pass the tokenized sentence ```x_emb``` into this first block and extract the attention matrix for your sentence. The output should have shape 1x12x8x8, where 12 refers to the number of attention heads. (Note: the number of blocks is not the same as the number of attention heads, they just happen to be both 12!) Then, take the mean attention across all 12 attention heads so that you are left with a tensor of size 8x8. Hint: You can convert a tensor of dimension (1, 8, 8) to dimension (8, 8) by just calling ```.squeeze(0)``` on that tensor."
   ]
  },
  {
   "cell_type": "code",
   "execution_count": 54,
   "metadata": {
    "executionInfo": {
     "elapsed": 508,
     "status": "ok",
     "timestamp": 1688927344205,
     "user": {
      "displayName": "Ruth Vilar",
      "userId": "17604228112721847304"
     },
     "user_tz": -120
    },
    "id": "2JHD2LUdDKdb"
   },
   "outputs": [],
   "source": [
    "# Using only the first block, extract the attention matrix and take the mean over all 12 attention heads\n",
    "at1=model.transformer.h[0].attn(x_emb)\n",
    "at1_mean=at1.mean(dim=1)\n",
    "attn_mat = at1_mean.squeeze(0)"
   ]
  },
  {
   "cell_type": "code",
   "execution_count": 60,
   "metadata": {
    "colab": {
     "base_uri": "https://localhost:8080/"
    },
    "executionInfo": {
     "elapsed": 188,
     "status": "ok",
     "timestamp": 1688928668664,
     "user": {
      "displayName": "Ruth Vilar",
      "userId": "17604228112721847304"
     },
     "user_tz": -120
    },
    "id": "s00ksqiM_fye",
    "outputId": "713e4a6c-eb2d-418c-b3e4-ac815094cbf5"
   },
   "outputs": [
    {
     "data": {
      "text/plain": [
       "tensor([[0.4085, 0.0942, 0.0538, 0.0511, 0.1120, 0.1038, 0.1199, 0.0567],\n",
       "        [0.1316, 0.2520, 0.0633, 0.0660, 0.1358, 0.0958, 0.1698, 0.0857],\n",
       "        [0.0581, 0.0671, 0.3571, 0.1113, 0.0765, 0.0737, 0.0908, 0.1653],\n",
       "        [0.0615, 0.0720, 0.1572, 0.3954, 0.0802, 0.0531, 0.0915, 0.0892],\n",
       "        [0.1191, 0.0989, 0.0622, 0.1150, 0.2980, 0.0749, 0.1546, 0.0772],\n",
       "        [0.1031, 0.0728, 0.0643, 0.0653, 0.0798, 0.4705, 0.0888, 0.0554],\n",
       "        [0.1084, 0.1066, 0.0574, 0.0898, 0.1317, 0.0750, 0.3462, 0.0848],\n",
       "        [0.0691, 0.0705, 0.1426, 0.0611, 0.0895, 0.0538, 0.0908, 0.4224]],\n",
       "       grad_fn=<SqueezeBackward1>)"
      ]
     },
     "execution_count": 60,
     "metadata": {},
     "output_type": "execute_result"
    }
   ],
   "source": [
    "attn_mat"
   ]
  },
  {
   "cell_type": "code",
   "execution_count": 55,
   "metadata": {
    "colab": {
     "base_uri": "https://localhost:8080/",
     "height": 64
    },
    "executionInfo": {
     "elapsed": 229,
     "status": "ok",
     "timestamp": 1688927346646,
     "user": {
      "displayName": "Ruth Vilar",
      "userId": "17604228112721847304"
     },
     "user_tz": -120
    },
    "id": "1zYYJhNNOVhe",
    "outputId": "db3fc8af-43a9-4a94-d6ae-d6ed22dcfc64"
   },
   "outputs": [
    {
     "data": {
      "text/markdown": [
       "## Correct! 🎉"
      ],
      "text/plain": [
       "<IPython.core.display.Markdown object>"
      ]
     },
     "execution_count": 55,
     "metadata": {},
     "output_type": "execute_result"
    }
   ],
   "source": [
    "check('2.1.8', attn_mat)"
   ]
  },
  {
   "cell_type": "markdown",
   "metadata": {
    "id": "6BEgp60zEGGn"
   },
   "source": [
    "\n",
    "2. At this point, you can also visualize the attention matrix by using the line ```plt.imshow(attn_mat)```. Next, we're interested in what the word \"bark\" is paying attention to. For each 8x8 tensor, extract the row that corresponds to the word \"bark\" (think about what index this is from the prompt). You should be left with a tensor of length 8."
   ]
  },
  {
   "cell_type": "code",
   "execution_count": 56,
   "metadata": {
    "colab": {
     "base_uri": "https://localhost:8080/",
     "height": 448
    },
    "executionInfo": {
     "elapsed": 520,
     "status": "ok",
     "timestamp": 1688927360815,
     "user": {
      "displayName": "Ruth Vilar",
      "userId": "17604228112721847304"
     },
     "user_tz": -120
    },
    "id": "zjYCnt1dDNOg",
    "outputId": "c6e96aa1-04cb-4d8b-afe0-d9524b803566"
   },
   "outputs": [
    {
     "data": {
      "text/plain": [
       "<matplotlib.image.AxesImage at 0x7fec1d70e3e0>"
      ]
     },
     "execution_count": 56,
     "metadata": {},
     "output_type": "execute_result"
    },
    {
     "data": {
      "image/png": "[encoded data removed]",
      "text/plain": [
       "<Figure size 640x480 with 1 Axes>"
      ]
     },
     "metadata": {},
     "output_type": "display_data"
    }
   ],
   "source": [
    "# Run this cell to visualize what the attention matrix looks like\n",
    "plt.imshow(attn_mat.detach().numpy())"
   ]
  },
  {
   "cell_type": "code",
   "execution_count": 61,
   "metadata": {
    "executionInfo": {
     "elapsed": 202,
     "status": "ok",
     "timestamp": 1688928684475,
     "user": {
      "displayName": "Ruth Vilar",
      "userId": "17604228112721847304"
     },
     "user_tz": -120
    },
    "id": "VWE7s7cROg9w"
   },
   "outputs": [],
   "source": [
    "# Extract just the row for the word 'bark'\n",
    "attn_row = attn_mat[3, :]"
   ]
  },
  {
   "cell_type": "code",
   "execution_count": 67,
   "metadata": {
    "colab": {
     "base_uri": "https://localhost:8080/"
    },
    "executionInfo": {
     "elapsed": 457,
     "status": "ok",
     "timestamp": 1688928907064,
     "user": {
      "displayName": "Ruth Vilar",
      "userId": "17604228112721847304"
     },
     "user_tz": -120
    },
    "id": "VucDq1VC_pR4",
    "outputId": "122d5c9c-c93f-457f-b208-8db3b23418b2"
   },
   "outputs": [
    {
     "data": {
      "text/plain": [
       "array([0.0614529 , 0.07204362, 0.15721956, 0.3953736 , 0.08017719,\n",
       "       0.05306455, 0.0914693 , 0.08919927], dtype=float32)"
      ]
     },
     "execution_count": 67,
     "metadata": {},
     "output_type": "execute_result"
    }
   ],
   "source": [
    "attn_row.detach().numpy()"
   ]
  },
  {
   "cell_type": "code",
   "execution_count": 58,
   "metadata": {
    "colab": {
     "base_uri": "https://localhost:8080/",
     "height": 64
    },
    "executionInfo": {
     "elapsed": 201,
     "status": "ok",
     "timestamp": 1688927637814,
     "user": {
      "displayName": "Ruth Vilar",
      "userId": "17604228112721847304"
     },
     "user_tz": -120
    },
    "id": "1_PfU3gfOiNL",
    "outputId": "e1c935dd-ccf3-4e4d-f615-81bb799d5875"
   },
   "outputs": [
    {
     "data": {
      "text/markdown": [
       "## Correct! 🎉"
      ],
      "text/plain": [
       "<IPython.core.display.Markdown object>"
      ]
     },
     "execution_count": 58,
     "metadata": {},
     "output_type": "execute_result"
    }
   ],
   "source": [
    "check('2.1.9', attn_row)"
   ]
  },
  {
   "cell_type": "markdown",
   "metadata": {
    "id": "F0exj5szLexv"
   },
   "source": [
    "4. Finally, return a dictionary that has each word in the sentence as a key and its attention score as the value (as a numpy float). It should look something like ```{'All': 0.01, 'the': 0.22, ...}```\n",
    "\n",
    "Which word does \"bark\" attend to the most (besides \"bark\")? Between the dog and John, which word does \"bark\" attend more strongly towards?"
   ]
  },
  {
   "cell_type": "code",
   "execution_count": 71,
   "metadata": {
    "executionInfo": {
     "elapsed": 182,
     "status": "ok",
     "timestamp": 1688929075780,
     "user": {
      "displayName": "Ruth Vilar",
      "userId": "17604228112721847304"
     },
     "user_tz": -120
    },
    "id": "uV_HS0-mMnqE"
   },
   "outputs": [],
   "source": [
    "# Populate dictionary of words and values\n",
    "# Remember to convert the attention scores to a numpy float!\n",
    "list_words=input_string.split()\n",
    "attn_dict = {list_words[i]:attn_row.detach().numpy()[i] for i in range(len(list_words))}"
   ]
  },
  {
   "cell_type": "code",
   "execution_count": 72,
   "metadata": {
    "colab": {
     "base_uri": "https://localhost:8080/"
    },
    "executionInfo": {
     "elapsed": 194,
     "status": "ok",
     "timestamp": 1688929077714,
     "user": {
      "displayName": "Ruth Vilar",
      "userId": "17604228112721847304"
     },
     "user_tz": -120
    },
    "id": "ojjydpXp_wuV",
    "outputId": "0f358f17-7df2-4ccd-c706-36d614c41130"
   },
   "outputs": [
    {
     "data": {
      "text/plain": [
       "{'All': 0.061452895,\n",
       " 'the': 0.07204362,\n",
       " 'dogs': 0.15721956,\n",
       " 'bark': 0.3953736,\n",
       " 'at': 0.08017719,\n",
       " 'John': 0.053064555,\n",
       " 'for': 0.091469295,\n",
       " 'food': 0.089199275}"
      ]
     },
     "execution_count": 72,
     "metadata": {},
     "output_type": "execute_result"
    }
   ],
   "source": [
    "attn_dict"
   ]
  },
  {
   "cell_type": "code",
   "execution_count": 73,
   "metadata": {
    "colab": {
     "base_uri": "https://localhost:8080/",
     "height": 64
    },
    "executionInfo": {
     "elapsed": 193,
     "status": "ok",
     "timestamp": 1688929079993,
     "user": {
      "displayName": "Ruth Vilar",
      "userId": "17604228112721847304"
     },
     "user_tz": -120
    },
    "id": "AiGlPhuhO9jw",
    "outputId": "9f3cdfb6-e3a7-484a-a8aa-5812625d54b1"
   },
   "outputs": [
    {
     "data": {
      "text/markdown": [
       "## Correct! 🎉"
      ],
      "text/plain": [
       "<IPython.core.display.Markdown object>"
      ]
     },
     "execution_count": 73,
     "metadata": {},
     "output_type": "execute_result"
    }
   ],
   "source": [
    "# If this check isn't working, just make sure 'dog' has the highest score (next to 'bark')\n",
    "check('2.1.10', attn_dict)"
   ]
  },
  {
   "cell_type": "markdown",
   "metadata": {
    "id": "qN2w2B3JLkiZ"
   },
   "source": [
    "Let's try this for a sentence of your choice. (Sometimes, the tokenizer might split up a word into two pieces, so pick your sentences and attentions carefully)\n",
    "\n",
    "In the cell below, combine the code you wrote in the lines above and process the new input string to return the attention dictionary."
   ]
  },
  {
   "cell_type": "code",
   "execution_count": 74,
   "metadata": {
    "colab": {
     "base_uri": "https://localhost:8080/"
    },
    "executionInfo": {
     "elapsed": 206,
     "status": "ok",
     "timestamp": 1688929351502,
     "user": {
      "displayName": "Ruth Vilar",
      "userId": "17604228112721847304"
     },
     "user_tz": -120
    },
    "id": "GDhsjLqnRZAK",
    "outputId": "267d3ca6-4e7b-4b80-f887-5db64ff8bfe8"
   },
   "outputs": [
    {
     "name": "stdout",
     "output_type": "stream",
     "text": [
      "{'John': 0.09551824, 'has': 0.0674971, 'a': 0.07317672, 'dog': 0.29162195, 'barking': 0.2626432, 'all': 0.069595285, 'the': 0.0710811, 'time': 0.068866394}\n"
     ]
    }
   ],
   "source": [
    "input_string = 'John has a dog barking all the time'\n",
    "# Tokenize and extract embeddings\n",
    "x = tokenizer(input_string)\n",
    "x_emb = model.transformer.wte(x)\n",
    "attn_mat =model.transformer.h[0].attn(x_emb).mean(dim=1).squeeze(0)\n",
    "attn_row = attn_mat[3, :]\n",
    "list_words=input_string.split()\n",
    "attn_dict = {list_words[i]:attn_row.detach().numpy()[i] for i in range(len(list_words))}\n",
    "print(attn_dict)"
   ]
  },
  {
   "cell_type": "code",
   "execution_count": 75,
   "metadata": {
    "colab": {
     "base_uri": "https://localhost:8080/",
     "height": 64
    },
    "executionInfo": {
     "elapsed": 237,
     "status": "ok",
     "timestamp": 1688929379952,
     "user": {
      "displayName": "Ruth Vilar",
      "userId": "17604228112721847304"
     },
     "user_tz": -120
    },
    "id": "iN3tpUJKXwo8",
    "outputId": "6f9d0030-e1f2-45a9-c897-1420e845e74c"
   },
   "outputs": [
    {
     "data": {
      "text/markdown": [
       "## Correct! 🎉"
      ],
      "text/plain": [
       "<IPython.core.display.Markdown object>"
      ]
     },
     "execution_count": 75,
     "metadata": {},
     "output_type": "execute_result"
    }
   ],
   "source": [
    "check('2.1.11', attn_dict)"
   ]
  },
  {
   "cell_type": "markdown",
   "metadata": {
    "id": "kIYkhOngkJI9"
   },
   "source": [
    "Don't worry if this part is a bit involved! Feel free to ask away on Slack. (Think through what each dimension is referring to at each step).\n",
    "\n",
    "Do the attention scores still make sense? It would be great to share your thoughts! (You can alter the block you are examining, or even the method of taking the average over all heads).\n",
    "\n",
    "At the end of the day, interpreting attention scores are a finicky business, so don't be discouraged if you aren't getting exactly what you're looking for!"
   ]
  },
  {
   "cell_type": "markdown",
   "metadata": {
    "id": "dTuTmES6AT4C"
   },
   "source": [
    "## Part 4: Outputs (~20 min)\n",
    "\n",
    "Together, the input preprocessing, embeddings, and self-attention are the key parts of a transformer. There are many other components that make it work, and we will conver some of them next week (and other parts, you can familiarize on your own).\n",
    "\n",
    "Finally, we'll focus on how the output is processed.\n",
    "\n",
    "Delete the ```return att``` line you've injected in script, and uncomment out line 63. Remember to save! Now, return to line 293: ```logits, _ = self(idx_cond)```. We can recreate this line below:"
   ]
  },
  {
   "cell_type": "code",
   "execution_count": 76,
   "metadata": {
    "executionInfo": {
     "elapsed": 441,
     "status": "ok",
     "timestamp": 1688929476388,
     "user": {
      "displayName": "Ruth Vilar",
      "userId": "17604228112721847304"
     },
     "user_tz": -120
    },
    "id": "wP40C3o5xwR0"
   },
   "outputs": [],
   "source": [
    "# Just run the line below!\n",
    "\n",
    "input_string = 'To make bread, first add'\n",
    "x = tokenizer(input_string)\n",
    "\n",
    "logits_orig, _ = model(x)"
   ]
  },
  {
   "cell_type": "code",
   "execution_count": 77,
   "metadata": {
    "colab": {
     "base_uri": "https://localhost:8080/"
    },
    "executionInfo": {
     "elapsed": 470,
     "status": "ok",
     "timestamp": 1688929526728,
     "user": {
      "displayName": "Ruth Vilar",
      "userId": "17604228112721847304"
     },
     "user_tz": -120
    },
    "id": "WcohQUR-Crf_",
    "outputId": "226908a8-744d-4789-c78c-9d4d3e62f007"
   },
   "outputs": [
    {
     "data": {
      "text/plain": [
       "torch.Size([1, 6, 50257])"
      ]
     },
     "execution_count": 77,
     "metadata": {},
     "output_type": "execute_result"
    }
   ],
   "source": [
    "logits_orig.size()"
   ]
  },
  {
   "cell_type": "markdown",
   "metadata": {
    "id": "QlCvTtQPyAbH"
   },
   "source": [
    "Examine the size of ```logits```. What does each dimension refer to?\n",
    "\n",
    "Next, we only want to know what the model's next word prediction is after the final word of our input. In the cell below, extract the logits from the last word."
   ]
  },
  {
   "cell_type": "code",
   "execution_count": 78,
   "metadata": {
    "executionInfo": {
     "elapsed": 557,
     "status": "ok",
     "timestamp": 1688929600515,
     "user": {
      "displayName": "Ruth Vilar",
      "userId": "17604228112721847304"
     },
     "user_tz": -120
    },
    "id": "dByhQIEPRQ_8"
   },
   "outputs": [],
   "source": [
    "# Just extract the last in the sequence. Think carefully about which dimension you are extracting from!\n",
    "logits = logits_orig[:,-1,:]"
   ]
  },
  {
   "cell_type": "code",
   "execution_count": 79,
   "metadata": {
    "colab": {
     "base_uri": "https://localhost:8080/",
     "height": 64
    },
    "executionInfo": {
     "elapsed": 208,
     "status": "ok",
     "timestamp": 1688929603553,
     "user": {
      "displayName": "Ruth Vilar",
      "userId": "17604228112721847304"
     },
     "user_tz": -120
    },
    "id": "bAey_PvFRjVQ",
    "outputId": "0568bbef-4e43-4d68-ac95-e6d8f4a96238"
   },
   "outputs": [
    {
     "data": {
      "text/markdown": [
       "## Correct! 🎉"
      ],
      "text/plain": [
       "<IPython.core.display.Markdown object>"
      ]
     },
     "execution_count": 79,
     "metadata": {},
     "output_type": "execute_result"
    }
   ],
   "source": [
    "check('2.1.12', logits)"
   ]
  },
  {
   "cell_type": "markdown",
   "metadata": {
    "id": "vqXEbxUJ0Qcl"
   },
   "source": [
    "In the cell below, apply the softmax layer to the logits. This makes it so that all the probabilities assigned to each vocab word sum to one."
   ]
  },
  {
   "cell_type": "code",
   "execution_count": 80,
   "metadata": {
    "executionInfo": {
     "elapsed": 1331,
     "status": "ok",
     "timestamp": 1688929669115,
     "user": {
      "displayName": "Ruth Vilar",
      "userId": "17604228112721847304"
     },
     "user_tz": -120
    },
    "id": "fmUSZSsVSBGy"
   },
   "outputs": [],
   "source": [
    "# Just copy-paste line 301\n",
    "probs = F.softmax(logits, dim=-1)"
   ]
  },
  {
   "cell_type": "markdown",
   "metadata": {
    "id": "TtAaTQ9w1Ngk"
   },
   "source": [
    "Next, compute the top ten predictions using ```torch.topk```. Then, populate a dictionary ```scores_dict``` where the keys are ten tokens and the values are their relative probabilities. The keys should be strings and the values should be numpy floats. You'll have to do some Pytorch tensor manipulation and data type conversions here! (Remember, use ```tokenizer.decode()``` to convert indices back into the words they refer to)"
   ]
  },
  {
   "cell_type": "code",
   "execution_count": 95,
   "metadata": {
    "executionInfo": {
     "elapsed": 186,
     "status": "ok",
     "timestamp": 1688930375218,
     "user": {
      "displayName": "Ruth Vilar",
      "userId": "17604228112721847304"
     },
     "user_tz": -120
    },
    "id": "_m6CgwldTa37"
   },
   "outputs": [],
   "source": [
    "# Extract top 10 using torch.topk\n",
    "top10 = torch.topk(probs,k=10,dim=-1)\n",
    "#top10.indices[0].unsqueeze(0)\n",
    "#tokenizer.decode(top10.indices[0][0].unsqueeze(0))\n",
    "\n",
    "# Populate the dictionary\n",
    "scores_dict = {tokenizer.decode(top10.indices[0][i].unsqueeze(0)).strip():top10.values[0].detach().numpy()[i] for i in range(10)}"
   ]
  },
  {
   "cell_type": "code",
   "execution_count": 97,
   "metadata": {
    "colab": {
     "base_uri": "https://localhost:8080/"
    },
    "executionInfo": {
     "elapsed": 170,
     "status": "ok",
     "timestamp": 1688930394490,
     "user": {
      "displayName": "Ruth Vilar",
      "userId": "17604228112721847304"
     },
     "user_tz": -120
    },
    "id": "XAEkA0AzGH3D",
    "outputId": "20a57d9d-13a5-4d72-9e16-cdd32be3cd4d"
   },
   "outputs": [
    {
     "data": {
      "text/plain": [
       "{'butter': 0.082398035,\n",
       " 'water': 0.06649013,\n",
       " 'salt': 0.063245244,\n",
       " 'flour': 0.054999173,\n",
       " 'the': 0.0538088,\n",
       " 'milk': 0.04789214,\n",
       " 'it': 0.029870836,\n",
       " 'yeast': 0.027709387,\n",
       " 'a': 0.024514904,\n",
       " 'sugar': 0.022191176}"
      ]
     },
     "execution_count": 97,
     "metadata": {},
     "output_type": "execute_result"
    }
   ],
   "source": [
    "scores_dict"
   ]
  },
  {
   "cell_type": "code",
   "execution_count": 96,
   "metadata": {
    "colab": {
     "base_uri": "https://localhost:8080/",
     "height": 64
    },
    "executionInfo": {
     "elapsed": 171,
     "status": "ok",
     "timestamp": 1688930378651,
     "user": {
      "displayName": "Ruth Vilar",
      "userId": "17604228112721847304"
     },
     "user_tz": -120
    },
    "id": "ehobAIsSS5Fd",
    "outputId": "ff3742a7-05f4-41a9-c9ba-75bbad065e27"
   },
   "outputs": [
    {
     "data": {
      "text/markdown": [
       "## Correct! 🎉"
      ],
      "text/plain": [
       "<IPython.core.display.Markdown object>"
      ]
     },
     "execution_count": 96,
     "metadata": {},
     "output_type": "execute_result"
    }
   ],
   "source": [
    "check('2.1.13', scores_dict)"
   ]
  },
  {
   "cell_type": "markdown",
   "metadata": {
    "id": "y6vy6nga2lmR"
   },
   "source": [
    "You'll notice in the code, each logit is divided by a temperature. This smooths out the predictions such that there is less of a relative difference between the logits for each word.\n",
    "\n",
    "Let's see how this affects the relative predicted probabilities.\n",
    "Now, divide logits by a constant ```temperature=1.5```. Repeat the same steps in as the previous question and produce ```scores_dict_temp```, which is the scores after using temperature 1.5."
   ]
  },
  {
   "cell_type": "code",
   "execution_count": 98,
   "metadata": {
    "executionInfo": {
     "elapsed": 188,
     "status": "ok",
     "timestamp": 1688930460865,
     "user": {
      "displayName": "Ruth Vilar",
      "userId": "17604228112721847304"
     },
     "user_tz": -120
    },
    "id": "rMuIMdkzUQMP"
   },
   "outputs": [],
   "source": [
    "# Change logits by dividing it by 1.5\n",
    "logits = logits / 1.5\n",
    "\n",
    "# Produce scores_dict again\n",
    "probs = F.softmax(logits, dim=-1)\n",
    "top10 = torch.topk(probs, 10)\n",
    "scores_dict_temp = {tokenizer.decode(top10.indices[0][i].unsqueeze(0)).strip():top10.values[0].detach().numpy()[i] for i in range(10)}"
   ]
  },
  {
   "cell_type": "code",
   "execution_count": 100,
   "metadata": {
    "colab": {
     "base_uri": "https://localhost:8080/"
    },
    "executionInfo": {
     "elapsed": 205,
     "status": "ok",
     "timestamp": 1688930476048,
     "user": {
      "displayName": "Ruth Vilar",
      "userId": "17604228112721847304"
     },
     "user_tz": -120
    },
    "id": "cdx0LxwNGbu5",
    "outputId": "67a73559-ab13-46be-cea8-db99f7ca04ee"
   },
   "outputs": [
    {
     "data": {
      "text/plain": [
       "({'butter': 0.082398035,\n",
       "  'water': 0.06649013,\n",
       "  'salt': 0.063245244,\n",
       "  'flour': 0.054999173,\n",
       "  'the': 0.0538088,\n",
       "  'milk': 0.04789214,\n",
       "  'it': 0.029870836,\n",
       "  'yeast': 0.027709387,\n",
       "  'a': 0.024514904,\n",
       "  'sugar': 0.022191176},\n",
       " {'butter': 0.025492461,\n",
       "  'water': 0.022095576,\n",
       "  'salt': 0.021370718,\n",
       "  'flour': 0.019470217,\n",
       "  'the': 0.019188257,\n",
       "  'milk': 0.017754564,\n",
       "  'it': 0.01296081,\n",
       "  'yeast': 0.012327772,\n",
       "  'a': 0.011361079,\n",
       "  'sugar': 0.0106313})"
      ]
     },
     "execution_count": 100,
     "metadata": {},
     "output_type": "execute_result"
    }
   ],
   "source": [
    "tuple([scores_dict, scores_dict_temp])"
   ]
  },
  {
   "cell_type": "code",
   "execution_count": 99,
   "metadata": {
    "colab": {
     "base_uri": "https://localhost:8080/",
     "height": 64
    },
    "executionInfo": {
     "elapsed": 230,
     "status": "ok",
     "timestamp": 1688930462904,
     "user": {
      "displayName": "Ruth Vilar",
      "userId": "17604228112721847304"
     },
     "user_tz": -120
    },
    "id": "k2oDjs8ZUdo8",
    "outputId": "a0e962e3-55d8-421b-89f7-632fc626032d"
   },
   "outputs": [
    {
     "data": {
      "text/markdown": [
       "## Correct! 🎉"
      ],
      "text/plain": [
       "<IPython.core.display.Markdown object>"
      ]
     },
     "execution_count": 99,
     "metadata": {},
     "output_type": "execute_result"
    }
   ],
   "source": [
    "check('2.1.14', tuple([scores_dict, scores_dict_temp]))"
   ]
  },
  {
   "cell_type": "markdown",
   "metadata": {
    "id": "jS0OeJEjznnt"
   },
   "source": [
    "Notice that it does not change the relative order of probabilities.\n",
    "\n",
    "However, it will change their chance of being picked if we sample them at random.\n",
    "\n",
    "In the cell below, sample the next word using ```torch.multinomial```. After decoding the word, does the choice surprise you?\n",
    "\n",
    "Try running a few examples by changing ```num_samples``` to 10."
   ]
  },
  {
   "cell_type": "code",
   "execution_count": 101,
   "metadata": {
    "colab": {
     "base_uri": "https://localhost:8080/"
    },
    "executionInfo": {
     "elapsed": 204,
     "status": "ok",
     "timestamp": 1688930742520,
     "user": {
      "displayName": "Ruth Vilar",
      "userId": "17604228112721847304"
     },
     "user_tz": -120
    },
    "id": "g2b6V4QFVU1J",
    "outputId": "95bb5044-18c4-41e5-b794-4dd05bd68302"
   },
   "outputs": [
    {
     "name": "stdout",
     "output_type": "stream",
     "text": [
      " mar onions pot or block Inv one eggs b wheat\n"
     ]
    }
   ],
   "source": [
    "# Compute next_word by using torch.multinomial\n",
    "next_word = torch.multinomial(probs,num_samples=10)\n",
    "# Decode and convert to string\n",
    "next_word = tokenizer.decode(next_word.detach().numpy()[0])\n",
    "print(next_word)"
   ]
  },
  {
   "cell_type": "markdown",
   "metadata": {
    "id": "43mgu2J6zseY"
   },
   "source": [
    "You'll notice that by sampling, we get a more diverse choice of words, but perhaps more random.\n",
    "\n",
    "In general, this is a trade-off for large language models -- we want more creativity, but it risks non-sense responses!\n",
    "___\n",
    "\n",
    "## Summary\n",
    "\n",
    "Congrats! You got through the main parts of the GPT model!\n",
    "\n",
    "Feel free to continue playing around with prompts from the questions in this assignment and see if any responses surprise you!"
   ]
  }
 ],
 "metadata": {
  "accelerator": "GPU",
  "colab": {
   "gpuClass": "premium",
   "machine_shape": "hm",
   "provenance": []
  },
  "gpuClass": "premium",
  "kernelspec": {
   "display_name": "Python 3 (ipykernel)",
   "language": "python",
   "name": "python3"
  },
  "language_info": {
   "codemirror_mode": {
    "name": "ipython",
    "version": 3
   },
   "file_extension": ".py",
   "mimetype": "text/x-python",
   "name": "python",
   "nbconvert_exporter": "python",
   "pygments_lexer": "ipython3",
   "version": "3.9.13"
  },
  "widgets": {
   "application/vnd.jupyter.widget-state+json": {
    "00882c33735e4b088ae87a6a9b631454": {
     "model_module": "@jupyter-widgets/base",
     "model_module_version": "1.2.0",
     "model_name": "LayoutModel",
     "state": {
      "_model_module": "@jupyter-widgets/base",
      "_model_module_version": "1.2.0",
      "_model_name": "LayoutModel",
      "_view_count": null,
      "_view_module": "@jupyter-widgets/base",
      "_view_module_version": "1.2.0",
      "_view_name": "LayoutView",
      "align_content": null,
      "align_items": null,
      "align_self": null,
      "border": null,
      "bottom": null,
      "display": null,
      "flex": null,
      "flex_flow": null,
      "grid_area": null,
      "grid_auto_columns": null,
      "grid_auto_flow": null,
      "grid_auto_rows": null,
      "grid_column": null,
      "grid_gap": null,
      "grid_row": null,
      "grid_template_areas": null,
      "grid_template_columns": null,
      "grid_template_rows": null,
      "height": null,
      "justify_content": null,
      "justify_items": null,
      "left": null,
      "margin": null,
      "max_height": null,
      "max_width": null,
      "min_height": null,
      "min_width": null,
      "object_fit": null,
      "object_position": null,
      "order": null,
      "overflow": null,
      "overflow_x": null,
      "overflow_y": null,
      "padding": null,
      "right": null,
      "top": null,
      "visibility": null,
      "width": null
     }
    },
    "0adfbf3a98884063875d08008079f991": {
     "model_module": "@jupyter-widgets/controls",
     "model_module_version": "1.5.0",
     "model_name": "DescriptionStyleModel",
     "state": {
      "_model_module": "@jupyter-widgets/controls",
      "_model_module_version": "1.5.0",
      "_model_name": "DescriptionStyleModel",
      "_view_count": null,
      "_view_module": "@jupyter-widgets/base",
      "_view_module_version": "1.2.0",
      "_view_name": "StyleView",
      "description_width": ""
     }
    },
    "0aeec5d3f78f4f39b82e6d5b18a2f30d": {
     "model_module": "@jupyter-widgets/controls",
     "model_module_version": "1.5.0",
     "model_name": "FloatProgressModel",
     "state": {
      "_dom_classes": [],
      "_model_module": "@jupyter-widgets/controls",
      "_model_module_version": "1.5.0",
      "_model_name": "FloatProgressModel",
      "_view_count": null,
      "_view_module": "@jupyter-widgets/controls",
      "_view_module_version": "1.5.0",
      "_view_name": "ProgressView",
      "bar_style": "success",
      "description": "",
      "description_tooltip": null,
      "layout": "IPY_MODEL_8e95e2e4f45847ecac20af9a40391d61",
      "max": 466062,
      "min": 0,
      "orientation": "horizontal",
      "style": "IPY_MODEL_efa3b2cd2ad84f2d9cd94889cdbed9b3",
      "value": 466062
     }
    },
    "0d39bad2caa24750bc20a290a3d85d6e": {
     "model_module": "@jupyter-widgets/base",
     "model_module_version": "1.2.0",
     "model_name": "LayoutModel",
     "state": {
      "_model_module": "@jupyter-widgets/base",
      "_model_module_version": "1.2.0",
      "_model_name": "LayoutModel",
      "_view_count": null,
      "_view_module": "@jupyter-widgets/base",
      "_view_module_version": "1.2.0",
      "_view_name": "LayoutView",
      "align_content": null,
      "align_items": null,
      "align_self": null,
      "border": null,
      "bottom": null,
      "display": null,
      "flex": null,
      "flex_flow": null,
      "grid_area": null,
      "grid_auto_columns": null,
      "grid_auto_flow": null,
      "grid_auto_rows": null,
      "grid_column": null,
      "grid_gap": null,
      "grid_row": null,
      "grid_template_areas": null,
      "grid_template_columns": null,
      "grid_template_rows": null,
      "height": null,
      "justify_content": null,
      "justify_items": null,
      "left": null,
      "margin": null,
      "max_height": null,
      "max_width": null,
      "min_height": null,
      "min_width": null,
      "object_fit": null,
      "object_position": null,
      "order": null,
      "overflow": null,
      "overflow_x": null,
      "overflow_y": null,
      "padding": null,
      "right": null,
      "top": null,
      "visibility": null,
      "width": null
     }
    },
    "0dffee631e4946008c89b972e95b3d0e": {
     "model_module": "@jupyter-widgets/controls",
     "model_module_version": "1.5.0",
     "model_name": "FloatProgressModel",
     "state": {
      "_dom_classes": [],
      "_model_module": "@jupyter-widgets/controls",
      "_model_module_version": "1.5.0",
      "_model_name": "FloatProgressModel",
      "_view_count": null,
      "_view_module": "@jupyter-widgets/controls",
      "_view_module_version": "1.5.0",
      "_view_name": "ProgressView",
      "bar_style": "success",
      "description": "",
      "description_tooltip": null,
      "layout": "IPY_MODEL_cf333703c41f4d198da3ed7aedf0d105",
      "max": 231508,
      "min": 0,
      "orientation": "horizontal",
      "style": "IPY_MODEL_d24d9983f0144bb898e8c35363a0190f",
      "value": 231508
     }
    },
    "0eff6f3049474b1f8ccb87b298e5026f": {
     "model_module": "@jupyter-widgets/controls",
     "model_module_version": "1.5.0",
     "model_name": "DescriptionStyleModel",
     "state": {
      "_model_module": "@jupyter-widgets/controls",
      "_model_module_version": "1.5.0",
      "_model_name": "DescriptionStyleModel",
      "_view_count": null,
      "_view_module": "@jupyter-widgets/base",
      "_view_module_version": "1.2.0",
      "_view_name": "StyleView",
      "description_width": ""
     }
    },
    "10cfee18d5a9455c84dec3d4445abc98": {
     "model_module": "@jupyter-widgets/controls",
     "model_module_version": "1.5.0",
     "model_name": "DescriptionStyleModel",
     "state": {
      "_model_module": "@jupyter-widgets/controls",
      "_model_module_version": "1.5.0",
      "_model_name": "DescriptionStyleModel",
      "_view_count": null,
      "_view_module": "@jupyter-widgets/base",
      "_view_module_version": "1.2.0",
      "_view_name": "StyleView",
      "description_width": ""
     }
    },
    "117d1f166c29453c815c4ca616f70a61": {
     "model_module": "@jupyter-widgets/base",
     "model_module_version": "1.2.0",
     "model_name": "LayoutModel",
     "state": {
      "_model_module": "@jupyter-widgets/base",
      "_model_module_version": "1.2.0",
      "_model_name": "LayoutModel",
      "_view_count": null,
      "_view_module": "@jupyter-widgets/base",
      "_view_module_version": "1.2.0",
      "_view_name": "LayoutView",
      "align_content": null,
      "align_items": null,
      "align_self": null,
      "border": null,
      "bottom": null,
      "display": null,
      "flex": null,
      "flex_flow": null,
      "grid_area": null,
      "grid_auto_columns": null,
      "grid_auto_flow": null,
      "grid_auto_rows": null,
      "grid_column": null,
      "grid_gap": null,
      "grid_row": null,
      "grid_template_areas": null,
      "grid_template_columns": null,
      "grid_template_rows": null,
      "height": null,
      "justify_content": null,
      "justify_items": null,
      "left": null,
      "margin": null,
      "max_height": null,
      "max_width": null,
      "min_height": null,
      "min_width": null,
      "object_fit": null,
      "object_position": null,
      "order": null,
      "overflow": null,
      "overflow_x": null,
      "overflow_y": null,
      "padding": null,
      "right": null,
      "top": null,
      "visibility": null,
      "width": null
     }
    },
    "1de0a0e1e7484d0b9fd13fa45c5c74aa": {
     "model_module": "@jupyter-widgets/controls",
     "model_module_version": "1.5.0",
     "model_name": "DescriptionStyleModel",
     "state": {
      "_model_module": "@jupyter-widgets/controls",
      "_model_module_version": "1.5.0",
      "_model_name": "DescriptionStyleModel",
      "_view_count": null,
      "_view_module": "@jupyter-widgets/base",
      "_view_module_version": "1.2.0",
      "_view_name": "StyleView",
      "description_width": ""
     }
    },
    "1ef40cedf8b4484c8fbdd0ffd69887d4": {
     "model_module": "@jupyter-widgets/controls",
     "model_module_version": "1.5.0",
     "model_name": "HTMLModel",
     "state": {
      "_dom_classes": [],
      "_model_module": "@jupyter-widgets/controls",
      "_model_module_version": "1.5.0",
      "_model_name": "HTMLModel",
      "_view_count": null,
      "_view_module": "@jupyter-widgets/controls",
      "_view_module_version": "1.5.0",
      "_view_name": "HTMLView",
      "description": "",
      "description_tooltip": null,
      "layout": "IPY_MODEL_29ce2c288655405da2816d51949b9c68",
      "placeholder": "​",
      "style": "IPY_MODEL_0adfbf3a98884063875d08008079f991",
      "value": "Downloading (…)lve/main/config.json: 100%"
     }
    },
    "20be2eb8672c4cb1a76d89673e95b23a": {
     "model_module": "@jupyter-widgets/controls",
     "model_module_version": "1.5.0",
     "model_name": "HTMLModel",
     "state": {
      "_dom_classes": [],
      "_model_module": "@jupyter-widgets/controls",
      "_model_module_version": "1.5.0",
      "_model_name": "HTMLModel",
      "_view_count": null,
      "_view_module": "@jupyter-widgets/controls",
      "_view_module_version": "1.5.0",
      "_view_name": "HTMLView",
      "description": "",
      "description_tooltip": null,
      "layout": "IPY_MODEL_447abca524b449a688e5342a1389dee0",
      "placeholder": "​",
      "style": "IPY_MODEL_f1914ac6bf9d4cc887e2d0efac719bd1",
      "value": " 665/665 [00:00&lt;00:00, 39.4kB/s]"
     }
    },
    "21c3667e2f044e8da3395800dfffe71e": {
     "model_module": "@jupyter-widgets/controls",
     "model_module_version": "1.5.0",
     "model_name": "FloatProgressModel",
     "state": {
      "_dom_classes": [],
      "_model_module": "@jupyter-widgets/controls",
      "_model_module_version": "1.5.0",
      "_model_name": "FloatProgressModel",
      "_view_count": null,
      "_view_module": "@jupyter-widgets/controls",
      "_view_module_version": "1.5.0",
      "_view_name": "ProgressView",
      "bar_style": "success",
      "description": "",
      "description_tooltip": null,
      "layout": "IPY_MODEL_4a54f681750d46d6b19a050a9208141d",
      "max": 570,
      "min": 0,
      "orientation": "horizontal",
      "style": "IPY_MODEL_5b5318373f9b4d17a3ae89e78026665c",
      "value": 570
     }
    },
    "2206cd72bb524c22b4d0bccfb9ce0b4a": {
     "model_module": "@jupyter-widgets/controls",
     "model_module_version": "1.5.0",
     "model_name": "HBoxModel",
     "state": {
      "_dom_classes": [],
      "_model_module": "@jupyter-widgets/controls",
      "_model_module_version": "1.5.0",
      "_model_name": "HBoxModel",
      "_view_count": null,
      "_view_module": "@jupyter-widgets/controls",
      "_view_module_version": "1.5.0",
      "_view_name": "HBoxView",
      "box_style": "",
      "children": [
       "IPY_MODEL_1ef40cedf8b4484c8fbdd0ffd69887d4",
       "IPY_MODEL_4adbb246d7ec49fbb0b255d5cb8e564a",
       "IPY_MODEL_20be2eb8672c4cb1a76d89673e95b23a"
      ],
      "layout": "IPY_MODEL_6344b478a5744090b35001dfc4d494fb"
     }
    },
    "25d95b08caf94510b71ec0b327ed637d": {
     "model_module": "@jupyter-widgets/base",
     "model_module_version": "1.2.0",
     "model_name": "LayoutModel",
     "state": {
      "_model_module": "@jupyter-widgets/base",
      "_model_module_version": "1.2.0",
      "_model_name": "LayoutModel",
      "_view_count": null,
      "_view_module": "@jupyter-widgets/base",
      "_view_module_version": "1.2.0",
      "_view_name": "LayoutView",
      "align_content": null,
      "align_items": null,
      "align_self": null,
      "border": null,
      "bottom": null,
      "display": null,
      "flex": null,
      "flex_flow": null,
      "grid_area": null,
      "grid_auto_columns": null,
      "grid_auto_flow": null,
      "grid_auto_rows": null,
      "grid_column": null,
      "grid_gap": null,
      "grid_row": null,
      "grid_template_areas": null,
      "grid_template_columns": null,
      "grid_template_rows": null,
      "height": null,
      "justify_content": null,
      "justify_items": null,
      "left": null,
      "margin": null,
      "max_height": null,
      "max_width": null,
      "min_height": null,
      "min_width": null,
      "object_fit": null,
      "object_position": null,
      "order": null,
      "overflow": null,
      "overflow_x": null,
      "overflow_y": null,
      "padding": null,
      "right": null,
      "top": null,
      "visibility": null,
      "width": null
     }
    },
    "29ce2c288655405da2816d51949b9c68": {
     "model_module": "@jupyter-widgets/base",
     "model_module_version": "1.2.0",
     "model_name": "LayoutModel",
     "state": {
      "_model_module": "@jupyter-widgets/base",
      "_model_module_version": "1.2.0",
      "_model_name": "LayoutModel",
      "_view_count": null,
      "_view_module": "@jupyter-widgets/base",
      "_view_module_version": "1.2.0",
      "_view_name": "LayoutView",
      "align_content": null,
      "align_items": null,
      "align_self": null,
      "border": null,
      "bottom": null,
      "display": null,
      "flex": null,
      "flex_flow": null,
      "grid_area": null,
      "grid_auto_columns": null,
      "grid_auto_flow": null,
      "grid_auto_rows": null,
      "grid_column": null,
      "grid_gap": null,
      "grid_row": null,
      "grid_template_areas": null,
      "grid_template_columns": null,
      "grid_template_rows": null,
      "height": null,
      "justify_content": null,
      "justify_items": null,
      "left": null,
      "margin": null,
      "max_height": null,
      "max_width": null,
      "min_height": null,
      "min_width": null,
      "object_fit": null,
      "object_position": null,
      "order": null,
      "overflow": null,
      "overflow_x": null,
      "overflow_y": null,
      "padding": null,
      "right": null,
      "top": null,
      "visibility": null,
      "width": null
     }
    },
    "2ddbe52c0d704f109702359fa42d7856": {
     "model_module": "@jupyter-widgets/controls",
     "model_module_version": "1.5.0",
     "model_name": "HTMLModel",
     "state": {
      "_dom_classes": [],
      "_model_module": "@jupyter-widgets/controls",
      "_model_module_version": "1.5.0",
      "_model_name": "HTMLModel",
      "_view_count": null,
      "_view_module": "@jupyter-widgets/controls",
      "_view_module_version": "1.5.0",
      "_view_name": "HTMLView",
      "description": "",
      "description_tooltip": null,
      "layout": "IPY_MODEL_e061de5dda33411793cb7d951106f551",
      "placeholder": "​",
      "style": "IPY_MODEL_f536b3a3e0f5425b905d0b32e8368f35",
      "value": " 466k/466k [00:00&lt;00:00, 23.2MB/s]"
     }
    },
    "35b0f48dfe40474ab86b5ae61ee4974b": {
     "model_module": "@jupyter-widgets/controls",
     "model_module_version": "1.5.0",
     "model_name": "HTMLModel",
     "state": {
      "_dom_classes": [],
      "_model_module": "@jupyter-widgets/controls",
      "_model_module_version": "1.5.0",
      "_model_name": "HTMLModel",
      "_view_count": null,
      "_view_module": "@jupyter-widgets/controls",
      "_view_module_version": "1.5.0",
      "_view_name": "HTMLView",
      "description": "",
      "description_tooltip": null,
      "layout": "IPY_MODEL_c6670f81cfa142799f963548ce66df23",
      "placeholder": "​",
      "style": "IPY_MODEL_1de0a0e1e7484d0b9fd13fa45c5c74aa",
      "value": "Downloading model.safetensors: 100%"
     }
    },
    "377e2142902a4baaabdc02730cfceb99": {
     "model_module": "@jupyter-widgets/controls",
     "model_module_version": "1.5.0",
     "model_name": "FloatProgressModel",
     "state": {
      "_dom_classes": [],
      "_model_module": "@jupyter-widgets/controls",
      "_model_module_version": "1.5.0",
      "_model_name": "FloatProgressModel",
      "_view_count": null,
      "_view_module": "@jupyter-widgets/controls",
      "_view_module_version": "1.5.0",
      "_view_name": "ProgressView",
      "bar_style": "success",
      "description": "",
      "description_tooltip": null,
      "layout": "IPY_MODEL_d4375a4e5ddf4715bc617f5cc690bea7",
      "max": 28,
      "min": 0,
      "orientation": "horizontal",
      "style": "IPY_MODEL_a962fa8ed51b49ca911f699f2e4c80c1",
      "value": 28
     }
    },
    "3b115542632b478f8df8bb43bb541153": {
     "model_module": "@jupyter-widgets/base",
     "model_module_version": "1.2.0",
     "model_name": "LayoutModel",
     "state": {
      "_model_module": "@jupyter-widgets/base",
      "_model_module_version": "1.2.0",
      "_model_name": "LayoutModel",
      "_view_count": null,
      "_view_module": "@jupyter-widgets/base",
      "_view_module_version": "1.2.0",
      "_view_name": "LayoutView",
      "align_content": null,
      "align_items": null,
      "align_self": null,
      "border": null,
      "bottom": null,
      "display": null,
      "flex": null,
      "flex_flow": null,
      "grid_area": null,
      "grid_auto_columns": null,
      "grid_auto_flow": null,
      "grid_auto_rows": null,
      "grid_column": null,
      "grid_gap": null,
      "grid_row": null,
      "grid_template_areas": null,
      "grid_template_columns": null,
      "grid_template_rows": null,
      "height": null,
      "justify_content": null,
      "justify_items": null,
      "left": null,
      "margin": null,
      "max_height": null,
      "max_width": null,
      "min_height": null,
      "min_width": null,
      "object_fit": null,
      "object_position": null,
      "order": null,
      "overflow": null,
      "overflow_x": null,
      "overflow_y": null,
      "padding": null,
      "right": null,
      "top": null,
      "visibility": null,
      "width": null
     }
    },
    "3fe2aab16467424aa6b3567978314f9d": {
     "model_module": "@jupyter-widgets/controls",
     "model_module_version": "1.5.0",
     "model_name": "HBoxModel",
     "state": {
      "_dom_classes": [],
      "_model_module": "@jupyter-widgets/controls",
      "_model_module_version": "1.5.0",
      "_model_name": "HBoxModel",
      "_view_count": null,
      "_view_module": "@jupyter-widgets/controls",
      "_view_module_version": "1.5.0",
      "_view_name": "HBoxView",
      "box_style": "",
      "children": [
       "IPY_MODEL_64c9bc47dae14f59a79b705634f3afa5",
       "IPY_MODEL_377e2142902a4baaabdc02730cfceb99",
       "IPY_MODEL_e67f7beb354c4c6286dc5a9ccec80806"
      ],
      "layout": "IPY_MODEL_ba7c9d88ed4849b9860c4926e243ba47"
     }
    },
    "430b0444902c499ab90bcfb4cbd00286": {
     "model_module": "@jupyter-widgets/base",
     "model_module_version": "1.2.0",
     "model_name": "LayoutModel",
     "state": {
      "_model_module": "@jupyter-widgets/base",
      "_model_module_version": "1.2.0",
      "_model_name": "LayoutModel",
      "_view_count": null,
      "_view_module": "@jupyter-widgets/base",
      "_view_module_version": "1.2.0",
      "_view_name": "LayoutView",
      "align_content": null,
      "align_items": null,
      "align_self": null,
      "border": null,
      "bottom": null,
      "display": null,
      "flex": null,
      "flex_flow": null,
      "grid_area": null,
      "grid_auto_columns": null,
      "grid_auto_flow": null,
      "grid_auto_rows": null,
      "grid_column": null,
      "grid_gap": null,
      "grid_row": null,
      "grid_template_areas": null,
      "grid_template_columns": null,
      "grid_template_rows": null,
      "height": null,
      "justify_content": null,
      "justify_items": null,
      "left": null,
      "margin": null,
      "max_height": null,
      "max_width": null,
      "min_height": null,
      "min_width": null,
      "object_fit": null,
      "object_position": null,
      "order": null,
      "overflow": null,
      "overflow_x": null,
      "overflow_y": null,
      "padding": null,
      "right": null,
      "top": null,
      "visibility": null,
      "width": null
     }
    },
    "447abca524b449a688e5342a1389dee0": {
     "model_module": "@jupyter-widgets/base",
     "model_module_version": "1.2.0",
     "model_name": "LayoutModel",
     "state": {
      "_model_module": "@jupyter-widgets/base",
      "_model_module_version": "1.2.0",
      "_model_name": "LayoutModel",
      "_view_count": null,
      "_view_module": "@jupyter-widgets/base",
      "_view_module_version": "1.2.0",
      "_view_name": "LayoutView",
      "align_content": null,
      "align_items": null,
      "align_self": null,
      "border": null,
      "bottom": null,
      "display": null,
      "flex": null,
      "flex_flow": null,
      "grid_area": null,
      "grid_auto_columns": null,
      "grid_auto_flow": null,
      "grid_auto_rows": null,
      "grid_column": null,
      "grid_gap": null,
      "grid_row": null,
      "grid_template_areas": null,
      "grid_template_columns": null,
      "grid_template_rows": null,
      "height": null,
      "justify_content": null,
      "justify_items": null,
      "left": null,
      "margin": null,
      "max_height": null,
      "max_width": null,
      "min_height": null,
      "min_width": null,
      "object_fit": null,
      "object_position": null,
      "order": null,
      "overflow": null,
      "overflow_x": null,
      "overflow_y": null,
      "padding": null,
      "right": null,
      "top": null,
      "visibility": null,
      "width": null
     }
    },
    "4488ad371f0c485b8f9e849533b95462": {
     "model_module": "@jupyter-widgets/base",
     "model_module_version": "1.2.0",
     "model_name": "LayoutModel",
     "state": {
      "_model_module": "@jupyter-widgets/base",
      "_model_module_version": "1.2.0",
      "_model_name": "LayoutModel",
      "_view_count": null,
      "_view_module": "@jupyter-widgets/base",
      "_view_module_version": "1.2.0",
      "_view_name": "LayoutView",
      "align_content": null,
      "align_items": null,
      "align_self": null,
      "border": null,
      "bottom": null,
      "display": null,
      "flex": null,
      "flex_flow": null,
      "grid_area": null,
      "grid_auto_columns": null,
      "grid_auto_flow": null,
      "grid_auto_rows": null,
      "grid_column": null,
      "grid_gap": null,
      "grid_row": null,
      "grid_template_areas": null,
      "grid_template_columns": null,
      "grid_template_rows": null,
      "height": null,
      "justify_content": null,
      "justify_items": null,
      "left": null,
      "margin": null,
      "max_height": null,
      "max_width": null,
      "min_height": null,
      "min_width": null,
      "object_fit": null,
      "object_position": null,
      "order": null,
      "overflow": null,
      "overflow_x": null,
      "overflow_y": null,
      "padding": null,
      "right": null,
      "top": null,
      "visibility": null,
      "width": null
     }
    },
    "4a54f681750d46d6b19a050a9208141d": {
     "model_module": "@jupyter-widgets/base",
     "model_module_version": "1.2.0",
     "model_name": "LayoutModel",
     "state": {
      "_model_module": "@jupyter-widgets/base",
      "_model_module_version": "1.2.0",
      "_model_name": "LayoutModel",
      "_view_count": null,
      "_view_module": "@jupyter-widgets/base",
      "_view_module_version": "1.2.0",
      "_view_name": "LayoutView",
      "align_content": null,
      "align_items": null,
      "align_self": null,
      "border": null,
      "bottom": null,
      "display": null,
      "flex": null,
      "flex_flow": null,
      "grid_area": null,
      "grid_auto_columns": null,
      "grid_auto_flow": null,
      "grid_auto_rows": null,
      "grid_column": null,
      "grid_gap": null,
      "grid_row": null,
      "grid_template_areas": null,
      "grid_template_columns": null,
      "grid_template_rows": null,
      "height": null,
      "justify_content": null,
      "justify_items": null,
      "left": null,
      "margin": null,
      "max_height": null,
      "max_width": null,
      "min_height": null,
      "min_width": null,
      "object_fit": null,
      "object_position": null,
      "order": null,
      "overflow": null,
      "overflow_x": null,
      "overflow_y": null,
      "padding": null,
      "right": null,
      "top": null,
      "visibility": null,
      "width": null
     }
    },
    "4adbb246d7ec49fbb0b255d5cb8e564a": {
     "model_module": "@jupyter-widgets/controls",
     "model_module_version": "1.5.0",
     "model_name": "FloatProgressModel",
     "state": {
      "_dom_classes": [],
      "_model_module": "@jupyter-widgets/controls",
      "_model_module_version": "1.5.0",
      "_model_name": "FloatProgressModel",
      "_view_count": null,
      "_view_module": "@jupyter-widgets/controls",
      "_view_module_version": "1.5.0",
      "_view_name": "ProgressView",
      "bar_style": "success",
      "description": "",
      "description_tooltip": null,
      "layout": "IPY_MODEL_117d1f166c29453c815c4ca616f70a61",
      "max": 665,
      "min": 0,
      "orientation": "horizontal",
      "style": "IPY_MODEL_8a8b0a9cb77b4c3cb9334ecdd945b651",
      "value": 665
     }
    },
    "507ca051da0d40b8a33f47da58bc8702": {
     "model_module": "@jupyter-widgets/controls",
     "model_module_version": "1.5.0",
     "model_name": "HTMLModel",
     "state": {
      "_dom_classes": [],
      "_model_module": "@jupyter-widgets/controls",
      "_model_module_version": "1.5.0",
      "_model_name": "HTMLModel",
      "_view_count": null,
      "_view_module": "@jupyter-widgets/controls",
      "_view_module_version": "1.5.0",
      "_view_name": "HTMLView",
      "description": "",
      "description_tooltip": null,
      "layout": "IPY_MODEL_77a42fe0fcca407f978322183b2a8923",
      "placeholder": "​",
      "style": "IPY_MODEL_c90484924a0b4939aa36478ba91d6edc",
      "value": " 548M/548M [00:06&lt;00:00, 89.7MB/s]"
     }
    },
    "51d98c0b95cd451b966650b49b0a1858": {
     "model_module": "@jupyter-widgets/base",
     "model_module_version": "1.2.0",
     "model_name": "LayoutModel",
     "state": {
      "_model_module": "@jupyter-widgets/base",
      "_model_module_version": "1.2.0",
      "_model_name": "LayoutModel",
      "_view_count": null,
      "_view_module": "@jupyter-widgets/base",
      "_view_module_version": "1.2.0",
      "_view_name": "LayoutView",
      "align_content": null,
      "align_items": null,
      "align_self": null,
      "border": null,
      "bottom": null,
      "display": null,
      "flex": null,
      "flex_flow": null,
      "grid_area": null,
      "grid_auto_columns": null,
      "grid_auto_flow": null,
      "grid_auto_rows": null,
      "grid_column": null,
      "grid_gap": null,
      "grid_row": null,
      "grid_template_areas": null,
      "grid_template_columns": null,
      "grid_template_rows": null,
      "height": null,
      "justify_content": null,
      "justify_items": null,
      "left": null,
      "margin": null,
      "max_height": null,
      "max_width": null,
      "min_height": null,
      "min_width": null,
      "object_fit": null,
      "object_position": null,
      "order": null,
      "overflow": null,
      "overflow_x": null,
      "overflow_y": null,
      "padding": null,
      "right": null,
      "top": null,
      "visibility": null,
      "width": null
     }
    },
    "5b5318373f9b4d17a3ae89e78026665c": {
     "model_module": "@jupyter-widgets/controls",
     "model_module_version": "1.5.0",
     "model_name": "ProgressStyleModel",
     "state": {
      "_model_module": "@jupyter-widgets/controls",
      "_model_module_version": "1.5.0",
      "_model_name": "ProgressStyleModel",
      "_view_count": null,
      "_view_module": "@jupyter-widgets/base",
      "_view_module_version": "1.2.0",
      "_view_name": "StyleView",
      "bar_color": null,
      "description_width": ""
     }
    },
    "5fe9d7591de644c4a9aae82cc82e27b7": {
     "model_module": "@jupyter-widgets/base",
     "model_module_version": "1.2.0",
     "model_name": "LayoutModel",
     "state": {
      "_model_module": "@jupyter-widgets/base",
      "_model_module_version": "1.2.0",
      "_model_name": "LayoutModel",
      "_view_count": null,
      "_view_module": "@jupyter-widgets/base",
      "_view_module_version": "1.2.0",
      "_view_name": "LayoutView",
      "align_content": null,
      "align_items": null,
      "align_self": null,
      "border": null,
      "bottom": null,
      "display": null,
      "flex": null,
      "flex_flow": null,
      "grid_area": null,
      "grid_auto_columns": null,
      "grid_auto_flow": null,
      "grid_auto_rows": null,
      "grid_column": null,
      "grid_gap": null,
      "grid_row": null,
      "grid_template_areas": null,
      "grid_template_columns": null,
      "grid_template_rows": null,
      "height": null,
      "justify_content": null,
      "justify_items": null,
      "left": null,
      "margin": null,
      "max_height": null,
      "max_width": null,
      "min_height": null,
      "min_width": null,
      "object_fit": null,
      "object_position": null,
      "order": null,
      "overflow": null,
      "overflow_x": null,
      "overflow_y": null,
      "padding": null,
      "right": null,
      "top": null,
      "visibility": null,
      "width": null
     }
    },
    "6344b478a5744090b35001dfc4d494fb": {
     "model_module": "@jupyter-widgets/base",
     "model_module_version": "1.2.0",
     "model_name": "LayoutModel",
     "state": {
      "_model_module": "@jupyter-widgets/base",
      "_model_module_version": "1.2.0",
      "_model_name": "LayoutModel",
      "_view_count": null,
      "_view_module": "@jupyter-widgets/base",
      "_view_module_version": "1.2.0",
      "_view_name": "LayoutView",
      "align_content": null,
      "align_items": null,
      "align_self": null,
      "border": null,
      "bottom": null,
      "display": null,
      "flex": null,
      "flex_flow": null,
      "grid_area": null,
      "grid_auto_columns": null,
      "grid_auto_flow": null,
      "grid_auto_rows": null,
      "grid_column": null,
      "grid_gap": null,
      "grid_row": null,
      "grid_template_areas": null,
      "grid_template_columns": null,
      "grid_template_rows": null,
      "height": null,
      "justify_content": null,
      "justify_items": null,
      "left": null,
      "margin": null,
      "max_height": null,
      "max_width": null,
      "min_height": null,
      "min_width": null,
      "object_fit": null,
      "object_position": null,
      "order": null,
      "overflow": null,
      "overflow_x": null,
      "overflow_y": null,
      "padding": null,
      "right": null,
      "top": null,
      "visibility": null,
      "width": null
     }
    },
    "64c9bc47dae14f59a79b705634f3afa5": {
     "model_module": "@jupyter-widgets/controls",
     "model_module_version": "1.5.0",
     "model_name": "HTMLModel",
     "state": {
      "_dom_classes": [],
      "_model_module": "@jupyter-widgets/controls",
      "_model_module_version": "1.5.0",
      "_model_name": "HTMLModel",
      "_view_count": null,
      "_view_module": "@jupyter-widgets/controls",
      "_view_module_version": "1.5.0",
      "_view_name": "HTMLView",
      "description": "",
      "description_tooltip": null,
      "layout": "IPY_MODEL_4488ad371f0c485b8f9e849533b95462",
      "placeholder": "​",
      "style": "IPY_MODEL_869190802f604157a3fa096e66bf6415",
      "value": "Downloading (…)okenizer_config.json: 100%"
     }
    },
    "652d2c6551754c6ca6b570e2e7a2737d": {
     "model_module": "@jupyter-widgets/controls",
     "model_module_version": "1.5.0",
     "model_name": "HBoxModel",
     "state": {
      "_dom_classes": [],
      "_model_module": "@jupyter-widgets/controls",
      "_model_module_version": "1.5.0",
      "_model_name": "HBoxModel",
      "_view_count": null,
      "_view_module": "@jupyter-widgets/controls",
      "_view_module_version": "1.5.0",
      "_view_name": "HBoxView",
      "box_style": "",
      "children": [
       "IPY_MODEL_a4b065a222bb4394b945720a26a1cff6",
       "IPY_MODEL_0aeec5d3f78f4f39b82e6d5b18a2f30d",
       "IPY_MODEL_2ddbe52c0d704f109702359fa42d7856"
      ],
      "layout": "IPY_MODEL_aedb9d047e1c49a4b210451ed76ac697"
     }
    },
    "667fa1112334494b99dbaa79642f8f87": {
     "model_module": "@jupyter-widgets/controls",
     "model_module_version": "1.5.0",
     "model_name": "HBoxModel",
     "state": {
      "_dom_classes": [],
      "_model_module": "@jupyter-widgets/controls",
      "_model_module_version": "1.5.0",
      "_model_name": "HBoxModel",
      "_view_count": null,
      "_view_module": "@jupyter-widgets/controls",
      "_view_module_version": "1.5.0",
      "_view_name": "HBoxView",
      "box_style": "",
      "children": [
       "IPY_MODEL_d8ca1f2b08614ae8a01244825b55d870",
       "IPY_MODEL_21c3667e2f044e8da3395800dfffe71e",
       "IPY_MODEL_8ef045b9f54d4f06a5f68e12f36c314a"
      ],
      "layout": "IPY_MODEL_0d39bad2caa24750bc20a290a3d85d6e"
     }
    },
    "6a58d6dc80c045e5bdfbc0d471ad71fa": {
     "model_module": "@jupyter-widgets/base",
     "model_module_version": "1.2.0",
     "model_name": "LayoutModel",
     "state": {
      "_model_module": "@jupyter-widgets/base",
      "_model_module_version": "1.2.0",
      "_model_name": "LayoutModel",
      "_view_count": null,
      "_view_module": "@jupyter-widgets/base",
      "_view_module_version": "1.2.0",
      "_view_name": "LayoutView",
      "align_content": null,
      "align_items": null,
      "align_self": null,
      "border": null,
      "bottom": null,
      "display": null,
      "flex": null,
      "flex_flow": null,
      "grid_area": null,
      "grid_auto_columns": null,
      "grid_auto_flow": null,
      "grid_auto_rows": null,
      "grid_column": null,
      "grid_gap": null,
      "grid_row": null,
      "grid_template_areas": null,
      "grid_template_columns": null,
      "grid_template_rows": null,
      "height": null,
      "justify_content": null,
      "justify_items": null,
      "left": null,
      "margin": null,
      "max_height": null,
      "max_width": null,
      "min_height": null,
      "min_width": null,
      "object_fit": null,
      "object_position": null,
      "order": null,
      "overflow": null,
      "overflow_x": null,
      "overflow_y": null,
      "padding": null,
      "right": null,
      "top": null,
      "visibility": null,
      "width": null
     }
    },
    "6f7f7556f8924ed8b68f7968690927ae": {
     "model_module": "@jupyter-widgets/base",
     "model_module_version": "1.2.0",
     "model_name": "LayoutModel",
     "state": {
      "_model_module": "@jupyter-widgets/base",
      "_model_module_version": "1.2.0",
      "_model_name": "LayoutModel",
      "_view_count": null,
      "_view_module": "@jupyter-widgets/base",
      "_view_module_version": "1.2.0",
      "_view_name": "LayoutView",
      "align_content": null,
      "align_items": null,
      "align_self": null,
      "border": null,
      "bottom": null,
      "display": null,
      "flex": null,
      "flex_flow": null,
      "grid_area": null,
      "grid_auto_columns": null,
      "grid_auto_flow": null,
      "grid_auto_rows": null,
      "grid_column": null,
      "grid_gap": null,
      "grid_row": null,
      "grid_template_areas": null,
      "grid_template_columns": null,
      "grid_template_rows": null,
      "height": null,
      "justify_content": null,
      "justify_items": null,
      "left": null,
      "margin": null,
      "max_height": null,
      "max_width": null,
      "min_height": null,
      "min_width": null,
      "object_fit": null,
      "object_position": null,
      "order": null,
      "overflow": null,
      "overflow_x": null,
      "overflow_y": null,
      "padding": null,
      "right": null,
      "top": null,
      "visibility": null,
      "width": null
     }
    },
    "71129128292e4725951432f881ea604a": {
     "model_module": "@jupyter-widgets/base",
     "model_module_version": "1.2.0",
     "model_name": "LayoutModel",
     "state": {
      "_model_module": "@jupyter-widgets/base",
      "_model_module_version": "1.2.0",
      "_model_name": "LayoutModel",
      "_view_count": null,
      "_view_module": "@jupyter-widgets/base",
      "_view_module_version": "1.2.0",
      "_view_name": "LayoutView",
      "align_content": null,
      "align_items": null,
      "align_self": null,
      "border": null,
      "bottom": null,
      "display": null,
      "flex": null,
      "flex_flow": null,
      "grid_area": null,
      "grid_auto_columns": null,
      "grid_auto_flow": null,
      "grid_auto_rows": null,
      "grid_column": null,
      "grid_gap": null,
      "grid_row": null,
      "grid_template_areas": null,
      "grid_template_columns": null,
      "grid_template_rows": null,
      "height": null,
      "justify_content": null,
      "justify_items": null,
      "left": null,
      "margin": null,
      "max_height": null,
      "max_width": null,
      "min_height": null,
      "min_width": null,
      "object_fit": null,
      "object_position": null,
      "order": null,
      "overflow": null,
      "overflow_x": null,
      "overflow_y": null,
      "padding": null,
      "right": null,
      "top": null,
      "visibility": null,
      "width": null
     }
    },
    "77a34ebe584f400abd59606b98c4f174": {
     "model_module": "@jupyter-widgets/controls",
     "model_module_version": "1.5.0",
     "model_name": "HBoxModel",
     "state": {
      "_dom_classes": [],
      "_model_module": "@jupyter-widgets/controls",
      "_model_module_version": "1.5.0",
      "_model_name": "HBoxModel",
      "_view_count": null,
      "_view_module": "@jupyter-widgets/controls",
      "_view_module_version": "1.5.0",
      "_view_name": "HBoxView",
      "box_style": "",
      "children": [
       "IPY_MODEL_850425cac213497e905b36da4e659407",
       "IPY_MODEL_ee4132e7e9ed4d838d2e0b62f5e3289b",
       "IPY_MODEL_8759460ba4e046bc8a39d2d1af032ccd"
      ],
      "layout": "IPY_MODEL_3b115542632b478f8df8bb43bb541153"
     }
    },
    "77a42fe0fcca407f978322183b2a8923": {
     "model_module": "@jupyter-widgets/base",
     "model_module_version": "1.2.0",
     "model_name": "LayoutModel",
     "state": {
      "_model_module": "@jupyter-widgets/base",
      "_model_module_version": "1.2.0",
      "_model_name": "LayoutModel",
      "_view_count": null,
      "_view_module": "@jupyter-widgets/base",
      "_view_module_version": "1.2.0",
      "_view_name": "LayoutView",
      "align_content": null,
      "align_items": null,
      "align_self": null,
      "border": null,
      "bottom": null,
      "display": null,
      "flex": null,
      "flex_flow": null,
      "grid_area": null,
      "grid_auto_columns": null,
      "grid_auto_flow": null,
      "grid_auto_rows": null,
      "grid_column": null,
      "grid_gap": null,
      "grid_row": null,
      "grid_template_areas": null,
      "grid_template_columns": null,
      "grid_template_rows": null,
      "height": null,
      "justify_content": null,
      "justify_items": null,
      "left": null,
      "margin": null,
      "max_height": null,
      "max_width": null,
      "min_height": null,
      "min_width": null,
      "object_fit": null,
      "object_position": null,
      "order": null,
      "overflow": null,
      "overflow_x": null,
      "overflow_y": null,
      "padding": null,
      "right": null,
      "top": null,
      "visibility": null,
      "width": null
     }
    },
    "801fd79b2da24816af36c11113d9efc0": {
     "model_module": "@jupyter-widgets/controls",
     "model_module_version": "1.5.0",
     "model_name": "DescriptionStyleModel",
     "state": {
      "_model_module": "@jupyter-widgets/controls",
      "_model_module_version": "1.5.0",
      "_model_name": "DescriptionStyleModel",
      "_view_count": null,
      "_view_module": "@jupyter-widgets/base",
      "_view_module_version": "1.2.0",
      "_view_name": "StyleView",
      "description_width": ""
     }
    },
    "8123a21106374143b1edf304b55f58fd": {
     "model_module": "@jupyter-widgets/controls",
     "model_module_version": "1.5.0",
     "model_name": "DescriptionStyleModel",
     "state": {
      "_model_module": "@jupyter-widgets/controls",
      "_model_module_version": "1.5.0",
      "_model_name": "DescriptionStyleModel",
      "_view_count": null,
      "_view_module": "@jupyter-widgets/base",
      "_view_module_version": "1.2.0",
      "_view_name": "StyleView",
      "description_width": ""
     }
    },
    "850425cac213497e905b36da4e659407": {
     "model_module": "@jupyter-widgets/controls",
     "model_module_version": "1.5.0",
     "model_name": "HTMLModel",
     "state": {
      "_dom_classes": [],
      "_model_module": "@jupyter-widgets/controls",
      "_model_module_version": "1.5.0",
      "_model_name": "HTMLModel",
      "_view_count": null,
      "_view_module": "@jupyter-widgets/controls",
      "_view_module_version": "1.5.0",
      "_view_name": "HTMLView",
      "description": "",
      "description_tooltip": null,
      "layout": "IPY_MODEL_eb290c54e2d34f0b9096a36dfc7490d7",
      "placeholder": "​",
      "style": "IPY_MODEL_bc006d91ec0b47a1bb6ae4755b02392b",
      "value": "Downloading (…)neration_config.json: 100%"
     }
    },
    "864e8d3833924d06a38e6dddc1e65a86": {
     "model_module": "@jupyter-widgets/controls",
     "model_module_version": "1.5.0",
     "model_name": "FloatProgressModel",
     "state": {
      "_dom_classes": [],
      "_model_module": "@jupyter-widgets/controls",
      "_model_module_version": "1.5.0",
      "_model_name": "FloatProgressModel",
      "_view_count": null,
      "_view_module": "@jupyter-widgets/controls",
      "_view_module_version": "1.5.0",
      "_view_name": "ProgressView",
      "bar_style": "success",
      "description": "",
      "description_tooltip": null,
      "layout": "IPY_MODEL_c8acdef90e5a4f5eb6772ea2023c19e8",
      "max": 548105171,
      "min": 0,
      "orientation": "horizontal",
      "style": "IPY_MODEL_cab8d03e75564922bfbbdb9274f21c9f",
      "value": 548105171
     }
    },
    "869190802f604157a3fa096e66bf6415": {
     "model_module": "@jupyter-widgets/controls",
     "model_module_version": "1.5.0",
     "model_name": "DescriptionStyleModel",
     "state": {
      "_model_module": "@jupyter-widgets/controls",
      "_model_module_version": "1.5.0",
      "_model_name": "DescriptionStyleModel",
      "_view_count": null,
      "_view_module": "@jupyter-widgets/base",
      "_view_module_version": "1.2.0",
      "_view_name": "StyleView",
      "description_width": ""
     }
    },
    "8759460ba4e046bc8a39d2d1af032ccd": {
     "model_module": "@jupyter-widgets/controls",
     "model_module_version": "1.5.0",
     "model_name": "HTMLModel",
     "state": {
      "_dom_classes": [],
      "_model_module": "@jupyter-widgets/controls",
      "_model_module_version": "1.5.0",
      "_model_name": "HTMLModel",
      "_view_count": null,
      "_view_module": "@jupyter-widgets/controls",
      "_view_module_version": "1.5.0",
      "_view_name": "HTMLView",
      "description": "",
      "description_tooltip": null,
      "layout": "IPY_MODEL_51d98c0b95cd451b966650b49b0a1858",
      "placeholder": "​",
      "style": "IPY_MODEL_0eff6f3049474b1f8ccb87b298e5026f",
      "value": " 124/124 [00:00&lt;00:00, 8.47kB/s]"
     }
    },
    "8a8b0a9cb77b4c3cb9334ecdd945b651": {
     "model_module": "@jupyter-widgets/controls",
     "model_module_version": "1.5.0",
     "model_name": "ProgressStyleModel",
     "state": {
      "_model_module": "@jupyter-widgets/controls",
      "_model_module_version": "1.5.0",
      "_model_name": "ProgressStyleModel",
      "_view_count": null,
      "_view_module": "@jupyter-widgets/base",
      "_view_module_version": "1.2.0",
      "_view_name": "StyleView",
      "bar_color": null,
      "description_width": ""
     }
    },
    "8e95e2e4f45847ecac20af9a40391d61": {
     "model_module": "@jupyter-widgets/base",
     "model_module_version": "1.2.0",
     "model_name": "LayoutModel",
     "state": {
      "_model_module": "@jupyter-widgets/base",
      "_model_module_version": "1.2.0",
      "_model_name": "LayoutModel",
      "_view_count": null,
      "_view_module": "@jupyter-widgets/base",
      "_view_module_version": "1.2.0",
      "_view_name": "LayoutView",
      "align_content": null,
      "align_items": null,
      "align_self": null,
      "border": null,
      "bottom": null,
      "display": null,
      "flex": null,
      "flex_flow": null,
      "grid_area": null,
      "grid_auto_columns": null,
      "grid_auto_flow": null,
      "grid_auto_rows": null,
      "grid_column": null,
      "grid_gap": null,
      "grid_row": null,
      "grid_template_areas": null,
      "grid_template_columns": null,
      "grid_template_rows": null,
      "height": null,
      "justify_content": null,
      "justify_items": null,
      "left": null,
      "margin": null,
      "max_height": null,
      "max_width": null,
      "min_height": null,
      "min_width": null,
      "object_fit": null,
      "object_position": null,
      "order": null,
      "overflow": null,
      "overflow_x": null,
      "overflow_y": null,
      "padding": null,
      "right": null,
      "top": null,
      "visibility": null,
      "width": null
     }
    },
    "8ef045b9f54d4f06a5f68e12f36c314a": {
     "model_module": "@jupyter-widgets/controls",
     "model_module_version": "1.5.0",
     "model_name": "HTMLModel",
     "state": {
      "_dom_classes": [],
      "_model_module": "@jupyter-widgets/controls",
      "_model_module_version": "1.5.0",
      "_model_name": "HTMLModel",
      "_view_count": null,
      "_view_module": "@jupyter-widgets/controls",
      "_view_module_version": "1.5.0",
      "_view_name": "HTMLView",
      "description": "",
      "description_tooltip": null,
      "layout": "IPY_MODEL_25d95b08caf94510b71ec0b327ed637d",
      "placeholder": "​",
      "style": "IPY_MODEL_fc304e970e844825bdcd8557cb8d8abe",
      "value": " 570/570 [00:00&lt;00:00, 39.8kB/s]"
     }
    },
    "8f464ec697424f608af6cf1debfee99e": {
     "model_module": "@jupyter-widgets/base",
     "model_module_version": "1.2.0",
     "model_name": "LayoutModel",
     "state": {
      "_model_module": "@jupyter-widgets/base",
      "_model_module_version": "1.2.0",
      "_model_name": "LayoutModel",
      "_view_count": null,
      "_view_module": "@jupyter-widgets/base",
      "_view_module_version": "1.2.0",
      "_view_name": "LayoutView",
      "align_content": null,
      "align_items": null,
      "align_self": null,
      "border": null,
      "bottom": null,
      "display": null,
      "flex": null,
      "flex_flow": null,
      "grid_area": null,
      "grid_auto_columns": null,
      "grid_auto_flow": null,
      "grid_auto_rows": null,
      "grid_column": null,
      "grid_gap": null,
      "grid_row": null,
      "grid_template_areas": null,
      "grid_template_columns": null,
      "grid_template_rows": null,
      "height": null,
      "justify_content": null,
      "justify_items": null,
      "left": null,
      "margin": null,
      "max_height": null,
      "max_width": null,
      "min_height": null,
      "min_width": null,
      "object_fit": null,
      "object_position": null,
      "order": null,
      "overflow": null,
      "overflow_x": null,
      "overflow_y": null,
      "padding": null,
      "right": null,
      "top": null,
      "visibility": null,
      "width": null
     }
    },
    "96d76c8cb00340a6b599d05b4cc4e69b": {
     "model_module": "@jupyter-widgets/controls",
     "model_module_version": "1.5.0",
     "model_name": "HTMLModel",
     "state": {
      "_dom_classes": [],
      "_model_module": "@jupyter-widgets/controls",
      "_model_module_version": "1.5.0",
      "_model_name": "HTMLModel",
      "_view_count": null,
      "_view_module": "@jupyter-widgets/controls",
      "_view_module_version": "1.5.0",
      "_view_name": "HTMLView",
      "description": "",
      "description_tooltip": null,
      "layout": "IPY_MODEL_8f464ec697424f608af6cf1debfee99e",
      "placeholder": "​",
      "style": "IPY_MODEL_801fd79b2da24816af36c11113d9efc0",
      "value": " 232k/232k [00:00&lt;00:00, 4.60MB/s]"
     }
    },
    "9836a952d184410bb7db9ff95d360c1c": {
     "model_module": "@jupyter-widgets/controls",
     "model_module_version": "1.5.0",
     "model_name": "HBoxModel",
     "state": {
      "_dom_classes": [],
      "_model_module": "@jupyter-widgets/controls",
      "_model_module_version": "1.5.0",
      "_model_name": "HBoxModel",
      "_view_count": null,
      "_view_module": "@jupyter-widgets/controls",
      "_view_module_version": "1.5.0",
      "_view_name": "HBoxView",
      "box_style": "",
      "children": [
       "IPY_MODEL_35b0f48dfe40474ab86b5ae61ee4974b",
       "IPY_MODEL_864e8d3833924d06a38e6dddc1e65a86",
       "IPY_MODEL_507ca051da0d40b8a33f47da58bc8702"
      ],
      "layout": "IPY_MODEL_6a58d6dc80c045e5bdfbc0d471ad71fa"
     }
    },
    "a4b065a222bb4394b945720a26a1cff6": {
     "model_module": "@jupyter-widgets/controls",
     "model_module_version": "1.5.0",
     "model_name": "HTMLModel",
     "state": {
      "_dom_classes": [],
      "_model_module": "@jupyter-widgets/controls",
      "_model_module_version": "1.5.0",
      "_model_name": "HTMLModel",
      "_view_count": null,
      "_view_module": "@jupyter-widgets/controls",
      "_view_module_version": "1.5.0",
      "_view_name": "HTMLView",
      "description": "",
      "description_tooltip": null,
      "layout": "IPY_MODEL_71129128292e4725951432f881ea604a",
      "placeholder": "​",
      "style": "IPY_MODEL_8123a21106374143b1edf304b55f58fd",
      "value": "Downloading (…)/main/tokenizer.json: 100%"
     }
    },
    "a8c1e268f7584f0892166e364341039f": {
     "model_module": "@jupyter-widgets/controls",
     "model_module_version": "1.5.0",
     "model_name": "DescriptionStyleModel",
     "state": {
      "_model_module": "@jupyter-widgets/controls",
      "_model_module_version": "1.5.0",
      "_model_name": "DescriptionStyleModel",
      "_view_count": null,
      "_view_module": "@jupyter-widgets/base",
      "_view_module_version": "1.2.0",
      "_view_name": "StyleView",
      "description_width": ""
     }
    },
    "a962fa8ed51b49ca911f699f2e4c80c1": {
     "model_module": "@jupyter-widgets/controls",
     "model_module_version": "1.5.0",
     "model_name": "ProgressStyleModel",
     "state": {
      "_model_module": "@jupyter-widgets/controls",
      "_model_module_version": "1.5.0",
      "_model_name": "ProgressStyleModel",
      "_view_count": null,
      "_view_module": "@jupyter-widgets/base",
      "_view_module_version": "1.2.0",
      "_view_name": "StyleView",
      "bar_color": null,
      "description_width": ""
     }
    },
    "ad090079d41140dab4da21b029628f77": {
     "model_module": "@jupyter-widgets/base",
     "model_module_version": "1.2.0",
     "model_name": "LayoutModel",
     "state": {
      "_model_module": "@jupyter-widgets/base",
      "_model_module_version": "1.2.0",
      "_model_name": "LayoutModel",
      "_view_count": null,
      "_view_module": "@jupyter-widgets/base",
      "_view_module_version": "1.2.0",
      "_view_name": "LayoutView",
      "align_content": null,
      "align_items": null,
      "align_self": null,
      "border": null,
      "bottom": null,
      "display": null,
      "flex": null,
      "flex_flow": null,
      "grid_area": null,
      "grid_auto_columns": null,
      "grid_auto_flow": null,
      "grid_auto_rows": null,
      "grid_column": null,
      "grid_gap": null,
      "grid_row": null,
      "grid_template_areas": null,
      "grid_template_columns": null,
      "grid_template_rows": null,
      "height": null,
      "justify_content": null,
      "justify_items": null,
      "left": null,
      "margin": null,
      "max_height": null,
      "max_width": null,
      "min_height": null,
      "min_width": null,
      "object_fit": null,
      "object_position": null,
      "order": null,
      "overflow": null,
      "overflow_x": null,
      "overflow_y": null,
      "padding": null,
      "right": null,
      "top": null,
      "visibility": null,
      "width": null
     }
    },
    "aedb9d047e1c49a4b210451ed76ac697": {
     "model_module": "@jupyter-widgets/base",
     "model_module_version": "1.2.0",
     "model_name": "LayoutModel",
     "state": {
      "_model_module": "@jupyter-widgets/base",
      "_model_module_version": "1.2.0",
      "_model_name": "LayoutModel",
      "_view_count": null,
      "_view_module": "@jupyter-widgets/base",
      "_view_module_version": "1.2.0",
      "_view_name": "LayoutView",
      "align_content": null,
      "align_items": null,
      "align_self": null,
      "border": null,
      "bottom": null,
      "display": null,
      "flex": null,
      "flex_flow": null,
      "grid_area": null,
      "grid_auto_columns": null,
      "grid_auto_flow": null,
      "grid_auto_rows": null,
      "grid_column": null,
      "grid_gap": null,
      "grid_row": null,
      "grid_template_areas": null,
      "grid_template_columns": null,
      "grid_template_rows": null,
      "height": null,
      "justify_content": null,
      "justify_items": null,
      "left": null,
      "margin": null,
      "max_height": null,
      "max_width": null,
      "min_height": null,
      "min_width": null,
      "object_fit": null,
      "object_position": null,
      "order": null,
      "overflow": null,
      "overflow_x": null,
      "overflow_y": null,
      "padding": null,
      "right": null,
      "top": null,
      "visibility": null,
      "width": null
     }
    },
    "ba7c9d88ed4849b9860c4926e243ba47": {
     "model_module": "@jupyter-widgets/base",
     "model_module_version": "1.2.0",
     "model_name": "LayoutModel",
     "state": {
      "_model_module": "@jupyter-widgets/base",
      "_model_module_version": "1.2.0",
      "_model_name": "LayoutModel",
      "_view_count": null,
      "_view_module": "@jupyter-widgets/base",
      "_view_module_version": "1.2.0",
      "_view_name": "LayoutView",
      "align_content": null,
      "align_items": null,
      "align_self": null,
      "border": null,
      "bottom": null,
      "display": null,
      "flex": null,
      "flex_flow": null,
      "grid_area": null,
      "grid_auto_columns": null,
      "grid_auto_flow": null,
      "grid_auto_rows": null,
      "grid_column": null,
      "grid_gap": null,
      "grid_row": null,
      "grid_template_areas": null,
      "grid_template_columns": null,
      "grid_template_rows": null,
      "height": null,
      "justify_content": null,
      "justify_items": null,
      "left": null,
      "margin": null,
      "max_height": null,
      "max_width": null,
      "min_height": null,
      "min_width": null,
      "object_fit": null,
      "object_position": null,
      "order": null,
      "overflow": null,
      "overflow_x": null,
      "overflow_y": null,
      "padding": null,
      "right": null,
      "top": null,
      "visibility": null,
      "width": null
     }
    },
    "bc006d91ec0b47a1bb6ae4755b02392b": {
     "model_module": "@jupyter-widgets/controls",
     "model_module_version": "1.5.0",
     "model_name": "DescriptionStyleModel",
     "state": {
      "_model_module": "@jupyter-widgets/controls",
      "_model_module_version": "1.5.0",
      "_model_name": "DescriptionStyleModel",
      "_view_count": null,
      "_view_module": "@jupyter-widgets/base",
      "_view_module_version": "1.2.0",
      "_view_name": "StyleView",
      "description_width": ""
     }
    },
    "c6670f81cfa142799f963548ce66df23": {
     "model_module": "@jupyter-widgets/base",
     "model_module_version": "1.2.0",
     "model_name": "LayoutModel",
     "state": {
      "_model_module": "@jupyter-widgets/base",
      "_model_module_version": "1.2.0",
      "_model_name": "LayoutModel",
      "_view_count": null,
      "_view_module": "@jupyter-widgets/base",
      "_view_module_version": "1.2.0",
      "_view_name": "LayoutView",
      "align_content": null,
      "align_items": null,
      "align_self": null,
      "border": null,
      "bottom": null,
      "display": null,
      "flex": null,
      "flex_flow": null,
      "grid_area": null,
      "grid_auto_columns": null,
      "grid_auto_flow": null,
      "grid_auto_rows": null,
      "grid_column": null,
      "grid_gap": null,
      "grid_row": null,
      "grid_template_areas": null,
      "grid_template_columns": null,
      "grid_template_rows": null,
      "height": null,
      "justify_content": null,
      "justify_items": null,
      "left": null,
      "margin": null,
      "max_height": null,
      "max_width": null,
      "min_height": null,
      "min_width": null,
      "object_fit": null,
      "object_position": null,
      "order": null,
      "overflow": null,
      "overflow_x": null,
      "overflow_y": null,
      "padding": null,
      "right": null,
      "top": null,
      "visibility": null,
      "width": null
     }
    },
    "c8acdef90e5a4f5eb6772ea2023c19e8": {
     "model_module": "@jupyter-widgets/base",
     "model_module_version": "1.2.0",
     "model_name": "LayoutModel",
     "state": {
      "_model_module": "@jupyter-widgets/base",
      "_model_module_version": "1.2.0",
      "_model_name": "LayoutModel",
      "_view_count": null,
      "_view_module": "@jupyter-widgets/base",
      "_view_module_version": "1.2.0",
      "_view_name": "LayoutView",
      "align_content": null,
      "align_items": null,
      "align_self": null,
      "border": null,
      "bottom": null,
      "display": null,
      "flex": null,
      "flex_flow": null,
      "grid_area": null,
      "grid_auto_columns": null,
      "grid_auto_flow": null,
      "grid_auto_rows": null,
      "grid_column": null,
      "grid_gap": null,
      "grid_row": null,
      "grid_template_areas": null,
      "grid_template_columns": null,
      "grid_template_rows": null,
      "height": null,
      "justify_content": null,
      "justify_items": null,
      "left": null,
      "margin": null,
      "max_height": null,
      "max_width": null,
      "min_height": null,
      "min_width": null,
      "object_fit": null,
      "object_position": null,
      "order": null,
      "overflow": null,
      "overflow_x": null,
      "overflow_y": null,
      "padding": null,
      "right": null,
      "top": null,
      "visibility": null,
      "width": null
     }
    },
    "c90484924a0b4939aa36478ba91d6edc": {
     "model_module": "@jupyter-widgets/controls",
     "model_module_version": "1.5.0",
     "model_name": "DescriptionStyleModel",
     "state": {
      "_model_module": "@jupyter-widgets/controls",
      "_model_module_version": "1.5.0",
      "_model_name": "DescriptionStyleModel",
      "_view_count": null,
      "_view_module": "@jupyter-widgets/base",
      "_view_module_version": "1.2.0",
      "_view_name": "StyleView",
      "description_width": ""
     }
    },
    "cab8d03e75564922bfbbdb9274f21c9f": {
     "model_module": "@jupyter-widgets/controls",
     "model_module_version": "1.5.0",
     "model_name": "ProgressStyleModel",
     "state": {
      "_model_module": "@jupyter-widgets/controls",
      "_model_module_version": "1.5.0",
      "_model_name": "ProgressStyleModel",
      "_view_count": null,
      "_view_module": "@jupyter-widgets/base",
      "_view_module_version": "1.2.0",
      "_view_name": "StyleView",
      "bar_color": null,
      "description_width": ""
     }
    },
    "cf333703c41f4d198da3ed7aedf0d105": {
     "model_module": "@jupyter-widgets/base",
     "model_module_version": "1.2.0",
     "model_name": "LayoutModel",
     "state": {
      "_model_module": "@jupyter-widgets/base",
      "_model_module_version": "1.2.0",
      "_model_name": "LayoutModel",
      "_view_count": null,
      "_view_module": "@jupyter-widgets/base",
      "_view_module_version": "1.2.0",
      "_view_name": "LayoutView",
      "align_content": null,
      "align_items": null,
      "align_self": null,
      "border": null,
      "bottom": null,
      "display": null,
      "flex": null,
      "flex_flow": null,
      "grid_area": null,
      "grid_auto_columns": null,
      "grid_auto_flow": null,
      "grid_auto_rows": null,
      "grid_column": null,
      "grid_gap": null,
      "grid_row": null,
      "grid_template_areas": null,
      "grid_template_columns": null,
      "grid_template_rows": null,
      "height": null,
      "justify_content": null,
      "justify_items": null,
      "left": null,
      "margin": null,
      "max_height": null,
      "max_width": null,
      "min_height": null,
      "min_width": null,
      "object_fit": null,
      "object_position": null,
      "order": null,
      "overflow": null,
      "overflow_x": null,
      "overflow_y": null,
      "padding": null,
      "right": null,
      "top": null,
      "visibility": null,
      "width": null
     }
    },
    "d24d9983f0144bb898e8c35363a0190f": {
     "model_module": "@jupyter-widgets/controls",
     "model_module_version": "1.5.0",
     "model_name": "ProgressStyleModel",
     "state": {
      "_model_module": "@jupyter-widgets/controls",
      "_model_module_version": "1.5.0",
      "_model_name": "ProgressStyleModel",
      "_view_count": null,
      "_view_module": "@jupyter-widgets/base",
      "_view_module_version": "1.2.0",
      "_view_name": "StyleView",
      "bar_color": null,
      "description_width": ""
     }
    },
    "d4375a4e5ddf4715bc617f5cc690bea7": {
     "model_module": "@jupyter-widgets/base",
     "model_module_version": "1.2.0",
     "model_name": "LayoutModel",
     "state": {
      "_model_module": "@jupyter-widgets/base",
      "_model_module_version": "1.2.0",
      "_model_name": "LayoutModel",
      "_view_count": null,
      "_view_module": "@jupyter-widgets/base",
      "_view_module_version": "1.2.0",
      "_view_name": "LayoutView",
      "align_content": null,
      "align_items": null,
      "align_self": null,
      "border": null,
      "bottom": null,
      "display": null,
      "flex": null,
      "flex_flow": null,
      "grid_area": null,
      "grid_auto_columns": null,
      "grid_auto_flow": null,
      "grid_auto_rows": null,
      "grid_column": null,
      "grid_gap": null,
      "grid_row": null,
      "grid_template_areas": null,
      "grid_template_columns": null,
      "grid_template_rows": null,
      "height": null,
      "justify_content": null,
      "justify_items": null,
      "left": null,
      "margin": null,
      "max_height": null,
      "max_width": null,
      "min_height": null,
      "min_width": null,
      "object_fit": null,
      "object_position": null,
      "order": null,
      "overflow": null,
      "overflow_x": null,
      "overflow_y": null,
      "padding": null,
      "right": null,
      "top": null,
      "visibility": null,
      "width": null
     }
    },
    "d8ca1f2b08614ae8a01244825b55d870": {
     "model_module": "@jupyter-widgets/controls",
     "model_module_version": "1.5.0",
     "model_name": "HTMLModel",
     "state": {
      "_dom_classes": [],
      "_model_module": "@jupyter-widgets/controls",
      "_model_module_version": "1.5.0",
      "_model_name": "HTMLModel",
      "_view_count": null,
      "_view_module": "@jupyter-widgets/controls",
      "_view_module_version": "1.5.0",
      "_view_name": "HTMLView",
      "description": "",
      "description_tooltip": null,
      "layout": "IPY_MODEL_ad090079d41140dab4da21b029628f77",
      "placeholder": "​",
      "style": "IPY_MODEL_a8c1e268f7584f0892166e364341039f",
      "value": "Downloading (…)lve/main/config.json: 100%"
     }
    },
    "dcc721214a1b4f51951a877c8fd1eb4f": {
     "model_module": "@jupyter-widgets/controls",
     "model_module_version": "1.5.0",
     "model_name": "HTMLModel",
     "state": {
      "_dom_classes": [],
      "_model_module": "@jupyter-widgets/controls",
      "_model_module_version": "1.5.0",
      "_model_name": "HTMLModel",
      "_view_count": null,
      "_view_module": "@jupyter-widgets/controls",
      "_view_module_version": "1.5.0",
      "_view_name": "HTMLView",
      "description": "",
      "description_tooltip": null,
      "layout": "IPY_MODEL_430b0444902c499ab90bcfb4cbd00286",
      "placeholder": "​",
      "style": "IPY_MODEL_f81998fab4834e5d83da75b14f00192f",
      "value": "Downloading (…)solve/main/vocab.txt: 100%"
     }
    },
    "e061de5dda33411793cb7d951106f551": {
     "model_module": "@jupyter-widgets/base",
     "model_module_version": "1.2.0",
     "model_name": "LayoutModel",
     "state": {
      "_model_module": "@jupyter-widgets/base",
      "_model_module_version": "1.2.0",
      "_model_name": "LayoutModel",
      "_view_count": null,
      "_view_module": "@jupyter-widgets/base",
      "_view_module_version": "1.2.0",
      "_view_name": "LayoutView",
      "align_content": null,
      "align_items": null,
      "align_self": null,
      "border": null,
      "bottom": null,
      "display": null,
      "flex": null,
      "flex_flow": null,
      "grid_area": null,
      "grid_auto_columns": null,
      "grid_auto_flow": null,
      "grid_auto_rows": null,
      "grid_column": null,
      "grid_gap": null,
      "grid_row": null,
      "grid_template_areas": null,
      "grid_template_columns": null,
      "grid_template_rows": null,
      "height": null,
      "justify_content": null,
      "justify_items": null,
      "left": null,
      "margin": null,
      "max_height": null,
      "max_width": null,
      "min_height": null,
      "min_width": null,
      "object_fit": null,
      "object_position": null,
      "order": null,
      "overflow": null,
      "overflow_x": null,
      "overflow_y": null,
      "padding": null,
      "right": null,
      "top": null,
      "visibility": null,
      "width": null
     }
    },
    "e67f7beb354c4c6286dc5a9ccec80806": {
     "model_module": "@jupyter-widgets/controls",
     "model_module_version": "1.5.0",
     "model_name": "HTMLModel",
     "state": {
      "_dom_classes": [],
      "_model_module": "@jupyter-widgets/controls",
      "_model_module_version": "1.5.0",
      "_model_name": "HTMLModel",
      "_view_count": null,
      "_view_module": "@jupyter-widgets/controls",
      "_view_module_version": "1.5.0",
      "_view_name": "HTMLView",
      "description": "",
      "description_tooltip": null,
      "layout": "IPY_MODEL_6f7f7556f8924ed8b68f7968690927ae",
      "placeholder": "​",
      "style": "IPY_MODEL_10cfee18d5a9455c84dec3d4445abc98",
      "value": " 28.0/28.0 [00:00&lt;00:00, 1.48kB/s]"
     }
    },
    "ea55c2cd1b874c74b4802bbed0b0ef11": {
     "model_module": "@jupyter-widgets/controls",
     "model_module_version": "1.5.0",
     "model_name": "HBoxModel",
     "state": {
      "_dom_classes": [],
      "_model_module": "@jupyter-widgets/controls",
      "_model_module_version": "1.5.0",
      "_model_name": "HBoxModel",
      "_view_count": null,
      "_view_module": "@jupyter-widgets/controls",
      "_view_module_version": "1.5.0",
      "_view_name": "HBoxView",
      "box_style": "",
      "children": [
       "IPY_MODEL_dcc721214a1b4f51951a877c8fd1eb4f",
       "IPY_MODEL_0dffee631e4946008c89b972e95b3d0e",
       "IPY_MODEL_96d76c8cb00340a6b599d05b4cc4e69b"
      ],
      "layout": "IPY_MODEL_5fe9d7591de644c4a9aae82cc82e27b7"
     }
    },
    "eb290c54e2d34f0b9096a36dfc7490d7": {
     "model_module": "@jupyter-widgets/base",
     "model_module_version": "1.2.0",
     "model_name": "LayoutModel",
     "state": {
      "_model_module": "@jupyter-widgets/base",
      "_model_module_version": "1.2.0",
      "_model_name": "LayoutModel",
      "_view_count": null,
      "_view_module": "@jupyter-widgets/base",
      "_view_module_version": "1.2.0",
      "_view_name": "LayoutView",
      "align_content": null,
      "align_items": null,
      "align_self": null,
      "border": null,
      "bottom": null,
      "display": null,
      "flex": null,
      "flex_flow": null,
      "grid_area": null,
      "grid_auto_columns": null,
      "grid_auto_flow": null,
      "grid_auto_rows": null,
      "grid_column": null,
      "grid_gap": null,
      "grid_row": null,
      "grid_template_areas": null,
      "grid_template_columns": null,
      "grid_template_rows": null,
      "height": null,
      "justify_content": null,
      "justify_items": null,
      "left": null,
      "margin": null,
      "max_height": null,
      "max_width": null,
      "min_height": null,
      "min_width": null,
      "object_fit": null,
      "object_position": null,
      "order": null,
      "overflow": null,
      "overflow_x": null,
      "overflow_y": null,
      "padding": null,
      "right": null,
      "top": null,
      "visibility": null,
      "width": null
     }
    },
    "ee4132e7e9ed4d838d2e0b62f5e3289b": {
     "model_module": "@jupyter-widgets/controls",
     "model_module_version": "1.5.0",
     "model_name": "FloatProgressModel",
     "state": {
      "_dom_classes": [],
      "_model_module": "@jupyter-widgets/controls",
      "_model_module_version": "1.5.0",
      "_model_name": "FloatProgressModel",
      "_view_count": null,
      "_view_module": "@jupyter-widgets/controls",
      "_view_module_version": "1.5.0",
      "_view_name": "ProgressView",
      "bar_style": "success",
      "description": "",
      "description_tooltip": null,
      "layout": "IPY_MODEL_00882c33735e4b088ae87a6a9b631454",
      "max": 124,
      "min": 0,
      "orientation": "horizontal",
      "style": "IPY_MODEL_fd424b4aace24885ae30917b2b328dba",
      "value": 124
     }
    },
    "efa3b2cd2ad84f2d9cd94889cdbed9b3": {
     "model_module": "@jupyter-widgets/controls",
     "model_module_version": "1.5.0",
     "model_name": "ProgressStyleModel",
     "state": {
      "_model_module": "@jupyter-widgets/controls",
      "_model_module_version": "1.5.0",
      "_model_name": "ProgressStyleModel",
      "_view_count": null,
      "_view_module": "@jupyter-widgets/base",
      "_view_module_version": "1.2.0",
      "_view_name": "StyleView",
      "bar_color": null,
      "description_width": ""
     }
    },
    "f1914ac6bf9d4cc887e2d0efac719bd1": {
     "model_module": "@jupyter-widgets/controls",
     "model_module_version": "1.5.0",
     "model_name": "DescriptionStyleModel",
     "state": {
      "_model_module": "@jupyter-widgets/controls",
      "_model_module_version": "1.5.0",
      "_model_name": "DescriptionStyleModel",
      "_view_count": null,
      "_view_module": "@jupyter-widgets/base",
      "_view_module_version": "1.2.0",
      "_view_name": "StyleView",
      "description_width": ""
     }
    },
    "f536b3a3e0f5425b905d0b32e8368f35": {
     "model_module": "@jupyter-widgets/controls",
     "model_module_version": "1.5.0",
     "model_name": "DescriptionStyleModel",
     "state": {
      "_model_module": "@jupyter-widgets/controls",
      "_model_module_version": "1.5.0",
      "_model_name": "DescriptionStyleModel",
      "_view_count": null,
      "_view_module": "@jupyter-widgets/base",
      "_view_module_version": "1.2.0",
      "_view_name": "StyleView",
      "description_width": ""
     }
    },
    "f81998fab4834e5d83da75b14f00192f": {
     "model_module": "@jupyter-widgets/controls",
     "model_module_version": "1.5.0",
     "model_name": "DescriptionStyleModel",
     "state": {
      "_model_module": "@jupyter-widgets/controls",
      "_model_module_version": "1.5.0",
      "_model_name": "DescriptionStyleModel",
      "_view_count": null,
      "_view_module": "@jupyter-widgets/base",
      "_view_module_version": "1.2.0",
      "_view_name": "StyleView",
      "description_width": ""
     }
    },
    "fc304e970e844825bdcd8557cb8d8abe": {
     "model_module": "@jupyter-widgets/controls",
     "model_module_version": "1.5.0",
     "model_name": "DescriptionStyleModel",
     "state": {
      "_model_module": "@jupyter-widgets/controls",
      "_model_module_version": "1.5.0",
      "_model_name": "DescriptionStyleModel",
      "_view_count": null,
      "_view_module": "@jupyter-widgets/base",
      "_view_module_version": "1.2.0",
      "_view_name": "StyleView",
      "description_width": ""
     }
    },
    "fd424b4aace24885ae30917b2b328dba": {
     "model_module": "@jupyter-widgets/controls",
     "model_module_version": "1.5.0",
     "model_name": "ProgressStyleModel",
     "state": {
      "_model_module": "@jupyter-widgets/controls",
      "_model_module_version": "1.5.0",
      "_model_name": "ProgressStyleModel",
      "_view_count": null,
      "_view_module": "@jupyter-widgets/base",
      "_view_module_version": "1.2.0",
      "_view_name": "StyleView",
      "bar_color": null,
      "description_width": ""
     }
    }
   }
  }
 },
 "nbformat": 4,
 "nbformat_minor": 1
}
