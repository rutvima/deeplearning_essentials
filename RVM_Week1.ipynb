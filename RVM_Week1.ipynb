{
 "cells": [
  {
   "cell_type": "markdown",
   "metadata": {
    "id": "OwkdvS4Nd8ux"
   },
   "source": [
    "#**Week 1 - PyTorch and MLPs** (~1 hr total)\n",
    "\n"
   ]
  },
  {
   "cell_type": "markdown",
   "metadata": {
    "id": "WfeNp0JxocE2"
   },
   "source": [
    "## Part 0 - Setup (~1 min)\n",
    "\n",
    "**Before you begin, please clone this notebook!**\n",
    "\n",
    "*File > Save a copy in Drive*\n",
    "\n",
    "Then, go to the `DLE-Jun23` Drive [folder link](https://drive.google.com/drive/folders/1RytzIRRahly0MO9IzRXMimIgSP02DQnx), click the down arrow next to DLE-Jun23, and select \"Add shortcut to Drive\". Make sure the shortcut is added to \"My Drive\".\n",
    "\n",
    "<img src=\"https://drive.google.com/uc?export=download&id=1y2OCLuw7Ux2h10HQSVpT0s5c2k1JPGS-\"  width=\"300\">"
   ]
  },
  {
   "cell_type": "code",
   "execution_count": 1,
   "metadata": {
    "colab": {
     "base_uri": "https://localhost:8080/",
     "height": 53
    },
    "executionInfo": {
     "elapsed": 19814,
     "status": "ok",
     "timestamp": 1688049094739,
     "user": {
      "displayName": "Ruth Vilar",
      "userId": "17604228112721847304"
     },
     "user_tz": -120
    },
    "id": "u3fm6NNHBMr5",
    "outputId": "1f88e60a-d95d-4ea4-90b3-7a692a061bd1"
   },
   "outputs": [
    {
     "name": "stdout",
     "output_type": "stream",
     "text": [
      "Mounted at /content/drive\n"
     ]
    },
    {
     "data": {
      "application/vnd.google.colaboratory.intrinsic+json": {
       "type": "string"
      },
      "text/plain": [
       "'⭐ Mounted successfully!'"
      ]
     },
     "metadata": {},
     "output_type": "display_data"
    }
   ],
   "source": [
    "from logging import exception\n",
    "#@title Step 1: Mount drive\n",
    "#@markdown Run this cell. If prompted, press \"Connect to Google Drive\" and select your Google account.\n",
    "#@markdown Then, under the folder icon 📁 on the left panel, you should see the folder **drive** appear.\n",
    "from google.colab import drive\n",
    "from IPython.display import display, Markdown, HTML\n",
    "import os, sys\n",
    "\n",
    "%load_ext autoreload\n",
    "%autoreload 2\n",
    "try:\n",
    "  drive.mount('/content/drive', force_remount=False)\n",
    "  sys.path.append('/content/drive/MyDrive/DLE-Jun23/Projects')\n",
    "  os.chdir('/content/drive/MyDrive/Colab Notebooks/CoRise_DL')\n",
    "  display(\"⭐ Mounted successfully!\")\n",
    "except:\n",
    "  display(HTML('<span style=\"color:red\">An error occurred. Try again!</span>'))\n"
   ]
  },
  {
   "cell_type": "markdown",
   "metadata": {
    "id": "quEFcn37Q8Ak"
   },
   "source": [
    "### Step 2: Import packages"
   ]
  },
  {
   "cell_type": "code",
   "execution_count": 2,
   "metadata": {
    "executionInfo": {
     "elapsed": 20849,
     "status": "ok",
     "timestamp": 1688049120401,
     "user": {
      "displayName": "Ruth Vilar",
      "userId": "17604228112721847304"
     },
     "user_tz": -120
    },
    "id": "0QlX3-fFmHLk"
   },
   "outputs": [],
   "source": [
    "%%capture\n",
    "\n",
    "%load_ext autoreload\n",
    "%autoreload 2\n",
    "\n",
    "!pip install gradio\n",
    "from dle_utils.dle_utils import *\n",
    "\n",
    "import gradio as gr\n",
    "import torch\n",
    "import torch.nn as nn\n",
    "import numpy as np\n",
    "np.random.seed(0)\n",
    "torch.manual_seed(0)"
   ]
  },
  {
   "cell_type": "code",
   "execution_count": null,
   "metadata": {
    "cellView": "form",
    "id": "sxYKrTzuer1C"
   },
   "outputs": [],
   "source": [
    "#@title Step 3: Enter your name to begin\n",
    "#@markdown Enter your name as it appears in Slack and run this cell! (Optional; this allows us gain insight into your progress. You can also leave this blank.)\n",
    "Name = '' #@param {type:\"string\"}\n",
    "filepath = '/content/drive/MyDrive/Colab Notebooks/dle_info.txt'\n",
    "if os.path.exists(filepath):\n",
    "  print(\"Success!\")\n",
    "else:\n",
    "  if len(Name) == 0:\n",
    "    print(\"Please set your name!\")\n",
    "  else:\n",
    "    try:\n",
    "      with open(filepath, 'w') as fp:\n",
    "        fp.write(Name)\n",
    "        dle_username = Name\n",
    "      print(\"Success!\")\n",
    "    except:\n",
    "      print(\"Something went wrong...\")\n"
   ]
  },
  {
   "cell_type": "markdown",
   "metadata": {
    "id": "ZWMw3Kms-KzG"
   },
   "source": [
    "**Note**: Most cells contains a `check` function that provides feedback on your solution (correct or incorrect). We've designed these for your benefit to know that you are on the right track! Even if you are stuck on one section, we encourage you to continue as a failed check does not prevent you from continuing. Though we have worked to make each check as comprehensive as possible, PyTorch may from time to time have unexpected random behaviors. Please reach out to the instructors if you think your answer should be passing a check!"
   ]
  },
  {
   "cell_type": "markdown",
   "metadata": {
    "id": "kHx3e30YXmW4"
   },
   "source": [
    "# Part 1 - PyTorch Basics (~30 min)\n",
    "\n",
    "## *Tensor < Layer < Network*\n",
    "\n",
    "In PyTorch, a **tensor** is the fundamental data structure for storing and manipulating data, a **layer** is a neural network component that performs a specific computation on the input tensors and produces output tensors, and a **network** (also known as a model) is a collection of layers that are organized in a specific way to perform a specific task, such as image classification or machine translation.\n"
   ]
  },
  {
   "cell_type": "markdown",
   "metadata": {
    "id": "qk4BWNiM04bI"
   },
   "source": [
    "## Step 1: Tensors\n",
    "\n",
    "PyTorch has its own classes for arrays and data, similar to how Numpy has objects like np.array. In order to perform PyTorch operations, we just to convert data into a PyTorch Tensor (torch.Tensor).\n",
    "\n",
    "For reference, PyTorch tensors are covered in the following documentation: https://pytorch.org/docs/stable/tensors.html\n",
    "\n",
    "This link will be very helpful for answering the following questions.\n",
    "\n",
    "### **10 quick exercises in PyTorch tensor operations:**"
   ]
  },
  {
   "cell_type": "markdown",
   "metadata": {
    "id": "c31zOlhqDGmV"
   },
   "source": [
    "1) Create a 3x6 tensor with ones:"
   ]
  },
  {
   "cell_type": "code",
   "execution_count": null,
   "metadata": {
    "colab": {
     "base_uri": "https://localhost:8080/",
     "height": 82
    },
    "executionInfo": {
     "elapsed": 576,
     "status": "ok",
     "timestamp": 1687977617791,
     "user": {
      "displayName": "Ruth Vilar",
      "userId": "17604228112721847304"
     },
     "user_tz": -120
    },
    "id": "bgPulloLDN14",
    "outputId": "6e88f429-24d5-4477-8d7d-d342b41ee284"
   },
   "outputs": [
    {
     "name": "stdout",
     "output_type": "stream",
     "text": [
      "Error: Please set your name first!\n"
     ]
    },
    {
     "data": {
      "text/markdown": [
       "## Correct! 🎉"
      ],
      "text/plain": [
       "<IPython.core.display.Markdown object>"
      ]
     },
     "execution_count": 5,
     "metadata": {},
     "output_type": "execute_result"
    }
   ],
   "source": [
    "A = torch.ones([3, 6])\n",
    "\n",
    "check('1.1.1', A)"
   ]
  },
  {
   "cell_type": "markdown",
   "metadata": {
    "id": "N-CfhHrsDPl5"
   },
   "source": [
    "2) Create a 3x6 tensor with random values:"
   ]
  },
  {
   "cell_type": "code",
   "execution_count": null,
   "metadata": {
    "colab": {
     "base_uri": "https://localhost:8080/",
     "height": 64
    },
    "executionInfo": {
     "elapsed": 628,
     "status": "ok",
     "timestamp": 1687977624116,
     "user": {
      "displayName": "Ruth Vilar",
      "userId": "17604228112721847304"
     },
     "user_tz": -120
    },
    "id": "dbmIfUMzDPl5",
    "outputId": "46d505c2-5325-4fdb-9667-0dc78be298e9"
   },
   "outputs": [
    {
     "data": {
      "text/markdown": [
       "## Correct! 🎉"
      ],
      "text/plain": [
       "<IPython.core.display.Markdown object>"
      ]
     },
     "execution_count": 6,
     "metadata": {},
     "output_type": "execute_result"
    }
   ],
   "source": [
    "torch.manual_seed(0)\n",
    "B = torch.rand(3, 6)\n",
    "check('1.1.2', B)"
   ]
  },
  {
   "cell_type": "markdown",
   "metadata": {
    "id": "-5mwZ6PSEEqk"
   },
   "source": [
    "3) Transpose B:"
   ]
  },
  {
   "cell_type": "code",
   "execution_count": null,
   "metadata": {
    "colab": {
     "base_uri": "https://localhost:8080/",
     "height": 64
    },
    "executionInfo": {
     "elapsed": 233,
     "status": "ok",
     "timestamp": 1687977627423,
     "user": {
      "displayName": "Ruth Vilar",
      "userId": "17604228112721847304"
     },
     "user_tz": -120
    },
    "id": "WTtHApYVEEql",
    "outputId": "8413b5aa-bc97-43f8-bcb8-afde3334414d"
   },
   "outputs": [
    {
     "data": {
      "text/markdown": [
       "## Correct! 🎉"
      ],
      "text/plain": [
       "<IPython.core.display.Markdown object>"
      ]
     },
     "execution_count": 7,
     "metadata": {},
     "output_type": "execute_result"
    }
   ],
   "source": [
    "B_T = torch.t(B)\n",
    "check('1.1.3', B_T)"
   ]
  },
  {
   "cell_type": "markdown",
   "metadata": {
    "id": "Yx94n0foDP2P"
   },
   "source": [
    "4) Evaluate the following expression:\n",
    "\n",
    "$$C = (B-A)^T(B)$$\n",
    "\n",
    "That is, the product of two matrices: $(B-A)$ transposed, and B.\n",
    "Hint: Are A and B the same data type?"
   ]
  },
  {
   "cell_type": "code",
   "execution_count": null,
   "metadata": {
    "colab": {
     "base_uri": "https://localhost:8080/",
     "height": 64
    },
    "executionInfo": {
     "elapsed": 261,
     "status": "ok",
     "timestamp": 1687977631850,
     "user": {
      "displayName": "Ruth Vilar",
      "userId": "17604228112721847304"
     },
     "user_tz": -120
    },
    "id": "72--iLIjDP2P",
    "outputId": "4d7cb40c-e48c-4a15-c26c-e304c127806c"
   },
   "outputs": [
    {
     "data": {
      "text/markdown": [
       "## Correct! 🎉"
      ],
      "text/plain": [
       "<IPython.core.display.Markdown object>"
      ]
     },
     "execution_count": 8,
     "metadata": {},
     "output_type": "execute_result"
    }
   ],
   "source": [
    "C = torch.mm(torch.t(B-A),B)\n",
    "check('1.1.4', C)"
   ]
  },
  {
   "cell_type": "markdown",
   "metadata": {
    "id": "LmSXk5wZEEyi"
   },
   "source": [
    "5) Reshape C into shape (6,2,3):"
   ]
  },
  {
   "cell_type": "code",
   "execution_count": null,
   "metadata": {
    "colab": {
     "base_uri": "https://localhost:8080/",
     "height": 64
    },
    "executionInfo": {
     "elapsed": 218,
     "status": "ok",
     "timestamp": 1687977636133,
     "user": {
      "displayName": "Ruth Vilar",
      "userId": "17604228112721847304"
     },
     "user_tz": -120
    },
    "id": "dMokyB36EEyi",
    "outputId": "ef5974c3-0e45-4b9d-84ef-c012758640cf"
   },
   "outputs": [
    {
     "data": {
      "text/markdown": [
       "## Correct! 🎉"
      ],
      "text/plain": [
       "<IPython.core.display.Markdown object>"
      ]
     },
     "execution_count": 9,
     "metadata": {},
     "output_type": "execute_result"
    }
   ],
   "source": [
    "D = torch.reshape(C,(6,2,3))\n",
    "\n",
    "check('1.1.5', D)"
   ]
  },
  {
   "cell_type": "markdown",
   "metadata": {
    "id": "U3EAAdx6E759"
   },
   "source": [
    "6) Slice the tensor `D` along axis 1 and select the first element:"
   ]
  },
  {
   "cell_type": "code",
   "execution_count": null,
   "metadata": {
    "colab": {
     "base_uri": "https://localhost:8080/",
     "height": 64
    },
    "executionInfo": {
     "elapsed": 6,
     "status": "ok",
     "timestamp": 1687978168416,
     "user": {
      "displayName": "Ruth Vilar",
      "userId": "17604228112721847304"
     },
     "user_tz": -120
    },
    "id": "0chvcKM9EE6t",
    "outputId": "c0a895b7-b505-4901-b066-4c2465dd9096"
   },
   "outputs": [
    {
     "data": {
      "text/markdown": [
       "## Correct! 🎉"
      ],
      "text/plain": [
       "<IPython.core.display.Markdown object>"
      ]
     },
     "execution_count": 10,
     "metadata": {},
     "output_type": "execute_result"
    }
   ],
   "source": [
    "D_ = torch.select(D, 1, 0)\n",
    "check('1.1.6', D_)"
   ]
  },
  {
   "cell_type": "markdown",
   "metadata": {
    "id": "8jZhfrg5EFBU"
   },
   "source": [
    "7) Concatenate tensors `B` and `C` along axis 0:"
   ]
  },
  {
   "cell_type": "code",
   "execution_count": null,
   "metadata": {
    "colab": {
     "base_uri": "https://localhost:8080/",
     "height": 64
    },
    "executionInfo": {
     "elapsed": 319,
     "status": "ok",
     "timestamp": 1687978379042,
     "user": {
      "displayName": "Ruth Vilar",
      "userId": "17604228112721847304"
     },
     "user_tz": -120
    },
    "id": "g4t1FBLTEFBU",
    "outputId": "8cfe749d-ca36-4c86-e856-e64c14de0205"
   },
   "outputs": [
    {
     "data": {
      "text/markdown": [
       "## Correct! 🎉"
      ],
      "text/plain": [
       "<IPython.core.display.Markdown object>"
      ]
     },
     "execution_count": 11,
     "metadata": {},
     "output_type": "execute_result"
    }
   ],
   "source": [
    "B_C = torch.concatenate((B,C), axis=0)\n",
    "check('1.1.7', B_C)"
   ]
  },
  {
   "cell_type": "markdown",
   "metadata": {
    "id": "W0sfMsYqFkQn"
   },
   "source": [
    "8) Create a NumPy array with random uniform values of size (4,4). Convert it to a PyTorch tensor:\n",
    "\n",
    "Hint: Use `numpy.random.rand()`!"
   ]
  },
  {
   "cell_type": "code",
   "execution_count": null,
   "metadata": {
    "colab": {
     "base_uri": "https://localhost:8080/",
     "height": 64
    },
    "executionInfo": {
     "elapsed": 221,
     "status": "ok",
     "timestamp": 1687978477981,
     "user": {
      "displayName": "Ruth Vilar",
      "userId": "17604228112721847304"
     },
     "user_tz": -120
    },
    "id": "J-fAkHV0FkQn",
    "outputId": "60224e58-b951-4244-b419-a448121b8934"
   },
   "outputs": [
    {
     "data": {
      "text/markdown": [
       "## Correct! 🎉"
      ],
      "text/plain": [
       "<IPython.core.display.Markdown object>"
      ]
     },
     "execution_count": 12,
     "metadata": {},
     "output_type": "execute_result"
    }
   ],
   "source": [
    "np.random.seed(0)\n",
    "N = torch.from_numpy(np.random.rand(4,4))\n",
    "check('1.1.8', N)"
   ]
  },
  {
   "cell_type": "markdown",
   "metadata": {
    "id": "jFY-iFMzFkZa"
   },
   "source": [
    "9) Convert tensor `N` back into a Numpy array:"
   ]
  },
  {
   "cell_type": "code",
   "execution_count": null,
   "metadata": {
    "colab": {
     "base_uri": "https://localhost:8080/",
     "height": 64
    },
    "executionInfo": {
     "elapsed": 460,
     "status": "ok",
     "timestamp": 1687978621574,
     "user": {
      "displayName": "Ruth Vilar",
      "userId": "17604228112721847304"
     },
     "user_tz": -120
    },
    "id": "rGUTTwqfFkZa",
    "outputId": "19238fab-b04f-477e-c0e2-fd0f1911af57"
   },
   "outputs": [
    {
     "data": {
      "text/markdown": [
       "## Correct! 🎉"
      ],
      "text/plain": [
       "<IPython.core.display.Markdown object>"
      ]
     },
     "execution_count": 13,
     "metadata": {},
     "output_type": "execute_result"
    }
   ],
   "source": [
    "N_A = N.numpy()\n",
    "check('1.1.9', N_A)"
   ]
  },
  {
   "cell_type": "markdown",
   "metadata": {
    "id": "_UiojMgiFkgz"
   },
   "source": [
    "10) Set the value of the number in the 1st row, 2nd column of `N` to 20:"
   ]
  },
  {
   "cell_type": "code",
   "execution_count": null,
   "metadata": {
    "colab": {
     "base_uri": "https://localhost:8080/",
     "height": 64
    },
    "executionInfo": {
     "elapsed": 322,
     "status": "ok",
     "timestamp": 1687978806843,
     "user": {
      "displayName": "Ruth Vilar",
      "userId": "17604228112721847304"
     },
     "user_tz": -120
    },
    "id": "sAdkiyJJFkg0",
    "outputId": "7ded699b-7778-42a1-a1cb-fa288114220a"
   },
   "outputs": [
    {
     "data": {
      "text/markdown": [
       "## Correct! 🎉"
      ],
      "text/plain": [
       "<IPython.core.display.Markdown object>"
      ]
     },
     "execution_count": 15,
     "metadata": {},
     "output_type": "execute_result"
    }
   ],
   "source": [
    "N[0,1]=20\n",
    "check('1.1.10', N)"
   ]
  },
  {
   "cell_type": "markdown",
   "metadata": {
    "id": "a_yb_zYJ08Gs"
   },
   "source": [
    "## Step 2: Layers\n",
    "\n",
    "A tensor is the input and output of a layer. The layer applies a specific operation or transformation on the input tensor(s) to produce an output tensor. A network is made up of multiple layers, where the output of one layer is used as the input to the next layer.\n",
    "\n",
    "When we create an instance of a layer (`nn.Linear`), the weights are randomly initialized. Through training, these weights become tuned to the task at hand.\n",
    "\n",
    "You can access the actual weights themselves using `.weight`. The weights are PyTorch Parameters (object type `torch.nn.parameter.Parameter`), which are essentially `torch.Tensor` objects with requires_grad=True. The same is true of the bias, which is stored in `.bias`.\n",
    "\n",
    "### **5 quick exercises in PyTorch layers!**"
   ]
  },
  {
   "cell_type": "markdown",
   "metadata": {
    "id": "6w4uJmQO6o0M"
   },
   "source": [
    "1) Create a `nn.Linear` layer with 10 input features and 5 output features and a bias term."
   ]
  },
  {
   "cell_type": "code",
   "execution_count": null,
   "metadata": {
    "colab": {
     "base_uri": "https://localhost:8080/",
     "height": 64
    },
    "executionInfo": {
     "elapsed": 275,
     "status": "ok",
     "timestamp": 1687978975061,
     "user": {
      "displayName": "Ruth Vilar",
      "userId": "17604228112721847304"
     },
     "user_tz": -120
    },
    "id": "P4DV8v2c2BfL",
    "outputId": "97427268-1532-446f-9cc1-dcb1ec397ea4"
   },
   "outputs": [
    {
     "data": {
      "text/markdown": [
       "## Correct! 🎉"
      ],
      "text/plain": [
       "<IPython.core.display.Markdown object>"
      ]
     },
     "execution_count": 16,
     "metadata": {},
     "output_type": "execute_result"
    }
   ],
   "source": [
    "layer = torch.nn.Linear(10,5,bias=True)\n",
    "\n",
    "check('1.2.1', layer)"
   ]
  },
  {
   "cell_type": "markdown",
   "metadata": {
    "id": "5gYJW_RO75MD"
   },
   "source": [
    "2) Create a 3x10 input tensor (call it `x`) filled with ones and perform a forward pass through `layer`, storing the result in `output`."
   ]
  },
  {
   "cell_type": "code",
   "execution_count": null,
   "metadata": {
    "colab": {
     "base_uri": "https://localhost:8080/",
     "height": 64
    },
    "executionInfo": {
     "elapsed": 216,
     "status": "ok",
     "timestamp": 1687979130197,
     "user": {
      "displayName": "Ruth Vilar",
      "userId": "17604228112721847304"
     },
     "user_tz": -120
    },
    "id": "AzRcZR9p66wZ",
    "outputId": "8ad3b360-4411-412b-fc76-a0cdc8c00a29"
   },
   "outputs": [
    {
     "data": {
      "text/markdown": [
       "## Correct! 🎉"
      ],
      "text/plain": [
       "<IPython.core.display.Markdown object>"
      ]
     },
     "execution_count": 17,
     "metadata": {},
     "output_type": "execute_result"
    }
   ],
   "source": [
    "x = torch.ones([3, 10])\n",
    "output = layer(x)\n",
    "\n",
    "check('1.2.2', output)"
   ]
  },
  {
   "cell_type": "markdown",
   "metadata": {
    "id": "Cm6eaLUx8BKA"
   },
   "source": [
    "3) Print the shape of the weights and biases of `layer`. Then, modify the parameters: multiply each of the weight values by 1.2, and add 5 to each of the bias values. Then, perform a forward pass again through `layer` with the tensor `x` and store the result in `output`.\n",
    "\n",
    "Hint: When modifying parameters, you should do so within a block that disables gradients like such:\n",
    "\n",
    "```\n",
    "with torch.no_grad():\n",
    "  ...\n",
    "````"
   ]
  },
  {
   "cell_type": "code",
   "execution_count": null,
   "metadata": {
    "colab": {
     "base_uri": "https://localhost:8080/",
     "height": 290
    },
    "executionInfo": {
     "elapsed": 216,
     "status": "ok",
     "timestamp": 1687980222939,
     "user": {
      "displayName": "Ruth Vilar",
      "userId": "17604228112721847304"
     },
     "user_tz": -120
    },
    "id": "A492Ad7X7hyc",
    "outputId": "d7287547-8abb-4353-ccdd-12cc75cc0cd8"
   },
   "outputs": [
    {
     "name": "stdout",
     "output_type": "stream",
     "text": [
      "Parameter containing:\n",
      "tensor([[-0.0024,  0.1696, -0.2603, -0.2327, -0.1218,  0.0848, -0.0063,  0.2507,\n",
      "         -0.0281,  0.0837],\n",
      "        [-0.0956, -0.0622, -0.3021, -0.2094, -0.1304,  0.0117,  0.1250,  0.1897,\n",
      "         -0.2144, -0.1377],\n",
      "        [ 0.1149,  0.2626, -0.0651,  0.2366, -0.0510,  0.0335,  0.2863, -0.2934,\n",
      "         -0.1991, -0.0801],\n",
      "        [-0.1233,  0.2732, -0.2050, -0.1456, -0.2209, -0.2962, -0.1846,  0.2718,\n",
      "          0.1411,  0.1533],\n",
      "        [ 0.0166, -0.1621,  0.0535, -0.2953, -0.2285, -0.1630,  0.1995,  0.1854,\n",
      "         -0.1402, -0.0114]], requires_grad=True)\n",
      "Parameter containing:\n",
      "tensor([0.2022, 0.3144, 0.1255, 0.0427, 0.2120], requires_grad=True)\n"
     ]
    },
    {
     "data": {
      "text/markdown": [
       "## Correct! 🎉"
      ],
      "text/plain": [
       "<IPython.core.display.Markdown object>"
      ]
     },
     "execution_count": 19,
     "metadata": {},
     "output_type": "execute_result"
    }
   ],
   "source": [
    "torch.manual_seed(0)\n",
    "print(layer.weight) # access the weights\n",
    "print(layer.bias) # access the biases\n",
    "\n",
    "with torch.no_grad():\n",
    "  layer.weight = nn.parameter.Parameter(layer.weight * 1.2) # layer.weight *= 1.2\n",
    "  layer.bias = nn.parameter.Parameter(layer.bias + 5) # layer.bias += 5\n",
    "\n",
    "output = layer(x)\n",
    "check('1.2.3', output)"
   ]
  },
  {
   "cell_type": "markdown",
   "metadata": {
    "id": "C0W4AYj-8C2O"
   },
   "source": [
    "4) Under the hood, `Linear` layers perform a very simple operation: for an input `x`, it computes the dot product with the `weights` matrix, and then adds the `bias` vector.\n",
    "\n",
    "Write an expression in Numpy that uses `layer.weight` and `layer.bias` to reproduce the same output as `layer`.\n",
    "\n",
    "**Hint**: Consult the [`nn.Linear`](https://pytorch.org/docs/stable/generated/torch.nn.Linear.html) docs page to see the formula used.\n",
    "\n",
    "**Hint**: Try to access the weights directly as a Numpy array with `layer.weight.numpy()`. What error do you get? Try the suggested fix in the error message!"
   ]
  },
  {
   "cell_type": "code",
   "execution_count": null,
   "metadata": {
    "colab": {
     "base_uri": "https://localhost:8080/"
    },
    "executionInfo": {
     "elapsed": 228,
     "status": "ok",
     "timestamp": 1687980560976,
     "user": {
      "displayName": "Ruth Vilar",
      "userId": "17604228112721847304"
     },
     "user_tz": -120
    },
    "id": "hc7MPTxqep3j",
    "outputId": "7c7db469-947d-455c-f86f-d7289874393e"
   },
   "outputs": [
    {
     "data": {
      "text/plain": [
       "array([[-0.00284105, -0.1146818 ,  0.13783121, -0.14791869,  0.0199571 ],\n",
       "       [ 0.20356603, -0.07459132,  0.3151101 ,  0.32786527, -0.19454971],\n",
       "       [-0.3123237 , -0.36252928, -0.07809567, -0.2459669 ,  0.06420108],\n",
       "       [-0.27926925, -0.2513184 ,  0.28396437, -0.17468405, -0.35431224],\n",
       "       [-0.1461558 , -0.15642767, -0.06116479, -0.26511544, -0.27419463],\n",
       "       [ 0.10175857,  0.01405705,  0.04015363, -0.35539994, -0.1956299 ],\n",
       "       [-0.00751857,  0.15001915,  0.3436041 , -0.22151394,  0.23942412],\n",
       "       [ 0.30088043,  0.22769265, -0.35202616,  0.32619452,  0.22249328],\n",
       "       [-0.033676  , -0.25726056, -0.23889285,  0.16932797, -0.16829453],\n",
       "       [ 0.1004134 , -0.16524652, -0.09606946,  0.18392031, -0.0136923 ]],\n",
       "      dtype=float32)"
      ]
     },
     "execution_count": 23,
     "metadata": {},
     "output_type": "execute_result"
    }
   ],
   "source": [
    "x.detach().numpy()\n",
    "layer.weight.detach().T.numpy()\n"
   ]
  },
  {
   "cell_type": "code",
   "execution_count": null,
   "metadata": {
    "colab": {
     "base_uri": "https://localhost:8080/",
     "height": 64
    },
    "executionInfo": {
     "elapsed": 229,
     "status": "ok",
     "timestamp": 1687980605402,
     "user": {
      "displayName": "Ruth Vilar",
      "userId": "17604228112721847304"
     },
     "user_tz": -120
    },
    "id": "liGCDAdG_65h",
    "outputId": "a1d0a79d-13e6-4026-872f-a50ac57e57d4"
   },
   "outputs": [
    {
     "data": {
      "text/markdown": [
       "## Correct! 🎉"
      ],
      "text/plain": [
       "<IPython.core.display.Markdown object>"
      ]
     },
     "execution_count": 24,
     "metadata": {},
     "output_type": "execute_result"
    }
   ],
   "source": [
    "output = np.dot(x,layer.weight.detach().numpy().T) + layer.bias.detach().numpy()\n",
    "check('1.2.4', output)"
   ]
  },
  {
   "cell_type": "markdown",
   "metadata": {
    "id": "czUQa8vFSc-J"
   },
   "source": [
    "5) Activation functions\n",
    "\n",
    "The final piece of a layer is the activation function, which performs an element-wise transform of a layer's outputs.\n",
    "\n",
    "Add a `torch.nn.ReLU` activaton function to `layer`. Then, pass `x` through both and store the result in `output`.\n"
   ]
  },
  {
   "cell_type": "code",
   "execution_count": null,
   "metadata": {
    "colab": {
     "base_uri": "https://localhost:8080/",
     "height": 64
    },
    "executionInfo": {
     "elapsed": 280,
     "status": "ok",
     "timestamp": 1687980651436,
     "user": {
      "displayName": "Ruth Vilar",
      "userId": "17604228112721847304"
     },
     "user_tz": -120
    },
    "id": "Jy4O9CqpSdXA",
    "outputId": "28e961c2-b54c-44ea-fcec-8e90f313abd3"
   },
   "outputs": [
    {
     "data": {
      "text/markdown": [
       "## Correct! 🎉"
      ],
      "text/plain": [
       "<IPython.core.display.Markdown object>"
      ]
     },
     "execution_count": 25,
     "metadata": {},
     "output_type": "execute_result"
    }
   ],
   "source": [
    "torch.manual_seed(0)\n",
    "layer = torch.nn.Linear(10, 5, bias=True) # re-initializing layer with the original weights\n",
    "\n",
    "output = nn.ReLU()(layer(x))\n",
    "\n",
    "check('1.2.5', output)"
   ]
  },
  {
   "cell_type": "markdown",
   "metadata": {
    "id": "Q5jgE-aW09iq"
   },
   "source": [
    "## Step 3: Neural Network\n",
    "\n",
    "A **neural network** takes a *tensor* as input, applies a series of transformations defined by the *layers*, and produces an output *tensor*, which can be used to make predictions or perform other tasks. The layers in a network are organized in a specific way, such as in a sequential or parallel fashion, to perform a specific task.\n",
    "\n",
    "### **3 quick exercises for neural networks:**"
   ]
  },
  {
   "cell_type": "markdown",
   "metadata": {
    "id": "akdBXLvC2_Qs"
   },
   "source": [
    "1) Create three layers with the following input and output features:\n",
    "\n",
    "- 10 inputs, 10 outputs\n",
    "- 10 inputs, 20 outputs\n",
    "- 20 inputs, 1 output\n",
    "\n",
    "Let each of the layers include bias terms.\n",
    "\n",
    "Then, let `x` be an input tensor with shape (5,10) and random values and make a forward pass through each of the layers sequentially, assigning the result to `output`.\n",
    "\n",
    "**Hint**: When creating random tensors, we suggest you use the `torch` library directly!"
   ]
  },
  {
   "cell_type": "code",
   "execution_count": 6,
   "metadata": {
    "colab": {
     "base_uri": "https://localhost:8080/",
     "height": 64
    },
    "executionInfo": {
     "elapsed": 194,
     "status": "ok",
     "timestamp": 1688049691113,
     "user": {
      "displayName": "Ruth Vilar",
      "userId": "17604228112721847304"
     },
     "user_tz": -120
    },
    "id": "85f1WEzEYl95",
    "outputId": "ca5f8f39-6ffc-4e97-da03-f6c42eefbe58"
   },
   "outputs": [
    {
     "data": {
      "text/markdown": [
       "## Correct! 🎉"
      ],
      "text/plain": [
       "<IPython.core.display.Markdown object>"
      ]
     },
     "execution_count": 6,
     "metadata": {},
     "output_type": "execute_result"
    }
   ],
   "source": [
    "torch.manual_seed(0)\n",
    "# declare your layers first\n",
    "layer1=nn.Linear(10,10,bias=True)\n",
    "layer2=nn.Linear(10,20,bias=True)\n",
    "layer3=nn.Linear(20,1,bias=True)\n",
    "# then, create your input tensor\n",
    "x = torch.rand(5, 10)\n",
    "\n",
    "# finally, evaluate your output\n",
    "output = layer3(layer2(layer1(x)))\n",
    "check('1.3.1', output)\n"
   ]
  },
  {
   "cell_type": "markdown",
   "metadata": {
    "id": "V31YtMBWYRj7"
   },
   "source": [
    "2) Now, add `nn.ReLU()` activation functions after each of the first two layers (2 functions total). You've just defined a simple neural network!"
   ]
  },
  {
   "cell_type": "code",
   "execution_count": 10,
   "metadata": {
    "colab": {
     "base_uri": "https://localhost:8080/",
     "height": 64
    },
    "executionInfo": {
     "elapsed": 189,
     "status": "ok",
     "timestamp": 1688050322124,
     "user": {
      "displayName": "Ruth Vilar",
      "userId": "17604228112721847304"
     },
     "user_tz": -120
    },
    "id": "w03FLgzT81l6",
    "outputId": "39400321-650f-4469-ffc1-c926b71e177a"
   },
   "outputs": [
    {
     "data": {
      "text/markdown": [
       "## Correct! 🎉"
      ],
      "text/plain": [
       "<IPython.core.display.Markdown object>"
      ]
     },
     "execution_count": 10,
     "metadata": {},
     "output_type": "execute_result"
    }
   ],
   "source": [
    "torch.manual_seed(0)\n",
    "np.random.seed(0)\n",
    "'''\n",
    "act=nn.ReLU()\n",
    "output = layer3(act(layer2(act(layer1(x)))))\n",
    "'''\n",
    "layers = nn.Sequential(\n",
    "    nn.Linear(10,10, bias=True),\n",
    "    nn.ReLU(),\n",
    "    nn.Linear(10,20, bias=True),\n",
    "    nn.ReLU(),\n",
    "    nn.Linear(20,1, bias=True)\n",
    ")\n",
    "output=layers(x)\n",
    "\n",
    "check('1.3.2', output)"
   ]
  },
  {
   "cell_type": "markdown",
   "metadata": {
    "id": "G12lekEDYX3y"
   },
   "source": [
    "3) A PyTorch [`nn.Module`](https://pytorch.org/docs/stable/generated/torch.nn.Module.html) is the base class for all neural network modules in PyTorch, which can be used to define a layer. The nn.Module class also provides a way to organize multiple layers and other modules in a way that defines a complete neural network.\n",
    "\n",
    "**TODO**: Create a `nn.Module` class with the neural network above and call it `MLP`. Instantiate it and assign it to the `model` variable.\n",
    "\n",
    "**Hint**: You will define an `__init__()` function, which will create the layer variables, and a `forward()` function, which takes as an input argument a tensor and returns the output of the neural network. Though using `nn.Sequential()` is a valid way to build the layers, we encourage you for this exercise to define each layer individually."
   ]
  },
  {
   "cell_type": "code",
   "execution_count": 11,
   "metadata": {
    "colab": {
     "base_uri": "https://localhost:8080/",
     "height": 64
    },
    "executionInfo": {
     "elapsed": 254,
     "status": "ok",
     "timestamp": 1688050543437,
     "user": {
      "displayName": "Ruth Vilar",
      "userId": "17604228112721847304"
     },
     "user_tz": -120
    },
    "id": "S-4V4jABAGR2",
    "outputId": "d7a3f0b6-ee9e-48dd-e288-35ca1ef83877"
   },
   "outputs": [
    {
     "data": {
      "text/markdown": [
       "## Correct! 🎉"
      ],
      "text/plain": [
       "<IPython.core.display.Markdown object>"
      ]
     },
     "execution_count": 11,
     "metadata": {},
     "output_type": "execute_result"
    }
   ],
   "source": [
    "torch.manual_seed(0)\n",
    "np.random.seed(0)\n",
    "\n",
    "\n",
    "class MLP(nn.Module):\n",
    "  def __init__(self):\n",
    "     super().__init__()\n",
    "     self.l1=nn.Linear(10,10, bias=True)\n",
    "     self.l2=nn.Linear(10,20, bias=True)\n",
    "     self.l3=nn.Linear(20,1, bias=True)\n",
    "     self.relu = nn.ReLU()\n",
    "\n",
    "  def forward(self,x):\n",
    "    x = self.relu(self.l1(x))\n",
    "    x = self.relu(self.l2(x))\n",
    "    output = self.l3(x)\n",
    "    return output\n",
    "\n",
    "model = MLP()\n",
    "check('1.3.3', model)"
   ]
  },
  {
   "cell_type": "markdown",
   "metadata": {
    "id": "QBciwraL2SUo"
   },
   "source": [
    "## Step 4: Gradients\n",
    "\n",
    "Congratulations! You've created your first PyTorch neural network! 🎉🎉🎉\n",
    "\n",
    "We now know how each layer transforms tensors and produces outputs. This is called a *forward pass*, as the computations performed on the input tensor are moving forward across the network.\n",
    "\n",
    "**But, how does a neural network learn?** It does so by performing a *backward pass*.\n",
    "\n",
    "In a *backward pass*, the gradients for each parameter are computed, starting with the last layer and moving backward. This algorithm is called *backpropagation*, which uses the chain rule to calculate gradients."
   ]
  },
  {
   "cell_type": "markdown",
   "metadata": {
    "id": "8YlSm7F6J1a8"
   },
   "source": [
    "1) Consider the following equation:\n",
    "\n",
    "$y = 3x^2+3$\n",
    "\n",
    "**Quick concept check: answer the questions below, and click the arrow to reveal the answer!**\n",
    "\n",
    "<details><summary>What is $\\frac{dy}{dx}$?</summary>\n",
    "     6x\n",
    "</details>\n",
    "\n",
    "<details><summary>What is $\\frac{dy}{dx}(2)$?</summary>\n",
    "     12\n",
    "</details>"
   ]
  },
  {
   "cell_type": "markdown",
   "metadata": {
    "id": "f_lvj_bu2e5y"
   },
   "source": [
    "2) Let's implement the same equation in PyTorch and verify that it does the same thing!\n",
    "\n",
    "- Create a tensor `x` with value 2.0 and set `requires_grad=True`.\n",
    "\n",
    "- Write the equation above in Python ($y=3x^2+3$).\n",
    "\n",
    "- Then, call `y.backward()`. This step computes the gradient of `y` with respect to the change in `x` at the value of `x=2.0`. It also stores the gradient in `x.grad`.\n",
    "\n",
    "- Print `x.grad`. Confirm that it equals the same value you got above for $\\frac{dy}{dx}(2)$!\n"
   ]
  },
  {
   "cell_type": "code",
   "execution_count": 12,
   "metadata": {
    "colab": {
     "base_uri": "https://localhost:8080/",
     "height": 64
    },
    "executionInfo": {
     "elapsed": 403,
     "status": "ok",
     "timestamp": 1688050750356,
     "user": {
      "displayName": "Ruth Vilar",
      "userId": "17604228112721847304"
     },
     "user_tz": -120
    },
    "id": "odnmAW_XnNtK",
    "outputId": "faafce77-052c-4ccb-890f-aba43ae3ec67"
   },
   "outputs": [
    {
     "data": {
      "text/markdown": [
       "## Correct! 🎉"
      ],
      "text/plain": [
       "<IPython.core.display.Markdown object>"
      ]
     },
     "execution_count": 12,
     "metadata": {},
     "output_type": "execute_result"
    }
   ],
   "source": [
    "x = torch.tensor(2., requires_grad=True)\n",
    "y=3*x**2+3\n",
    "y.backward()\n",
    "x.grad\n",
    "\n",
    "check('1.4.2', x.grad)"
   ]
  },
  {
   "cell_type": "markdown",
   "metadata": {
    "id": "g6Uz6Ezm6dgZ"
   },
   "source": [
    "3) Cool! We've checked for a simple example that PyTorch automatically computes and stores gradients with the `backward()` function. Now let's see gradients in action in our newly created MLP.\n",
    "\n",
    "**TODO**:\n",
    "\n",
    "- Instantiate the `MLP` class into the `model` variable. Be sure to do this first!\n",
    "- Create a random tensor `x` that is size 10 and run a forward pass through the model, storing the result in `output`.\n",
    "- Print the `.grad` attribute in the first layer's weights. What is the value?\n",
    "- Then, run the `.backward()` pass on the `output` tensor. Now, print the `.grad` attribute again on the first layer's weights. What do you get this time?"
   ]
  },
  {
   "cell_type": "code",
   "execution_count": 14,
   "metadata": {
    "colab": {
     "base_uri": "https://localhost:8080/",
     "height": 429
    },
    "executionInfo": {
     "elapsed": 4,
     "status": "ok",
     "timestamp": 1688051005291,
     "user": {
      "displayName": "Ruth Vilar",
      "userId": "17604228112721847304"
     },
     "user_tz": -120
    },
    "id": "3cMF1yjiJq39",
    "outputId": "8c20cb09-9c02-4e3c-bfa5-4194d257d49a"
   },
   "outputs": [
    {
     "name": "stdout",
     "output_type": "stream",
     "text": [
      "None\n",
      "tensor([[ 0.0748,  0.0344,  0.0584,  0.0495,  0.0599,  0.0277,  0.0625,  0.0127,\n",
      "          0.0515,  0.0136],\n",
      "        [ 0.0000,  0.0000,  0.0000,  0.0000,  0.0000,  0.0000,  0.0000,  0.0000,\n",
      "          0.0000,  0.0000],\n",
      "        [-0.1633, -0.0752, -0.1274, -0.1080, -0.1307, -0.0605, -0.1364, -0.0276,\n",
      "         -0.1124, -0.0297],\n",
      "        [ 0.0000,  0.0000,  0.0000,  0.0000,  0.0000,  0.0000,  0.0000,  0.0000,\n",
      "          0.0000,  0.0000],\n",
      "        [ 0.0000,  0.0000,  0.0000,  0.0000,  0.0000,  0.0000,  0.0000,  0.0000,\n",
      "          0.0000,  0.0000],\n",
      "        [ 0.0718,  0.0330,  0.0560,  0.0474,  0.0574,  0.0266,  0.0599,  0.0121,\n",
      "          0.0494,  0.0130],\n",
      "        [-0.0760, -0.0350, -0.0593, -0.0503, -0.0608, -0.0282, -0.0635, -0.0129,\n",
      "         -0.0523, -0.0138],\n",
      "        [ 0.1103,  0.0508,  0.0860,  0.0729,  0.0883,  0.0409,  0.0921,  0.0187,\n",
      "          0.0759,  0.0200],\n",
      "        [ 0.0000,  0.0000,  0.0000,  0.0000,  0.0000,  0.0000,  0.0000,  0.0000,\n",
      "          0.0000,  0.0000],\n",
      "        [ 0.1595,  0.0734,  0.1244,  0.1054,  0.1276,  0.0591,  0.1332,  0.0270,\n",
      "          0.1097,  0.0289]])\n"
     ]
    },
    {
     "data": {
      "text/markdown": [
       "## Correct! 🎉"
      ],
      "text/plain": [
       "<IPython.core.display.Markdown object>"
      ]
     },
     "execution_count": 14,
     "metadata": {},
     "output_type": "execute_result"
    }
   ],
   "source": [
    "torch.manual_seed(0)\n",
    "# first, create your model\n",
    "model = MLP()\n",
    "# then, create your input tensor\n",
    "x = torch.rand(10)\n",
    "# then, get the model output\n",
    "output = model(x)\n",
    "# print the gradient\n",
    "print(model.l1.weight.grad)\n",
    "# run the backward pass\n",
    "output.backward()\n",
    "# finally, print the gradient again\n",
    "print(model.l1.weight.grad)\n",
    "check('1.4.3', model.l1.weight.grad)"
   ]
  },
  {
   "cell_type": "markdown",
   "metadata": {
    "id": "WfD_EnZELeiO"
   },
   "source": [
    "**Congratulations!** 🎉🎉🎉\n",
    "\n",
    "You've successfully completed the first part of this assignment."
   ]
  },
  {
   "cell_type": "markdown",
   "metadata": {
    "id": "N_V6IoDHytHG"
   },
   "source": [
    "# Part 2 - Datasets and Data Loaders (~20 min)\n",
    "\n",
    "Now that you've created your first neural network model, let's put it to the test."
   ]
  },
  {
   "cell_type": "markdown",
   "metadata": {
    "id": "vNGjo7iuju3d"
   },
   "source": [
    "### Doodle to Emoji Demo App\n",
    "Let's say you're working for a mobile messaging company. You've noticed how much time people spend trying to find the right emoji, scrolling endlessly through the options given in the keyboard. Sometimes, even searching for it using keywords doesn't give you what you want!\n",
    "\n",
    "To solve this, you've taken it on your own to create a way for users to just *draw* the emoji they want!\n",
    "\n",
    "**Using a neural network, develop a model that can translate a user-drawn doodle into its corresponding emoji.**\n",
    "\n",
    "<img src=\"https://drive.google.com/uc?id=1XGb5lO0t-vAx7rSs_LUVHngFTbfdlrr8\" width=\"600\">\n",
    "\n",
    "You've been given the user interface below, and your job is to train ```model``` such that it gives accurate results. Currently, ```model``` is just a dummy function, but feel free to try out the interface! (The predictions will just be placeholders).\n",
    "\n",
    "To make things a little simpler, we will focus on emojis for this project.\n",
    "\n",
    "The ten emojis are:\n",
    "\n",
    "- smile 😄, eyes 👀, car 🚗, star ⭐, stop sign 🛑, bed 🛏️, baseball ⚾, basketball 🏀, pizza 🍕, bicycle 🚲"
   ]
  },
  {
   "cell_type": "markdown",
   "metadata": {
    "id": "MBlhUaTIIgTB"
   },
   "source": [
    "### Step 1: **Run the demo below!**\n",
    "\n",
    "Play around with the tool and try drawing sketches of emojis! Note that because we are only using a placeholder model, all of the predictions will be the same regardless of your sketch 😀.\n",
    "\n",
    "To stop the demo, press the stop button on the top left of the cell."
   ]
  },
  {
   "cell_type": "code",
   "execution_count": 15,
   "metadata": {
    "colab": {
     "base_uri": "https://localhost:8080/",
     "height": 634
    },
    "executionInfo": {
     "elapsed": 52689,
     "status": "ok",
     "timestamp": 1688051149059,
     "user": {
      "displayName": "Ruth Vilar",
      "userId": "17604228112721847304"
     },
     "user_tz": -120
    },
    "id": "n97XzvoL0yrl",
    "outputId": "568c37b0-c859-443e-c777-02a27fc5f1e6"
   },
   "outputs": [
    {
     "name": "stdout",
     "output_type": "stream",
     "text": [
      "Colab notebook detected. This cell will run indefinitely so that you can see errors and logs. To turn off, set debug=False in launch().\n",
      "Note: opening Chrome Inspector may crash demo inside Colab notebooks.\n",
      "\n",
      "To create a public link, set `share=True` in `launch()`.\n"
     ]
    },
    {
     "data": {
      "application/javascript": [
       "(async (port, path, width, height, cache, element) => {\n",
       "                        if (!google.colab.kernel.accessAllowed && !cache) {\n",
       "                            return;\n",
       "                        }\n",
       "                        element.appendChild(document.createTextNode(''));\n",
       "                        const url = await google.colab.kernel.proxyPort(port, {cache});\n",
       "\n",
       "                        const external_link = document.createElement('div');\n",
       "                        external_link.innerHTML = `\n",
       "                            <div style=\"font-family: monospace; margin-bottom: 0.5rem\">\n",
       "                                Running on <a href=${new URL(path, url).toString()} target=\"_blank\">\n",
       "                                    https://localhost:${port}${path}\n",
       "                                </a>\n",
       "                            </div>\n",
       "                        `;\n",
       "                        element.appendChild(external_link);\n",
       "\n",
       "                        const iframe = document.createElement('iframe');\n",
       "                        iframe.src = new URL(path, url).toString();\n",
       "                        iframe.height = height;\n",
       "                        iframe.allow = \"autoplay; camera; microphone; clipboard-read; clipboard-write;\"\n",
       "                        iframe.width = width;\n",
       "                        iframe.style.border = 0;\n",
       "                        element.appendChild(iframe);\n",
       "                    })(7860, \"/\", \"100%\", 500, false, window.element)"
      ],
      "text/plain": [
       "<IPython.core.display.Javascript object>"
      ]
     },
     "metadata": {},
     "output_type": "display_data"
    },
    {
     "name": "stdout",
     "output_type": "stream",
     "text": [
      "Keyboard interruption in main thread... closing server.\n"
     ]
    },
    {
     "data": {
      "text/plain": []
     },
     "execution_count": 15,
     "metadata": {},
     "output_type": "execute_result"
    }
   ],
   "source": [
    "def predict(doodle):\n",
    "    if doodle is None: return\n",
    "    doodle = doodle / 255.\n",
    "    y_hats = np.array([0.1]*10)\n",
    "    emoji_names = np.array(list(DOODLE_TO_EMOJI_MAP.values()))\n",
    "    emoji_dict = {emoji_names[i]: float(y_hat) for i, y_hat in enumerate(y_hats)}\n",
    "    return emoji_dict\n",
    "\n",
    "interface = gr.Interface(predict, inputs='sketchpad', outputs='label', theme=\"default\", live=True, description=\"Guess the Doodle!\")\n",
    "interface.launch(debug=True)"
   ]
  },
  {
   "cell_type": "markdown",
   "metadata": {
    "id": "zCNH8oRxIoCp"
   },
   "source": [
    "The rest of this week's project will focus on *training your own model* to predict the correct emoji from a sketch.\n",
    "\n",
    "In order to train a model, we must have data! Now, we will introduce two classes: `Dataset` and `DataLoader`.\n",
    "\n",
    "Remember to stop the previous cell before continuing!"
   ]
  },
  {
   "cell_type": "markdown",
   "metadata": {
    "id": "rWZVTQKLzkwi"
   },
   "source": [
    "### Step 2: The `Dataset` class\n",
    "\n",
    "As you might imagine, loading data is a big part of training a neural network. To make things easier, PyTorch has a whole class defined that just deals with loading data for the neural network.\n",
    "\n",
    "This class is called a [PyTorch Dataset](https://pytorch.org/tutorials/beginner/basics/data_tutorial.html). To create a PyTorch Dataset, just create a class that inherits the `torch.utils.data.Dataset` abstract class. There are a lot of methods that come along for the ride, but the two that you need to override to customize any PyTorch Dataset are:\n",
    "\n",
    "- `__len__` so that `len(dataset)` returns the size of the dataset.\n",
    "- `__getitem__` to support the indexing such that `dataset[i]` can be used to get `i`th sample."
   ]
  },
  {
   "cell_type": "markdown",
   "metadata": {
    "id": "3TFPCtFORvI2"
   },
   "source": [
    "1) Create a PyTorch Dataset class using the template provided below.\n",
    "\n",
    "We've included a function, `split()`, which returns three Datasets: a train, validation, and test dataset with the validation and test dataset each containing `pct` percent of the total data and the training data containing the rest."
   ]
  },
  {
   "cell_type": "code",
   "execution_count": 16,
   "metadata": {
    "executionInfo": {
     "elapsed": 203,
     "status": "ok",
     "timestamp": 1688051537449,
     "user": {
      "displayName": "Ruth Vilar",
      "userId": "17604228112721847304"
     },
     "user_tz": -120
    },
    "id": "VQO_Fa6uzj1s"
   },
   "outputs": [],
   "source": [
    "class EmojiDataset(torch.utils.data.Dataset):\n",
    "    def __init__(self):\n",
    "        super().__init__()\n",
    "\n",
    "        # TODO: Initialize class_names and num_classes instance variables\n",
    "        self.class_names = list(DOODLE_TO_EMOJI_MAP.keys())\n",
    "        self.num_classes = 10\n",
    "\n",
    "        # TODO: Get and set X, Y\n",
    "        self.X = np.load('/content/drive/MyDrive/DLE-Jun23/Projects/dle_utils/emoji_data/emoji_X.npy')\n",
    "        self.Y = np.load('/content/drive/MyDrive/DLE-Jun23/Projects/dle_utils/emoji_data/emoji_y.npy')\n",
    "\n",
    "    def __getitem__(self, idx):\n",
    "        # TODO: Get X[idx]\n",
    "        x = self.X[idx]\n",
    "        # TODO: Normalize image to [0, 1] range\n",
    "        x = x/255\n",
    "        # TODO: Convert datatype to np.float32\n",
    "        x=x.astype(np.float32)\n",
    "        # TODO: Convert x to a Torch tensor object\n",
    "        x=torch.from_numpy(x)\n",
    "        y = self.Y[idx]\n",
    "        return x, y\n",
    "\n",
    "    def __len__(self):\n",
    "        # TODO: Return the number of images in X\n",
    "        len_X=len(self.X)\n",
    "        return len_X\n",
    "\n",
    "    def split(self, pct=0.1):\n",
    "        # Nothing to do here, this function just splits your data\n",
    "        torch.manual_seed(0)\n",
    "        indices = torch.randperm(len(self)).tolist()\n",
    "        n_pct = int(np.floor(len(indices) * pct))\n",
    "        train_ds = torch.utils.data.Subset(self, indices[:-(2*n_pct)])\n",
    "        val_ds = torch.utils.data.Subset(self, indices[-(2*n_pct):-n_pct])\n",
    "        test_ds = torch.utils.data.Subset(self, indices[-n_pct:])\n",
    "        return train_ds, val_ds, test_ds\n"
   ]
  },
  {
   "cell_type": "markdown",
   "metadata": {
    "id": "1mUyFIVLFfW9"
   },
   "source": [
    "Now use the `EmojiDataset` class to create `train_ds`, `val_ds`, and `test_ds`. Set `pct=0.1`. This will randomly split the entire dataset into 80\\% training, 10\\% validation, and 10\\% testing data."
   ]
  },
  {
   "cell_type": "code",
   "execution_count": 24,
   "metadata": {
    "colab": {
     "base_uri": "https://localhost:8080/",
     "height": 64
    },
    "executionInfo": {
     "elapsed": 491,
     "status": "ok",
     "timestamp": 1688052292086,
     "user": {
      "displayName": "Ruth Vilar",
      "userId": "17604228112721847304"
     },
     "user_tz": -120
    },
    "id": "s1yN_v01-OUI",
    "outputId": "e2960ef4-5ddc-41ea-d898-3acc188b618b"
   },
   "outputs": [
    {
     "data": {
      "text/markdown": [
       "## Correct! 🎉"
      ],
      "text/plain": [
       "<IPython.core.display.Markdown object>"
      ]
     },
     "execution_count": 24,
     "metadata": {},
     "output_type": "execute_result"
    }
   ],
   "source": [
    "# TODO: Instantiate EmojiDataset\n",
    "Emoji_Dataset =EmojiDataset()\n",
    "# TODO: Partition ds into train_ds, val_ds, test_ds\n",
    "train_ds, val_ds, test_ds =Emoji_Dataset.split(pct=0.1)\n",
    "check('1.5.1', [train_ds, val_ds, test_ds])"
   ]
  },
  {
   "cell_type": "markdown",
   "metadata": {
    "id": "aG2kZxuap7X1"
   },
   "source": [
    "2) Now, using the training dataset, visualize the first 10 doodles and print the class name. A `Dataset` object can be accessed in two ways:\n",
    "\n",
    "- Access a specific index or range of indices, just as you would with a list.\n",
    "- A dataset is `Iterable`, meaning you can use it in a loop:\n",
    "\n",
    "        for data, label in train_ds:\n",
    "          ...\n",
    "\n",
    "**Hint**: You'll have to reshape the image size to `(28,28)`.\n",
    "\n",
    "\n"
   ]
  },
  {
   "cell_type": "code",
   "execution_count": 26,
   "metadata": {
    "colab": {
     "base_uri": "https://localhost:8080/",
     "height": 1000
    },
    "executionInfo": {
     "elapsed": 2502,
     "status": "ok",
     "timestamp": 1688052332151,
     "user": {
      "displayName": "Ruth Vilar",
      "userId": "17604228112721847304"
     },
     "user_tz": -120
    },
    "id": "vnh8jxfQO5iu",
    "outputId": "4d130851-f860-4f9d-cfd7-57657b4e8ef7"
   },
   "outputs": [
    {
     "data": {
      "image/png": "[encoded data removed]",
      "text/plain": [
       "<Figure size 640x480 with 1 Axes>"
      ]
     },
     "metadata": {},
     "output_type": "display_data"
    },
    {
     "data": {
      "image/png": "[encoded data removed]",
      "text/plain": [
       "<Figure size 640x480 with 1 Axes>"
      ]
     },
     "metadata": {},
     "output_type": "display_data"
    },
    {
     "data": {
      "image/png": "[encoded data removed]",
      "text/plain": [
       "<Figure size 640x480 with 1 Axes>"
      ]
     },
     "metadata": {},
     "output_type": "display_data"
    },
    {
     "data": {
      "image/png": "[encoded data removed]",
      "text/plain": [
       "<Figure size 640x480 with 1 Axes>"
      ]
     },
     "metadata": {},
     "output_type": "display_data"
    },
    {
     "data": {
      "image/png": "[encoded data removed]",
      "text/plain": [
       "<Figure size 640x480 with 1 Axes>"
      ]
     },
     "metadata": {},
     "output_type": "display_data"
    },
    {
     "data": {
      "image/png": "[encoded data removed]",
      "text/plain": [
       "<Figure size 640x480 with 1 Axes>"
      ]
     },
     "metadata": {},
     "output_type": "display_data"
    },
    {
     "data": {
      "image/png": "[encoded data removed]",
      "text/plain": [
       "<Figure size 640x480 with 1 Axes>"
      ]
     },
     "metadata": {},
     "output_type": "display_data"
    },
    {
     "data": {
      "image/png": "[encoded data removed]",
      "text/plain": [
       "<Figure size 640x480 with 1 Axes>"
      ]
     },
     "metadata": {},
     "output_type": "display_data"
    },
    {
     "data": {
      "image/png": "[encoded data removed]",
      "text/plain": [
       "<Figure size 640x480 with 1 Axes>"
      ]
     },
     "metadata": {},
     "output_type": "display_data"
    },
    {
     "data": {
      "image/png": "[encoded data removed]",
      "text/plain": [
       "<Figure size 640x480 with 1 Axes>"
      ]
     },
     "metadata": {},
     "output_type": "display_data"
    },
    {
     "data": {
      "text/markdown": [
       "## Correct! 🎉"
      ],
      "text/plain": [
       "<IPython.core.display.Markdown object>"
      ]
     },
     "execution_count": 26,
     "metadata": {},
     "output_type": "execute_result"
    }
   ],
   "source": [
    "# TODO: Iterate through train_ds, displaying the image using plt.imshow() and printing the class\n",
    "# No answer checking here, you'll know you've done it right when you see 10 images with labels!\n",
    "import matplotlib.pyplot as plt\n",
    "\n",
    "for idx in range(10):\n",
    "  data, label = train_ds[idx]\n",
    "  img = data.reshape(28,28)\n",
    "  plt.imshow(img)\n",
    "  plt.title(label)\n",
    "  plt.show()\n",
    "\n",
    "check('1.5.2', None)"
   ]
  },
  {
   "cell_type": "markdown",
   "metadata": {
    "id": "ZUK7QZ7iH3ZR"
   },
   "source": [
    "### Step 3: The `DataLoader` class\n",
    "Next, we will create a `DataLoader` object. Since deep learning models are typically trained in batches of data points, the `DataLoader` acts as a wrapper over the `Dataset` object and automatically aggregates data points into batches. It also can perform other useful functions like randomly shuffling the data points.\n",
    "\n",
    "Take a second and read over the PyTorch documentation for DataLoaders to get a sense of the API:\n",
    "\n",
    "https://pytorch.org/tutorials/beginner/basics/data_tutorial.html"
   ]
  },
  {
   "cell_type": "markdown",
   "metadata": {
    "id": "eUYiDv-6SWJc"
   },
   "source": [
    "1) Using the `EmojiDataset` class we mentioned above, create three `DataLoader` objects: one for training (call it `train_dataloader`), one for validation (`val_dataloader`), and one for testing (`test_dataloader`). (We've included the code for `train_dataloader`). Set the batch size as a variable `batch_size` to 64 and `shuffle=True`."
   ]
  },
  {
   "cell_type": "code",
   "execution_count": 27,
   "metadata": {
    "colab": {
     "base_uri": "https://localhost:8080/",
     "height": 64
    },
    "executionInfo": {
     "elapsed": 201,
     "status": "ok",
     "timestamp": 1688052620436,
     "user": {
      "displayName": "Ruth Vilar",
      "userId": "17604228112721847304"
     },
     "user_tz": -120
    },
    "id": "3_CzfNX_PUEu",
    "outputId": "9a3d894c-866e-4083-b947-3fccb5d55135"
   },
   "outputs": [
    {
     "data": {
      "text/markdown": [
       "## Correct! 🎉"
      ],
      "text/plain": [
       "<IPython.core.display.Markdown object>"
      ]
     },
     "execution_count": 27,
     "metadata": {},
     "output_type": "execute_result"
    }
   ],
   "source": [
    "# TODO: Create three DataLoader objects\n",
    "batch_size = 64\n",
    "train_dataloader = torch.utils.data.DataLoader(train_ds, batch_size=batch_size, shuffle=True)\n",
    "val_dataloader = torch.utils.data.DataLoader(val_ds, batch_size=batch_size, shuffle=True)\n",
    "test_dataloader = torch.utils.data.DataLoader(test_ds, batch_size=batch_size, shuffle=True)\n",
    "\n",
    "check('1.6.1', [train_dataloader, val_dataloader, test_dataloader])\n"
   ]
  },
  {
   "cell_type": "markdown",
   "metadata": {
    "id": "JrnBj8vdhZoL"
   },
   "source": [
    "### Step 4: The Emoji MLP\n",
    "\n",
    "Now that we've defined how to load and generate data, let's create an MLP model specifically for the dataset.\n",
    "\n",
    "Note that there are a vast number of potential architectures that you can possibly choose from! Here, we describe a basic neural network that has two important specifications:\n",
    "\n",
    "- The number of input features is equal to the number of pixels in a sketch training example (784).\n",
    "- The number of output features is equal to the number of classes (10).\n",
    "\n",
    "**TODO**: Define a PyTorch `nn.Module` class (call it `EmojiMLP`) with the following specifications:\n",
    "- An linear layer with:\n",
    " - 784 input features\n",
    " - 64 output features\n",
    " - Followed by ReLU activation function\n",
    "- A second linear layer with:\n",
    " - 64 input features\n",
    " - 32 output features\n",
    " - Followed by ReLU activation function\n",
    "- An output linear layer with:\n",
    " - 32 input features\n",
    " - 10 output features\n",
    " - No activation function\n"
   ]
  },
  {
   "cell_type": "code",
   "execution_count": 28,
   "metadata": {
    "colab": {
     "base_uri": "https://localhost:8080/",
     "height": 64
    },
    "executionInfo": {
     "elapsed": 191,
     "status": "ok",
     "timestamp": 1688052910103,
     "user": {
      "displayName": "Ruth Vilar",
      "userId": "17604228112721847304"
     },
     "user_tz": -120
    },
    "id": "KcXatfcDhZH-",
    "outputId": "4e9d9f93-0198-4925-b056-13b3c0794c83"
   },
   "outputs": [
    {
     "data": {
      "text/markdown": [
       "## Correct! 🎉"
      ],
      "text/plain": [
       "<IPython.core.display.Markdown object>"
      ]
     },
     "execution_count": 28,
     "metadata": {},
     "output_type": "execute_result"
    }
   ],
   "source": [
    "class EmojiMLP(nn.Module):\n",
    "  def __init__(self):\n",
    "    super().__init__()\n",
    "    self.l1 = nn.Linear(784, 64)\n",
    "    self.l2 = nn.Linear(64, 32)\n",
    "    self.l3 = nn.Linear(32, 10)\n",
    "    self.relu = nn.ReLU()\n",
    "\n",
    "  def forward(self,x):\n",
    "    x = self.relu(self.l1(x))\n",
    "    x = self.relu(self.l2(x))\n",
    "    output = self.l3(x)\n",
    "    return output\n",
    "\n",
    "model = EmojiMLP()\n",
    "check('1.6.2', model)"
   ]
  },
  {
   "cell_type": "markdown",
   "metadata": {
    "id": "ZsKq87jiHEbN"
   },
   "source": [
    "# Part 3: Training (~10 min)\n",
    "\n",
    "### ✅ Data + ✅ Model + ☑️ Training = ✨️ Success!\n",
    "\n",
    "The last piece of the pie is the training!\n",
    "\n",
    "However, for this week, we will not be going in detail about the training code 😀 (we will next week!)\n",
    "\n",
    "Instead, we have provided the training code in the `train()` function in a script, `train.py`. You will simply have to provide the model and data into the `train()` function.\n",
    "\n"
   ]
  },
  {
   "cell_type": "markdown",
   "metadata": {
    "id": "Pz5jKxA-TPHT"
   },
   "source": [
    "1) Train your model!\n",
    "\n",
    "Import the `train.py` file and call the `train()` function to train, and the `evaluate()` function to see how your model performs!\n",
    "\n",
    "We encourage you to take a look at `train.py`. In the left panel, click the folder icon 📁. Navigate to the folder `drive/MyDrive/DLE-Jun23/Projects/Week1`. Open the file `train.py`. The file should appear in the right panel of the notebook.\n"
   ]
  },
  {
   "cell_type": "code",
   "execution_count": 29,
   "metadata": {
    "colab": {
     "base_uri": "https://localhost:8080/",
     "height": 151
    },
    "executionInfo": {
     "elapsed": 60839,
     "status": "ok",
     "timestamp": 1688053074403,
     "user": {
      "displayName": "Ruth Vilar",
      "userId": "17604228112721847304"
     },
     "user_tz": -120
    },
    "id": "s8VNr7O0E-2A",
    "outputId": "fcb466c8-43d8-4c48-e8ed-66f5465b5ed4"
   },
   "outputs": [
    {
     "name": "stdout",
     "output_type": "stream",
     "text": [
      "Training model...\n"
     ]
    },
    {
     "name": "stderr",
     "output_type": "stream",
     "text": [
      "100%|██████████| 10/10 [00:58<00:00,  5.88s/it]\n"
     ]
    },
    {
     "name": "stdout",
     "output_type": "stream",
     "text": [
      "Finished training successfully!\n",
      "Evaluating model...\n",
      "Model accuracy: 0.80215\n"
     ]
    },
    {
     "data": {
      "text/markdown": [
       "## Correct! 🎉"
      ],
      "text/plain": [
       "<IPython.core.display.Markdown object>"
      ]
     },
     "execution_count": 29,
     "metadata": {},
     "output_type": "execute_result"
    }
   ],
   "source": [
    "from Week1.train import *\n",
    "emoji_model = EmojiMLP()\n",
    "train(model=emoji_model,\n",
    "      train_dataloader=train_dataloader,\n",
    "      val_dataloader=val_dataloader)\n",
    "\n",
    "accuracy = evaluate(emoji_model, test_dataloader)\n",
    "print(f\"Model accuracy: {accuracy}\")\n",
    "check('1.7.1', accuracy)"
   ]
  },
  {
   "cell_type": "markdown",
   "metadata": {
    "id": "6B82kpgCTcDR"
   },
   "source": [
    "4) Play with your trained model\n",
    "\n",
    "Now all the hard work is paid off! Run the demo below."
   ]
  },
  {
   "cell_type": "code",
   "execution_count": 30,
   "metadata": {
    "colab": {
     "base_uri": "https://localhost:8080/",
     "height": 634
    },
    "executionInfo": {
     "elapsed": 77559,
     "status": "ok",
     "timestamp": 1688053167725,
     "user": {
      "displayName": "Ruth Vilar",
      "userId": "17604228112721847304"
     },
     "user_tz": -120
    },
    "id": "aGgaGMj1Tq25",
    "outputId": "5f374c30-5bf6-48e9-c820-1fdcabde822f"
   },
   "outputs": [
    {
     "name": "stdout",
     "output_type": "stream",
     "text": [
      "Colab notebook detected. This cell will run indefinitely so that you can see errors and logs. To turn off, set debug=False in launch().\n",
      "Note: opening Chrome Inspector may crash demo inside Colab notebooks.\n",
      "\n",
      "To create a public link, set `share=True` in `launch()`.\n"
     ]
    },
    {
     "data": {
      "application/javascript": [
       "(async (port, path, width, height, cache, element) => {\n",
       "                        if (!google.colab.kernel.accessAllowed && !cache) {\n",
       "                            return;\n",
       "                        }\n",
       "                        element.appendChild(document.createTextNode(''));\n",
       "                        const url = await google.colab.kernel.proxyPort(port, {cache});\n",
       "\n",
       "                        const external_link = document.createElement('div');\n",
       "                        external_link.innerHTML = `\n",
       "                            <div style=\"font-family: monospace; margin-bottom: 0.5rem\">\n",
       "                                Running on <a href=${new URL(path, url).toString()} target=\"_blank\">\n",
       "                                    https://localhost:${port}${path}\n",
       "                                </a>\n",
       "                            </div>\n",
       "                        `;\n",
       "                        element.appendChild(external_link);\n",
       "\n",
       "                        const iframe = document.createElement('iframe');\n",
       "                        iframe.src = new URL(path, url).toString();\n",
       "                        iframe.height = height;\n",
       "                        iframe.allow = \"autoplay; camera; microphone; clipboard-read; clipboard-write;\"\n",
       "                        iframe.width = width;\n",
       "                        iframe.style.border = 0;\n",
       "                        element.appendChild(iframe);\n",
       "                    })(7860, \"/\", \"100%\", 500, false, window.element)"
      ],
      "text/plain": [
       "<IPython.core.display.Javascript object>"
      ]
     },
     "metadata": {},
     "output_type": "display_data"
    },
    {
     "name": "stdout",
     "output_type": "stream",
     "text": [
      "Keyboard interruption in main thread... closing server.\n"
     ]
    },
    {
     "data": {
      "text/plain": []
     },
     "execution_count": 30,
     "metadata": {},
     "output_type": "execute_result"
    }
   ],
   "source": [
    "from scipy.special import softmax\n",
    "\n",
    "def get_prediction(doodle):\n",
    "  pt_input = torch.Tensor(doodle).view(1, doodle.shape[0]*doodle.shape[1])\n",
    "  y_hats = emoji_model(pt_input).detach().numpy()[0]\n",
    "  y_hats = softmax(y_hats)\n",
    "  return y_hats\n",
    "\n",
    "def predict(doodle):\n",
    "  if doodle is None:\n",
    "    return\n",
    "  doodle = doodle / 255.\n",
    "  y_hats = get_prediction(doodle)\n",
    "  emoji_names = np.array(list(DOODLE_TO_EMOJI_MAP.values()))\n",
    "  emoji_dict = {emoji_names[i]: float(y_hat) for i, y_hat in enumerate(y_hats)}\n",
    "  return emoji_dict\n",
    "\n",
    "interface = gr.Interface(predict, inputs='sketchpad', outputs='label', theme=\"default\", live=True, description=\"Guess the Doodle!\")\n",
    "interface.launch(debug=True)"
   ]
  },
  {
   "cell_type": "markdown",
   "metadata": {
    "id": "mFBBya0kszzk"
   },
   "source": [
    " 🎊Congratulations 🎊!\n",
    "\n",
    "You've finished the first week 💪.\n",
    "\n",
    "Head over to the Corise course website and submit your project!"
   ]
  }
 ],
 "metadata": {
  "accelerator": "GPU",
  "colab": {
   "provenance": []
  },
  "gpuClass": "standard",
  "kernelspec": {
   "display_name": "Python 3 (ipykernel)",
   "language": "python",
   "name": "python3"
  },
  "language_info": {
   "codemirror_mode": {
    "name": "ipython",
    "version": 3
   },
   "file_extension": ".py",
   "mimetype": "text/x-python",
   "name": "python",
   "nbconvert_exporter": "python",
   "pygments_lexer": "ipython3",
   "version": "3.9.13"
  }
 },
 "nbformat": 4,
 "nbformat_minor": 1
}
